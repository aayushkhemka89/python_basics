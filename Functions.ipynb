{
 "cells": [
  {
   "cell_type": "markdown",
   "id": "861e5063",
   "metadata": {},
   "source": [
    "# Python Function\n",
    "\n",
    "A function is a block of organized, reusable code that is used to perform a single, related action. Functions provide better modularity for your application and a high degree of code reusing.\n",
    "\n",
    "As you already know, Python gives you many built-in functions like `print()`, etc. but you can also create your own functions. These functions are called user-defined functions.\n",
    "\n",
    "\n",
    "Defining funtion:\n",
    "\n",
    "* Keyword `def` that marks the start of the function header.\n",
    "* A function name to uniquely identify the function.\n",
    "* Parameters (arguments) through which we pass values to a function. They are optional.\n",
    "* A colon (:) to mark the end of the function header.\n",
    "* Optional documentation string (docstring) to describe what the function does.\n",
    "* One or more valid python statements that make up the function body. Statements must have the same indentation level.\n",
    "* An optional return statement to return a value from the function.\n",
    "\n",
    "\n",
    "syntax of function\n",
    "```\n",
    "def function_name(parameters):\n",
    "    \"\"\"docstring\"\"\"\n",
    "    statement(s)\n",
    "```"
   ]
  },
  {
   "cell_type": "markdown",
   "id": "929896bb",
   "metadata": {},
   "source": [
    "## Types of Function\n",
    "\n",
    "There are two types of function:\n",
    "1. Built-in functions\n",
    "2. User-defined functions"
   ]
  },
  {
   "cell_type": "code",
   "execution_count": 5,
   "id": "23f4d28b",
   "metadata": {},
   "outputs": [],
   "source": [
    "def welcome_msg(name):\n",
    "    \"\"\"\n",
    "    This fucntion will welcome the person whose name is passed\n",
    "    name: it takes in a person names, it should be str\n",
    "    \"\"\"\n",
    "    print(\"Hey {}, welcome to data vader session on functions\".format(name))"
   ]
  },
  {
   "cell_type": "markdown",
   "id": "b5b0dbf4",
   "metadata": {},
   "source": [
    "### Calling a Function\n",
    "Defining a function only gives it a name, specifies the parameters that are to be included in the function and structures the blocks of code.\n",
    "\n",
    "In order to execute the funciton we need to call it, we caan call it anywhere. To call the function we key in the function name with appropriate parameters."
   ]
  },
  {
   "cell_type": "code",
   "execution_count": 2,
   "id": "d40319a1",
   "metadata": {},
   "outputs": [
    {
     "name": "stdout",
     "output_type": "stream",
     "text": [
      "Hey Aayush, welcome to data vader session on functions\n"
     ]
    }
   ],
   "source": [
    "welcome_msg(\"Aayush\")"
   ]
  },
  {
   "cell_type": "markdown",
   "id": "1ded6439",
   "metadata": {},
   "source": [
    "### Docstrings\n",
    "The first string after the function header is called the docstring and is short for documentation string. We provide a summary of what the function does.\n",
    "\n",
    "Although optional, documentation is a good programming practice.\n",
    "\n",
    "In the above example, we have a docstring immediately below the function header. We generally use triple quotes so that docstring can extend up to multiple lines. This string is available to us as the `__doc__` attribute of the function."
   ]
  },
  {
   "cell_type": "code",
   "execution_count": 6,
   "id": "e87fbfbe",
   "metadata": {},
   "outputs": [
    {
     "name": "stdout",
     "output_type": "stream",
     "text": [
      "\n",
      "    This fucntion will welcome the person whose name is passed\n",
      "    name: it takes in a person names, it should be str\n",
      "    \n"
     ]
    }
   ],
   "source": [
    "print(welcome_msg.__doc__)"
   ]
  },
  {
   "cell_type": "code",
   "execution_count": 7,
   "id": "7743a872",
   "metadata": {},
   "outputs": [
    {
     "name": "stdout",
     "output_type": "stream",
     "text": [
      "print(value, ..., sep=' ', end='\\n', file=sys.stdout, flush=False)\n",
      "\n",
      "Prints the values to a stream, or to sys.stdout by default.\n",
      "Optional keyword arguments:\n",
      "file:  a file-like object (stream); defaults to the current sys.stdout.\n",
      "sep:   string inserted between values, default a space.\n",
      "end:   string appended after the last value, default a newline.\n",
      "flush: whether to forcibly flush the stream.\n"
     ]
    }
   ],
   "source": [
    "print(print.__doc__)"
   ]
  },
  {
   "cell_type": "markdown",
   "id": "42f42a83",
   "metadata": {},
   "source": [
    "### return Statement\n",
    "The statement `return <expression>` exits a function, optionally passing back an expression to the caller. A return statement with no arguments is the same as return `None`. \n",
    "\n",
    "If there is no expression in the statement or the return statement itself is not present inside a function, then the function will return the None object."
   ]
  },
  {
   "cell_type": "code",
   "execution_count": 4,
   "id": "4c0242a7",
   "metadata": {},
   "outputs": [
    {
     "name": "stdout",
     "output_type": "stream",
     "text": [
      "Hey Aayush, welcome to data vader session on functions\n",
      "<class 'NoneType'>\n"
     ]
    }
   ],
   "source": [
    "print(type(welcome_msg(\"Aayush\")))"
   ]
  },
  {
   "cell_type": "code",
   "execution_count": 13,
   "id": "20c49165",
   "metadata": {},
   "outputs": [],
   "source": [
    "def square(number):\n",
    "    \"\"\"\n",
    "    This function calculates square of a given nummber. \n",
    "    \"\"\"\n",
    "    print(number ** 2)\n",
    "    return number ** 2"
   ]
  },
  {
   "cell_type": "code",
   "execution_count": 14,
   "id": "276ffc66",
   "metadata": {},
   "outputs": [
    {
     "name": "stdout",
     "output_type": "stream",
     "text": [
      "25\n",
      "<class 'int'>\n"
     ]
    }
   ],
   "source": [
    "print(type(square(5)))"
   ]
  },
  {
   "cell_type": "markdown",
   "id": "6bdc90c2",
   "metadata": {},
   "source": [
    "### Scope and Lifetime of variables\n",
    "Scope of a variable is the portion of a program where the variable is recognized. Parameters and variables defined inside a function are not visible from outside the function. Hence, they have a local scope.\n",
    "\n",
    "The lifetime of a variable is the period throughout which the variable exits in the memory. The lifetime of variables inside a function is as long as the function executes.\n",
    "\n",
    "They are destroyed once we return from the function. Hence, a function does not remember the value of a variable from its previous calls."
   ]
  },
  {
   "cell_type": "code",
   "execution_count": 15,
   "id": "99c87a5e",
   "metadata": {},
   "outputs": [],
   "source": [
    "def add_two_numbers(x, y):\n",
    "    \"\"\"\n",
    "    This function adds the two numbers provided and returns the sum\n",
    "    \"\"\"\n",
    "    z = x + y\n",
    "    print(\"The sum of {} and {} is {}\".format(x,y,z))\n",
    "    return z"
   ]
  },
  {
   "cell_type": "code",
   "execution_count": 16,
   "id": "7ae6434f",
   "metadata": {},
   "outputs": [
    {
     "name": "stdout",
     "output_type": "stream",
     "text": [
      "The sum of 12 and 32 is 44\n",
      "44\n"
     ]
    }
   ],
   "source": [
    "x = 12\n",
    "y = 32\n",
    "z = 100\n",
    "print(add_two_numbers(x,y))"
   ]
  },
  {
   "cell_type": "code",
   "execution_count": 17,
   "id": "258e6e07",
   "metadata": {},
   "outputs": [
    {
     "name": "stdout",
     "output_type": "stream",
     "text": [
      "100\n"
     ]
    }
   ],
   "source": [
    "print(z)"
   ]
  },
  {
   "cell_type": "markdown",
   "id": "eb567306",
   "metadata": {},
   "source": [
    "### Pass by reference vs value\n",
    "All parameters (arguments) in the Python language are passed by reference. It means if you change what a parameter refers to within a function, the change also reflects back in the calling function."
   ]
  },
  {
   "cell_type": "code",
   "execution_count": 18,
   "id": "c6b7769a",
   "metadata": {},
   "outputs": [],
   "source": [
    "def list_change(my_list):\n",
    "    \"\"\"\n",
    "    This changes a passed list \n",
    "    \"\"\"\n",
    "    my_list.append([11,22,33,44])\n",
    "    print(\"Values inside the function:\", my_list)"
   ]
  },
  {
   "cell_type": "code",
   "execution_count": 19,
   "id": "509f2f91",
   "metadata": {},
   "outputs": [
    {
     "name": "stdout",
     "output_type": "stream",
     "text": [
      "Values inside the function: [1, 2, 3, [11, 22, 33, 44]]\n",
      "Values outside the function: [1, 2, 3, [11, 22, 33, 44]]\n"
     ]
    }
   ],
   "source": [
    "mylist = [1,2,3]\n",
    "list_change(mylist)\n",
    "print(\"Values outside the function:\", mylist)"
   ]
  },
  {
   "cell_type": "markdown",
   "id": "e1f1b78d",
   "metadata": {},
   "source": [
    "### Function Arguments\n",
    "You can call a function by using the 4 types of formal arguments:\n",
    "\n",
    "* Required arguments\n",
    "* Keyword arguments\n",
    "* Default arguments\n",
    "* Variable-length arguments"
   ]
  },
  {
   "cell_type": "markdown",
   "id": "25e98e9b",
   "metadata": {},
   "source": [
    "#### Required arguments\n",
    "Required arguments are the arguments passed to a function in correct positional order. Here, the number of arguments in the function call should match exactly with the function definition."
   ]
  },
  {
   "cell_type": "code",
   "execution_count": 28,
   "id": "81c3f454",
   "metadata": {},
   "outputs": [],
   "source": [
    "def welcome_msg_advanced(id_no, name, msg):\n",
    "    \"\"\"\n",
    "    This function greets to the person with the provided message\n",
    "    \"\"\"\n",
    "    print(id_no)\n",
    "    print(\"Hello {}, {}\".format(name, msg))"
   ]
  },
  {
   "cell_type": "code",
   "execution_count": 21,
   "id": "a0a1b8aa",
   "metadata": {},
   "outputs": [
    {
     "name": "stdout",
     "output_type": "stream",
     "text": [
      "Hello Aayush, hope you are enjoying the seesion.\n"
     ]
    }
   ],
   "source": [
    "welcome_msg_advanced(\"Aayush\", \"hope you are enjoying the seesion.\")"
   ]
  },
  {
   "cell_type": "code",
   "execution_count": 22,
   "id": "ddbdcad1",
   "metadata": {},
   "outputs": [
    {
     "name": "stdout",
     "output_type": "stream",
     "text": [
      "Hello hope you are enjoying the seesion., Aayush\n"
     ]
    }
   ],
   "source": [
    "welcome_msg_advanced(\"hope you are enjoying the seesion.\", \"Aayush\")"
   ]
  },
  {
   "cell_type": "code",
   "execution_count": 25,
   "id": "31d47dbe",
   "metadata": {},
   "outputs": [
    {
     "ename": "TypeError",
     "evalue": "welcome_msg_advanced() missing 1 required positional argument: 'msg'",
     "output_type": "error",
     "traceback": [
      "\u001b[1;31m---------------------------------------------------------------------------\u001b[0m",
      "\u001b[1;31mTypeError\u001b[0m                                 Traceback (most recent call last)",
      "\u001b[1;32m<ipython-input-25-af356b2e9d93>\u001b[0m in \u001b[0;36m<module>\u001b[1;34m\u001b[0m\n\u001b[1;32m----> 1\u001b[1;33m \u001b[0mwelcome_msg_advanced\u001b[0m\u001b[1;33m(\u001b[0m\u001b[1;34m\"Aayush\"\u001b[0m\u001b[1;33m)\u001b[0m\u001b[1;33m\u001b[0m\u001b[1;33m\u001b[0m\u001b[0m\n\u001b[0m",
      "\u001b[1;31mTypeError\u001b[0m: welcome_msg_advanced() missing 1 required positional argument: 'msg'"
     ]
    }
   ],
   "source": [
    "welcome_msg_advanced(\"Aayush\")"
   ]
  },
  {
   "cell_type": "markdown",
   "id": "4c417cb0",
   "metadata": {},
   "source": [
    "#### Keyword arguments\n",
    "Keyword arguments are related to the function calls. When you use keyword arguments in a function call, the caller identifies the arguments by the parameter name.\n",
    "\n",
    "This allows you to skip arguments or place them out of order because the Python interpreter is able to use the keywords provided to match the values with parameters."
   ]
  },
  {
   "cell_type": "code",
   "execution_count": 26,
   "id": "6830e76d",
   "metadata": {},
   "outputs": [
    {
     "name": "stdout",
     "output_type": "stream",
     "text": [
      "Hello Aayush, hope you are enjoying the seesion.\n"
     ]
    }
   ],
   "source": [
    "welcome_msg_advanced(msg = \"hope you are enjoying the seesion.\", name = \"Aayush\")"
   ]
  },
  {
   "cell_type": "code",
   "execution_count": 34,
   "id": "787da975",
   "metadata": {},
   "outputs": [
    {
     "name": "stdout",
     "output_type": "stream",
     "text": [
      "23\n",
      "Hello Aayush, welcome aboard.\n"
     ]
    }
   ],
   "source": [
    "welcome_msg_advanced(name = \"Aayush\", msg = \"welcome aboard.\", id_no = 23)"
   ]
  },
  {
   "cell_type": "markdown",
   "id": "adab9b38",
   "metadata": {},
   "source": [
    "#### Default arguments\n",
    "A default argument is an argument that assumes a default value if a value is not provided in the function call for that argument.\n",
    "\n",
    "Any number of arguments in a function can have a default value. But once we have a default argument, all the arguments to its right must also have default values. This means to say, non-default arguments cannot follow default arguments. "
   ]
  },
  {
   "cell_type": "code",
   "execution_count": 35,
   "id": "62eb0625",
   "metadata": {},
   "outputs": [],
   "source": [
    "def welcome_with_default_msg(name, msg = \"today we are learning about functions\"):\n",
    "    \"\"\"\n",
    "    This function prints\n",
    "    the person with the\n",
    "    provided message.\n",
    "\n",
    "    If the message is not provided,\n",
    "    it prints the default msg\n",
    "    \"\"\"\n",
    "\n",
    "    print(\"Hello {}, {}\".format(name, msg))"
   ]
  },
  {
   "cell_type": "code",
   "execution_count": 36,
   "id": "7c6a3063",
   "metadata": {},
   "outputs": [
    {
     "name": "stdout",
     "output_type": "stream",
     "text": [
      "Hello Aayush, welcome to session 4.\n"
     ]
    }
   ],
   "source": [
    "welcome_with_default_msg(\"Aayush\", \"welcome to session 4.\")"
   ]
  },
  {
   "cell_type": "code",
   "execution_count": 37,
   "id": "1b7aca90",
   "metadata": {},
   "outputs": [
    {
     "name": "stdout",
     "output_type": "stream",
     "text": [
      "Hello Aayush, today we are learning about functions\n"
     ]
    }
   ],
   "source": [
    "welcome_with_default_msg(\"Aayush\")"
   ]
  },
  {
   "cell_type": "code",
   "execution_count": 38,
   "id": "550e5384",
   "metadata": {},
   "outputs": [
    {
     "ename": "SyntaxError",
     "evalue": "non-default argument follows default argument (<ipython-input-38-222df8dbdcb0>, line 1)",
     "output_type": "error",
     "traceback": [
      "\u001b[1;36m  File \u001b[1;32m\"<ipython-input-38-222df8dbdcb0>\"\u001b[1;36m, line \u001b[1;32m1\u001b[0m\n\u001b[1;33m    def welcome_with_default_msg_2(msg = \"today we are learning about functions\", name):\u001b[0m\n\u001b[1;37m                                                                                      ^\u001b[0m\n\u001b[1;31mSyntaxError\u001b[0m\u001b[1;31m:\u001b[0m non-default argument follows default argument\n"
     ]
    }
   ],
   "source": [
    "def welcome_with_default_msg_2(msg = \"today we are learning about functions\", name):\n",
    "    \"\"\"\n",
    "    This function prints\n",
    "    the person with the\n",
    "    provided message.\n",
    "\n",
    "    If the message is not provided,\n",
    "    it prints the default msg\n",
    "    \"\"\"\n",
    "\n",
    "    print(\"Hello {}, {}\".format(name, msg))"
   ]
  },
  {
   "cell_type": "code",
   "execution_count": 39,
   "id": "ddcc87d3",
   "metadata": {},
   "outputs": [
    {
     "ename": "SyntaxError",
     "evalue": "positional argument follows keyword argument (<ipython-input-39-5b034509688b>, line 1)",
     "output_type": "error",
     "traceback": [
      "\u001b[1;36m  File \u001b[1;32m\"<ipython-input-39-5b034509688b>\"\u001b[1;36m, line \u001b[1;32m1\u001b[0m\n\u001b[1;33m    welcome_with_default_msg(name = \"Aayush\", \"welcome to session 4.\")\u001b[0m\n\u001b[1;37m                                                                     ^\u001b[0m\n\u001b[1;31mSyntaxError\u001b[0m\u001b[1;31m:\u001b[0m positional argument follows keyword argument\n"
     ]
    }
   ],
   "source": [
    "welcome_with_default_msg(name = \"Aayush\", \"welcome to session 4.\")"
   ]
  },
  {
   "cell_type": "markdown",
   "id": "cefd38a8",
   "metadata": {},
   "source": [
    "#### Variable-length arguments\n",
    "You may need to process a function for more arguments than you specified while defining the function. These arguments are called variable-length arguments and are not named in the function definition, unlike required and default arguments."
   ]
  },
  {
   "cell_type": "markdown",
   "id": "546f1bcf",
   "metadata": {},
   "source": [
    " *args\n",
    "\n",
    "The special syntax *args in function definitions in python is used to pass a variable number of arguments to a function. It is used to pass a non-key worded, variable-length argument list. \n",
    "\n",
    "* The syntax is to use the symbol * to take in a variable number of arguments; by convention, it is often used with the word args.\n",
    "* What *args allows you to do is take in more arguments than the number of formal arguments that you previously defined. With *args, any number of extra arguments can be tacked on to your current formal parameters (including zero extra arguments).\n",
    " "
   ]
  },
  {
   "cell_type": "code",
   "execution_count": 52,
   "id": "079fc70d",
   "metadata": {},
   "outputs": [],
   "source": [
    "def welcome_args(name, msg, *args):\n",
    "    \"\"\"\n",
    "    This function welcomes all along\n",
    "    with the first person\n",
    "    \"\"\"\n",
    "    print(\"Hello {}, {}\".format(name, msg))\n",
    "    for v in args:\n",
    "        print(\"Hello {}, {}\".format(v, msg))"
   ]
  },
  {
   "cell_type": "code",
   "execution_count": 50,
   "id": "b26c4be1",
   "metadata": {},
   "outputs": [
    {
     "name": "stdout",
     "output_type": "stream",
     "text": [
      "Hello Aayush, today we will learn about functions in python.\n",
      "Hello Shruti, today we will learn about functions in python.\n",
      "Hello Ayush, today we will learn about functions in python.\n",
      "Hello Vineeth, today we will learn about functions in python.\n",
      "Hello Vishnu, today we will learn about functions in python.\n",
      "Hello 2, today we will learn about functions in python.\n",
      "Hello 2.3, today we will learn about functions in python.\n"
     ]
    }
   ],
   "source": [
    "welcome_args(\"Aayush\", \"today we will learn about functions in python.\", \"Shruti\", \"Ayush\", \"Vineeth\", \"Vishnu\", 2, 2.3)"
   ]
  },
  {
   "cell_type": "code",
   "execution_count": 42,
   "id": "b38e8655",
   "metadata": {},
   "outputs": [
    {
     "name": "stdout",
     "output_type": "stream",
     "text": [
      "Hello Aayush, today we will learn about functions in python.\n"
     ]
    }
   ],
   "source": [
    "welcome_args(\"Aayush\", \"today we will learn about functions in python.\")"
   ]
  },
  {
   "cell_type": "markdown",
   "id": "3223b0d5",
   "metadata": {},
   "source": [
    "**kwargs\n",
    "\n",
    "The special syntax \\**kwargs in function definitions in python is used to pass a keyworded, variable-length argument list. We use the name kwargs with the double star. The reason is because the double star allows us to pass through keyword arguments (and any number of them).\n",
    "\n",
    "\n",
    "* A keyword argument is where you provide a name to the variable as you pass it into the function.\n",
    "* One can think of the kwargs as being a dictionary that maps each keyword to the value that we pass alongside it. That is why when we iterate over the kwargs there doesn’t seem to be any order in which they were printed out."
   ]
  },
  {
   "cell_type": "code",
   "execution_count": 43,
   "id": "a673f060",
   "metadata": {},
   "outputs": [],
   "source": [
    "def welcome_kwargs(**kwargs):\n",
    "    \"\"\"\n",
    "    This function welcomes all along\n",
    "    with the first person\n",
    "    \"\"\"\n",
    "    \n",
    "    for key,value in kwargs.items():\n",
    "        print(\"{} --> {}\".format(key, value))"
   ]
  },
  {
   "cell_type": "code",
   "execution_count": 44,
   "id": "aab26353",
   "metadata": {},
   "outputs": [
    {
     "name": "stdout",
     "output_type": "stream",
     "text": [
      "name --> Aayush\n",
      "id --> 1\n",
      "email --> aayush@datavader.io\n"
     ]
    }
   ],
   "source": [
    "welcome_kwargs(name = \"Aayush\", id = 1, email = \"aayush@datavader.io\")"
   ]
  },
  {
   "cell_type": "code",
   "execution_count": 53,
   "id": "5f46c405",
   "metadata": {},
   "outputs": [],
   "source": [
    "def welcome_args_2(name, msg, *args, **kwargs):\n",
    "    \"\"\"\n",
    "    This function welcomes all along\n",
    "    with the first person\n",
    "    \"\"\"\n",
    "    print(\"Hello {}, {}\".format(name, msg))\n",
    "    for v in args:\n",
    "        print(\"Hello {}, {}\".format(v, msg))\n",
    "    for key,value in kwargs.items():\n",
    "        print(\"{} --> {}\".format(key, value))"
   ]
  },
  {
   "cell_type": "code",
   "execution_count": 55,
   "id": "0a865d16",
   "metadata": {},
   "outputs": [
    {
     "name": "stdout",
     "output_type": "stream",
     "text": [
      "Hello Aayush, today we will learn about functions in python.\n",
      "Hello Shruti, today we will learn about functions in python.\n",
      "Hello Ayush, today we will learn about functions in python.\n",
      "Hello Vineeth, today we will learn about functions in python.\n",
      "Hello Vishnu, today we will learn about functions in python.\n",
      "Hello 2, today we will learn about functions in python.\n",
      "Hello 2.3, today we will learn about functions in python.\n",
      "id_no --> 22\n",
      "email --> aayush@datavader.io\n"
     ]
    }
   ],
   "source": [
    "welcome_args_2(\"Aayush\", \"today we will learn about functions in python.\", \"Shruti\", \"Ayush\", \"Vineeth\", \"Vishnu\", 2, 2.3, id_no = 22, email = \"aayush@datavader.io\")"
   ]
  },
  {
   "cell_type": "markdown",
   "id": "eb04139a",
   "metadata": {},
   "source": [
    "## Anonymous Function/Lambda Functions\n",
    "\n",
    "These functions are called anonymous because they are not declared in the standard manner by using the def keyword. You can use the lambda keyword to create small anonymous functions.\n",
    "\n",
    "Syntax of Lambda Function in python\n",
    "```\n",
    "lambda arguments: expression\n",
    "```\n",
    "\n",
    "Lambda functions can have any number of arguments but only one expression. The expression is evaluated and returned. Lambda functions can be used wherever function objects are required.\n",
    "\n"
   ]
  },
  {
   "cell_type": "code",
   "execution_count": 62,
   "id": "c7656e33",
   "metadata": {},
   "outputs": [],
   "source": [
    "cube = lambda x: x * x * x"
   ]
  },
  {
   "cell_type": "code",
   "execution_count": 63,
   "id": "702f5911",
   "metadata": {},
   "outputs": [
    {
     "name": "stdout",
     "output_type": "stream",
     "text": [
      "64\n"
     ]
    }
   ],
   "source": [
    "print(cube(4))"
   ]
  },
  {
   "cell_type": "markdown",
   "id": "0ee5636f",
   "metadata": {},
   "source": [
    "`lambda x: x * x * x`  is the lambda function. Here `x` is the argument and `x * x * x` is the expression that gets evaluated and returned.\n",
    "\n",
    "This function has no name. It returns a function object which is assigned to the identifier `cube`.\n",
    "\n",
    "We use lambda functions when we require a nameless function for a short period of time. In Python, we generally use it as an argument to a higher-order function (a function that takes in other functions as arguments). Lambda functions are used along with built-in functions like `filter()`, `map()` etc."
   ]
  },
  {
   "cell_type": "markdown",
   "id": "cfc66cef",
   "metadata": {},
   "source": [
    "The `filter()` function in Python takes in a function and a list as arguments. The function is called with all the items in the list and a new list is returned which contains items for which the function evaluates to `True`."
   ]
  },
  {
   "cell_type": "code",
   "execution_count": 65,
   "id": "a81c16d7",
   "metadata": {},
   "outputs": [
    {
     "name": "stdout",
     "output_type": "stream",
     "text": [
      "[15, 23, 57, 29, 71, 93, 51]\n"
     ]
    }
   ],
   "source": [
    "my_list = [15, 23, 20, 57, 34, 29, 71, 32, 93, 51]\n",
    "\n",
    "odd_list = list(filter(lambda x: (x%2 != 0) , my_list))\n",
    "print(odd_list)"
   ]
  },
  {
   "cell_type": "markdown",
   "id": "6d8d5889",
   "metadata": {},
   "source": [
    "The `map()` function in Python takes in a function and a list. The function is called with all the items in the list and a new list is returned which contains items returned by that function for each item."
   ]
  },
  {
   "cell_type": "code",
   "execution_count": 66,
   "id": "09f8977a",
   "metadata": {},
   "outputs": [
    {
     "name": "stdout",
     "output_type": "stream",
     "text": [
      "[30, 46, 40, 114, 68, 58, 142, 64, 186, 102]\n"
     ]
    }
   ],
   "source": [
    "double_list = list(map(lambda x: x * 2, my_list))\n",
    "print(double_list)"
   ]
  },
  {
   "cell_type": "markdown",
   "id": "25d96211",
   "metadata": {},
   "source": [
    "## Python Global and Local variables\n",
    "\n",
    "A variable declared outside of the function or in global scope is known as a global variable. This means that a global variable can be accessed inside or outside of the function.\n",
    "\n",
    "A variable declared inside the function's body or in the local scope is known as a local variable."
   ]
  },
  {
   "cell_type": "code",
   "execution_count": 67,
   "id": "32c21f90",
   "metadata": {},
   "outputs": [],
   "source": [
    "x = 34\n",
    "\n",
    "def check_x():\n",
    "    print(\"value of x inside check_x :\", x)"
   ]
  },
  {
   "cell_type": "code",
   "execution_count": 68,
   "id": "a1e66481",
   "metadata": {},
   "outputs": [
    {
     "name": "stdout",
     "output_type": "stream",
     "text": [
      "value of x inside check_x : 34\n",
      "value of x outside check_x (globally) : 34\n"
     ]
    }
   ],
   "source": [
    "check_x()\n",
    "print(\"value of x outside check_x (globally) :\", x)"
   ]
  },
  {
   "cell_type": "code",
   "execution_count": 69,
   "id": "a194e262",
   "metadata": {},
   "outputs": [],
   "source": [
    "def check_local_x():\n",
    "    x = 23\n",
    "    print(\"value of x inside check_x :\", x)"
   ]
  },
  {
   "cell_type": "code",
   "execution_count": 70,
   "id": "8d7eb2d2",
   "metadata": {},
   "outputs": [
    {
     "name": "stdout",
     "output_type": "stream",
     "text": [
      "value of x inside check_x : 23\n",
      "value of x outside check_local_x (globally) : 34\n"
     ]
    }
   ],
   "source": [
    "check_local_x()\n",
    "print(\"value of x outside check_local_x (globally) :\", x)"
   ]
  },
  {
   "cell_type": "code",
   "execution_count": 71,
   "id": "19698984",
   "metadata": {},
   "outputs": [],
   "source": [
    "def check_local_x_2():\n",
    "    x = x + 23\n",
    "    print(\"value of x inside check_x :\", x)"
   ]
  },
  {
   "cell_type": "code",
   "execution_count": 72,
   "id": "1725fa53",
   "metadata": {},
   "outputs": [
    {
     "ename": "UnboundLocalError",
     "evalue": "local variable 'x' referenced before assignment",
     "output_type": "error",
     "traceback": [
      "\u001b[1;31m---------------------------------------------------------------------------\u001b[0m",
      "\u001b[1;31mUnboundLocalError\u001b[0m                         Traceback (most recent call last)",
      "\u001b[1;32m<ipython-input-72-699f5c40377c>\u001b[0m in \u001b[0;36m<module>\u001b[1;34m\u001b[0m\n\u001b[1;32m----> 1\u001b[1;33m \u001b[0mcheck_local_x_2\u001b[0m\u001b[1;33m(\u001b[0m\u001b[1;33m)\u001b[0m\u001b[1;33m\u001b[0m\u001b[1;33m\u001b[0m\u001b[0m\n\u001b[0m",
      "\u001b[1;32m<ipython-input-71-b41fd74560dd>\u001b[0m in \u001b[0;36mcheck_local_x_2\u001b[1;34m()\u001b[0m\n\u001b[0;32m      1\u001b[0m \u001b[1;32mdef\u001b[0m \u001b[0mcheck_local_x_2\u001b[0m\u001b[1;33m(\u001b[0m\u001b[1;33m)\u001b[0m\u001b[1;33m:\u001b[0m\u001b[1;33m\u001b[0m\u001b[1;33m\u001b[0m\u001b[0m\n\u001b[1;32m----> 2\u001b[1;33m     \u001b[0mx\u001b[0m \u001b[1;33m=\u001b[0m \u001b[0mx\u001b[0m \u001b[1;33m+\u001b[0m \u001b[1;36m23\u001b[0m\u001b[1;33m\u001b[0m\u001b[1;33m\u001b[0m\u001b[0m\n\u001b[0m\u001b[0;32m      3\u001b[0m     \u001b[0mprint\u001b[0m\u001b[1;33m(\u001b[0m\u001b[1;34m\"value of x inside check_x :\"\u001b[0m\u001b[1;33m,\u001b[0m \u001b[0mx\u001b[0m\u001b[1;33m)\u001b[0m\u001b[1;33m\u001b[0m\u001b[1;33m\u001b[0m\u001b[0m\n",
      "\u001b[1;31mUnboundLocalError\u001b[0m: local variable 'x' referenced before assignment"
     ]
    }
   ],
   "source": [
    "check_local_x_2()"
   ]
  },
  {
   "cell_type": "code",
   "execution_count": 73,
   "id": "e31e63ea",
   "metadata": {},
   "outputs": [
    {
     "ename": "NameError",
     "evalue": "name 'new_num' is not defined",
     "output_type": "error",
     "traceback": [
      "\u001b[1;31m---------------------------------------------------------------------------\u001b[0m",
      "\u001b[1;31mNameError\u001b[0m                                 Traceback (most recent call last)",
      "\u001b[1;32m<ipython-input-73-70fbcc2a2f92>\u001b[0m in \u001b[0;36m<module>\u001b[1;34m\u001b[0m\n\u001b[1;32m----> 1\u001b[1;33m \u001b[0mnew_num\u001b[0m \u001b[1;33m=\u001b[0m \u001b[0mnew_num\u001b[0m \u001b[1;33m+\u001b[0m \u001b[1;36m23\u001b[0m\u001b[1;33m\u001b[0m\u001b[1;33m\u001b[0m\u001b[0m\n\u001b[0m",
      "\u001b[1;31mNameError\u001b[0m: name 'new_num' is not defined"
     ]
    }
   ],
   "source": [
    "new_num = new_num + 23"
   ]
  },
  {
   "cell_type": "code",
   "execution_count": 80,
   "id": "16c3978f",
   "metadata": {},
   "outputs": [],
   "source": [
    "def use_local_outside():\n",
    "    new_y = 45\n",
    "    print(new_y)"
   ]
  },
  {
   "cell_type": "code",
   "execution_count": 81,
   "id": "3e9b0e9a",
   "metadata": {},
   "outputs": [
    {
     "name": "stdout",
     "output_type": "stream",
     "text": [
      "45\n"
     ]
    }
   ],
   "source": [
    "use_local_outside()"
   ]
  },
  {
   "cell_type": "code",
   "execution_count": 82,
   "id": "6c289aab",
   "metadata": {},
   "outputs": [
    {
     "ename": "NameError",
     "evalue": "name 'new_y' is not defined",
     "output_type": "error",
     "traceback": [
      "\u001b[1;31m---------------------------------------------------------------------------\u001b[0m",
      "\u001b[1;31mNameError\u001b[0m                                 Traceback (most recent call last)",
      "\u001b[1;32m<ipython-input-82-d11ba1ff5dba>\u001b[0m in \u001b[0;36m<module>\u001b[1;34m\u001b[0m\n\u001b[1;32m----> 1\u001b[1;33m \u001b[0mprint\u001b[0m\u001b[1;33m(\u001b[0m\u001b[1;34m\"value of y outside outside use_local_outside() :\"\u001b[0m\u001b[1;33m,\u001b[0m \u001b[0mnew_y\u001b[0m\u001b[1;33m)\u001b[0m\u001b[1;33m\u001b[0m\u001b[1;33m\u001b[0m\u001b[0m\n\u001b[0m",
      "\u001b[1;31mNameError\u001b[0m: name 'new_y' is not defined"
     ]
    }
   ],
   "source": [
    "print(\"value of y outside outside use_local_outside() :\", new_y)"
   ]
  },
  {
   "cell_type": "code",
   "execution_count": 84,
   "id": "0f82e686",
   "metadata": {},
   "outputs": [
    {
     "name": "stdout",
     "output_type": "stream",
     "text": [
      "34\n"
     ]
    }
   ],
   "source": [
    "print(x)"
   ]
  },
  {
   "cell_type": "code",
   "execution_count": 85,
   "id": "16931972",
   "metadata": {},
   "outputs": [],
   "source": [
    "def use_local_and_gloabl():\n",
    "    global x\n",
    "    x = x + 43\n",
    "    y = 345\n",
    "    print(x)\n",
    "    print(y)"
   ]
  },
  {
   "cell_type": "code",
   "execution_count": 86,
   "id": "afd23502",
   "metadata": {},
   "outputs": [
    {
     "name": "stdout",
     "output_type": "stream",
     "text": [
      "value of global x before function : 34\n",
      "77\n",
      "345\n",
      "value of global x after function : 77\n"
     ]
    }
   ],
   "source": [
    "print(\"value of global x before function :\", x)\n",
    "use_local_and_gloabl()\n",
    "print(\"value of global x after function :\", x)"
   ]
  },
  {
   "cell_type": "markdown",
   "id": "cb9e5317",
   "metadata": {},
   "source": [
    "## Returning multiple values\n",
    "\n",
    "In python when we are returning value, we can return multiple values of different types."
   ]
  },
  {
   "cell_type": "code",
   "execution_count": 87,
   "id": "9ca18aa4",
   "metadata": {},
   "outputs": [],
   "source": [
    "def sum_str(x, y):\n",
    "    return x + y, \"success\""
   ]
  },
  {
   "cell_type": "code",
   "execution_count": 88,
   "id": "0674c160",
   "metadata": {},
   "outputs": [
    {
     "name": "stdout",
     "output_type": "stream",
     "text": [
      "77 success\n"
     ]
    }
   ],
   "source": [
    "result, msg = sum_str(21, 56)\n",
    "print(result, msg)"
   ]
  },
  {
   "cell_type": "code",
   "execution_count": null,
   "id": "024b823e",
   "metadata": {},
   "outputs": [],
   "source": []
  }
 ],
 "metadata": {
  "kernelspec": {
   "display_name": "Python 3.9.5 64-bit",
   "language": "python",
   "name": "python395jvsc74a57bd0b8dfcc4a6243885f100527393eda4351d2397a0a9d4c07ea3031d7aee9b8c635"
  },
  "language_info": {
   "codemirror_mode": {
    "name": "ipython",
    "version": 3
   },
   "file_extension": ".py",
   "mimetype": "text/x-python",
   "name": "python",
   "nbconvert_exporter": "python",
   "pygments_lexer": "ipython3",
   "version": "3.9.5"
  }
 },
 "nbformat": 4,
 "nbformat_minor": 5
}
