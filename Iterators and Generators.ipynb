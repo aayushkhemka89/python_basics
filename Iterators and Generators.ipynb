{
 "cells": [
  {
   "cell_type": "markdown",
   "id": "2a3676a8",
   "metadata": {},
   "source": [
    "# Iterators and Generators"
   ]
  },
  {
   "cell_type": "markdown",
   "id": "cfefdea2",
   "metadata": {},
   "source": [
    "## Iterators\n",
    "\n",
    "Iterable - An iterable is an object whose contents can be traversed or looped over.\n",
    "\n",
    "\n",
    "Iterator - An iterator is an object that knows how to perform the iteration and determines what the next item is.\n",
    "\n",
    "Iterator in Python is simply an object that can be iterated upon. An object which will return data, one element at a time. Technically speaking, a Python iterator object must implement two special methods, \\__iter__() and \\__next__(), collectively called the iterator protocol.\n",
    "\n",
    "\n",
    "The iter() function (which in turn calls the \\__iter__() method) returns an iterator from them.\n",
    "We use the next() function to manually iterate through all the items of an iterator. When we reach the end and there is no more data to be returned, it will raise the StopIteration Exception."
   ]
  },
  {
   "cell_type": "code",
   "execution_count": 1,
   "id": "006048bb",
   "metadata": {},
   "outputs": [],
   "source": [
    "my_iterable = [3, 7, 9, 10]"
   ]
  },
  {
   "cell_type": "code",
   "execution_count": 2,
   "id": "7442306e",
   "metadata": {},
   "outputs": [
    {
     "name": "stdout",
     "output_type": "stream",
     "text": [
      "<class 'list_iterator'>\n"
     ]
    }
   ],
   "source": [
    "my_iterator = iter(my_iterable)\n",
    "\n",
    "print(type(my_iterator))"
   ]
  },
  {
   "cell_type": "code",
   "execution_count": 3,
   "id": "e0e738d7",
   "metadata": {},
   "outputs": [
    {
     "name": "stdout",
     "output_type": "stream",
     "text": [
      "3\n",
      "7\n"
     ]
    }
   ],
   "source": [
    "print(next(my_iterator))\n",
    "print(next(my_iterator))"
   ]
  },
  {
   "cell_type": "code",
   "execution_count": 4,
   "id": "8d376db9",
   "metadata": {},
   "outputs": [
    {
     "name": "stdout",
     "output_type": "stream",
     "text": [
      "9\n",
      "10\n"
     ]
    }
   ],
   "source": [
    "print(my_iterator.__next__())\n",
    "print(my_iterator.__next__())"
   ]
  },
  {
   "cell_type": "code",
   "execution_count": 5,
   "id": "3e34c1cc",
   "metadata": {},
   "outputs": [
    {
     "ename": "StopIteration",
     "evalue": "",
     "output_type": "error",
     "traceback": [
      "\u001b[1;31m---------------------------------------------------------------------------\u001b[0m",
      "\u001b[1;31mStopIteration\u001b[0m                             Traceback (most recent call last)",
      "\u001b[1;32m<ipython-input-5-6f66b58aa1ec>\u001b[0m in \u001b[0;36m<module>\u001b[1;34m\u001b[0m\n\u001b[1;32m----> 1\u001b[1;33m \u001b[0mprint\u001b[0m\u001b[1;33m(\u001b[0m\u001b[0mmy_iterator\u001b[0m\u001b[1;33m.\u001b[0m\u001b[0m__next__\u001b[0m\u001b[1;33m(\u001b[0m\u001b[1;33m)\u001b[0m\u001b[1;33m)\u001b[0m\u001b[1;33m\u001b[0m\u001b[1;33m\u001b[0m\u001b[0m\n\u001b[0m",
      "\u001b[1;31mStopIteration\u001b[0m: "
     ]
    }
   ],
   "source": [
    "print(my_iterator.__next__())"
   ]
  },
  {
   "cell_type": "code",
   "execution_count": 6,
   "id": "bcf3015a",
   "metadata": {},
   "outputs": [],
   "source": [
    "my_iterator = iter(my_iterable)"
   ]
  },
  {
   "cell_type": "code",
   "execution_count": 7,
   "id": "c231648c",
   "metadata": {},
   "outputs": [
    {
     "name": "stdout",
     "output_type": "stream",
     "text": [
      "3\n",
      "7\n",
      "9\n",
      "10\n"
     ]
    }
   ],
   "source": [
    "for num in my_iterable:\n",
    "    print(num)"
   ]
  },
  {
   "cell_type": "code",
   "execution_count": 8,
   "id": "76f80ce6",
   "metadata": {},
   "outputs": [
    {
     "name": "stdout",
     "output_type": "stream",
     "text": [
      "3\n",
      "7\n",
      "9\n",
      "10\n"
     ]
    }
   ],
   "source": [
    "for num in my_iterator:\n",
    "    print(num)"
   ]
  },
  {
   "cell_type": "code",
   "execution_count": 9,
   "id": "b2eb40b1",
   "metadata": {},
   "outputs": [
    {
     "ename": "StopIteration",
     "evalue": "",
     "output_type": "error",
     "traceback": [
      "\u001b[1;31m---------------------------------------------------------------------------\u001b[0m",
      "\u001b[1;31mStopIteration\u001b[0m                             Traceback (most recent call last)",
      "\u001b[1;32m<ipython-input-9-26be35a80dc3>\u001b[0m in \u001b[0;36m<module>\u001b[1;34m\u001b[0m\n\u001b[1;32m----> 1\u001b[1;33m \u001b[0mnext\u001b[0m\u001b[1;33m(\u001b[0m\u001b[0mmy_iterator\u001b[0m\u001b[1;33m)\u001b[0m\u001b[1;33m\u001b[0m\u001b[1;33m\u001b[0m\u001b[0m\n\u001b[0m",
      "\u001b[1;31mStopIteration\u001b[0m: "
     ]
    }
   ],
   "source": [
    "next(my_iterator)"
   ]
  },
  {
   "cell_type": "code",
   "execution_count": 11,
   "id": "a541c6df",
   "metadata": {},
   "outputs": [
    {
     "name": "stdout",
     "output_type": "stream",
     "text": [
      "3\n",
      "7\n",
      "9\n",
      "10\n",
      "No more items!\n"
     ]
    }
   ],
   "source": [
    "iter_obj = iter(my_iterable)\n",
    "\n",
    "while True:\n",
    "    try:\n",
    "        # yield the subsequent item\n",
    "        item = next(iter_obj)\n",
    "\n",
    "        # other statements\n",
    "        print(item)\n",
    "\n",
    "    # end the loop if a StopIteration exception is raised\n",
    "    except StopIteration:\n",
    "        print('No more items!')\n",
    "        break"
   ]
  },
  {
   "cell_type": "code",
   "execution_count": 16,
   "id": "31106f8b",
   "metadata": {},
   "outputs": [],
   "source": [
    "class ListIterator():    \n",
    "    def __init__(self, nums):\n",
    "        self.contents = nums\n",
    "        self.curr_index = 0\n",
    "\n",
    "    def __iter__(self):\n",
    "        return self\n",
    "\n",
    "    def __next__(self):\n",
    "        if self.curr_index < len(self.contents):\n",
    "            curr_index = self.curr_index\n",
    "            self.curr_index += 1\n",
    "            return self.contents[curr_index] + 1\n",
    "        else:\n",
    "            raise StopIteration()"
   ]
  },
  {
   "cell_type": "code",
   "execution_count": 17,
   "id": "3f700209",
   "metadata": {},
   "outputs": [],
   "source": [
    "new_iterator = ListIterator([3, 7, 9, 21])"
   ]
  },
  {
   "cell_type": "code",
   "execution_count": 14,
   "id": "b24bbb30",
   "metadata": {},
   "outputs": [
    {
     "name": "stdout",
     "output_type": "stream",
     "text": [
      "<class '__main__.ListIterator'>\n"
     ]
    }
   ],
   "source": [
    "print(type(new_iterator))"
   ]
  },
  {
   "cell_type": "code",
   "execution_count": 18,
   "id": "2eaa171f",
   "metadata": {},
   "outputs": [
    {
     "name": "stdout",
     "output_type": "stream",
     "text": [
      "4\n",
      "8\n",
      "10\n",
      "22\n"
     ]
    }
   ],
   "source": [
    "for num in new_iterator:\n",
    "    print(num)"
   ]
  },
  {
   "cell_type": "code",
   "execution_count": 19,
   "id": "52f8a3d6",
   "metadata": {},
   "outputs": [
    {
     "ename": "StopIteration",
     "evalue": "",
     "output_type": "error",
     "traceback": [
      "\u001b[1;31m---------------------------------------------------------------------------\u001b[0m",
      "\u001b[1;31mStopIteration\u001b[0m                             Traceback (most recent call last)",
      "\u001b[1;32m<ipython-input-19-b8519929634a>\u001b[0m in \u001b[0;36m<module>\u001b[1;34m\u001b[0m\n\u001b[1;32m----> 1\u001b[1;33m \u001b[0mnext\u001b[0m\u001b[1;33m(\u001b[0m\u001b[0mnew_iterator\u001b[0m\u001b[1;33m)\u001b[0m\u001b[1;33m\u001b[0m\u001b[1;33m\u001b[0m\u001b[0m\n\u001b[0m",
      "\u001b[1;32m<ipython-input-16-daf6f09cd275>\u001b[0m in \u001b[0;36m__next__\u001b[1;34m(self)\u001b[0m\n\u001b[0;32m     13\u001b[0m             \u001b[1;32mreturn\u001b[0m \u001b[0mself\u001b[0m\u001b[1;33m.\u001b[0m\u001b[0mcontents\u001b[0m\u001b[1;33m[\u001b[0m\u001b[0mcurr_index\u001b[0m\u001b[1;33m]\u001b[0m \u001b[1;33m+\u001b[0m \u001b[1;36m1\u001b[0m\u001b[1;33m\u001b[0m\u001b[1;33m\u001b[0m\u001b[0m\n\u001b[0;32m     14\u001b[0m         \u001b[1;32melse\u001b[0m\u001b[1;33m:\u001b[0m\u001b[1;33m\u001b[0m\u001b[1;33m\u001b[0m\u001b[0m\n\u001b[1;32m---> 15\u001b[1;33m             \u001b[1;32mraise\u001b[0m \u001b[0mStopIteration\u001b[0m\u001b[1;33m(\u001b[0m\u001b[1;33m)\u001b[0m\u001b[1;33m\u001b[0m\u001b[1;33m\u001b[0m\u001b[0m\n\u001b[0m",
      "\u001b[1;31mStopIteration\u001b[0m: "
     ]
    }
   ],
   "source": [
    "next(new_iterator)"
   ]
  },
  {
   "cell_type": "markdown",
   "id": "2690e3e5",
   "metadata": {},
   "source": [
    "### infinite Iterators\n",
    "\n",
    "It is not necessary that the item in an iterator object has to be exhausted. There can be infinite iterators (which never ends). We must be careful when handling such iterators."
   ]
  },
  {
   "cell_type": "code",
   "execution_count": 20,
   "id": "7db122d9",
   "metadata": {},
   "outputs": [],
   "source": [
    "class FibonacciNum():\n",
    "    def __init__(self):\n",
    "        self.last = 0\n",
    "        self.curr = 1\n",
    "\n",
    "    def __iter__(self):\n",
    "        return self\n",
    "    \n",
    "    def __next__(self):\n",
    "        number = self.curr\n",
    "        self.curr += self.last  \n",
    "        self.last = number              \n",
    "        return number"
   ]
  },
  {
   "cell_type": "code",
   "execution_count": 25,
   "id": "79619f4b",
   "metadata": {},
   "outputs": [],
   "source": [
    "fib_seq = FibonacciNum()"
   ]
  },
  {
   "cell_type": "code",
   "execution_count": 26,
   "id": "ac8a49e8",
   "metadata": {},
   "outputs": [
    {
     "name": "stdout",
     "output_type": "stream",
     "text": [
      "1 1 2 3 5 8 13 "
     ]
    }
   ],
   "source": [
    "print(next(fib_seq), end = ' ')\n",
    "print(next(fib_seq), end = ' ')\n",
    "print(next(fib_seq), end = ' ')\n",
    "print(next(fib_seq), end = ' ')\n",
    "print(next(fib_seq), end = ' ')\n",
    "print(next(fib_seq), end = ' ')\n",
    "print(next(fib_seq), end = ' ')"
   ]
  },
  {
   "cell_type": "code",
   "execution_count": 27,
   "id": "56e15bc3",
   "metadata": {},
   "outputs": [
    {
     "name": "stdout",
     "output_type": "stream",
     "text": [
      "21\n"
     ]
    }
   ],
   "source": [
    "print(next(fib_seq))"
   ]
  },
  {
   "cell_type": "code",
   "execution_count": 28,
   "id": "0c226863",
   "metadata": {},
   "outputs": [
    {
     "name": "stdout",
     "output_type": "stream",
     "text": [
      "34\n",
      "55\n",
      "89\n",
      "144\n",
      "233\n",
      "377\n",
      "610\n",
      "987\n",
      "1597\n",
      "2584\n",
      "4181\n",
      "6765\n",
      "10946\n",
      "17711\n",
      "28657\n",
      "46368\n",
      "75025\n",
      "121393\n",
      "196418\n",
      "317811\n"
     ]
    }
   ],
   "source": [
    "for _ in range(20):\n",
    "    print(next(fib_seq))"
   ]
  },
  {
   "cell_type": "markdown",
   "id": "0f7feec4",
   "metadata": {},
   "source": [
    "Iterators can save a tremendous amount of memory and time when working very large sequences or datasets, or even infinite ones. In fact, iterators enable us to represent an infinite number of items with finite memory. Even with smaller sequences or datasets, using iterators can help us write more efficient code."
   ]
  },
  {
   "cell_type": "markdown",
   "id": "2ad70bcb",
   "metadata": {},
   "source": [
    "## Generators \n",
    "There is a lot of work in building an iterator in Python. We have to implement a class with __iter__() and __next__() method, keep track of internal states, and raise StopIteration when there are no values to be returned.\n",
    "\n",
    "This is both lengthy and counterintuitive. Generator comes to the rescue in such situations. Python generators are a simple way of creating iterators.\n",
    "\n",
    "\n",
    "It is fairly simple to create a generator in Python. It is as easy as defining a normal function, but with a yield statement instead of a return statement.\n",
    "\n",
    "If a function contains at least one yield statement (it may contain other yield or return statements), it becomes a generator function. Both yield and return will return some value from a function.\n",
    "\n",
    "The difference is that while a return statement terminates a function entirely, yield statement pauses the function saving all its states and later continues from there on successive calls."
   ]
  },
  {
   "cell_type": "code",
   "execution_count": 29,
   "id": "a491dfe6",
   "metadata": {},
   "outputs": [],
   "source": [
    "def generator_func():\n",
    "    i = 3\n",
    "    print('item 1')\n",
    "    yield i\n",
    "    i += 1\n",
    "    print('item 2')\n",
    "    yield i\n",
    "    print('item 3')\n",
    "    i += 10\n",
    "    yield i\n",
    "    print('No more items left!')"
   ]
  },
  {
   "cell_type": "code",
   "execution_count": 30,
   "id": "2fa21e92",
   "metadata": {},
   "outputs": [],
   "source": [
    "gen_iter = generator_func()"
   ]
  },
  {
   "cell_type": "code",
   "execution_count": 31,
   "id": "6d284d3a",
   "metadata": {},
   "outputs": [
    {
     "name": "stdout",
     "output_type": "stream",
     "text": [
      "item 1\n"
     ]
    },
    {
     "data": {
      "text/plain": [
       "3"
      ]
     },
     "execution_count": 31,
     "metadata": {},
     "output_type": "execute_result"
    }
   ],
   "source": [
    "next(gen_iter)"
   ]
  },
  {
   "cell_type": "code",
   "execution_count": 32,
   "id": "915dc545",
   "metadata": {},
   "outputs": [
    {
     "name": "stdout",
     "output_type": "stream",
     "text": [
      "item 2\n"
     ]
    },
    {
     "data": {
      "text/plain": [
       "4"
      ]
     },
     "execution_count": 32,
     "metadata": {},
     "output_type": "execute_result"
    }
   ],
   "source": [
    "next(gen_iter)"
   ]
  },
  {
   "cell_type": "code",
   "execution_count": 33,
   "id": "59438deb",
   "metadata": {},
   "outputs": [
    {
     "name": "stdout",
     "output_type": "stream",
     "text": [
      "item 3\n"
     ]
    },
    {
     "data": {
      "text/plain": [
       "14"
      ]
     },
     "execution_count": 33,
     "metadata": {},
     "output_type": "execute_result"
    }
   ],
   "source": [
    "next(gen_iter)"
   ]
  },
  {
   "cell_type": "code",
   "execution_count": 34,
   "id": "d433abcb",
   "metadata": {},
   "outputs": [
    {
     "name": "stdout",
     "output_type": "stream",
     "text": [
      "No more items left!\n"
     ]
    },
    {
     "ename": "StopIteration",
     "evalue": "",
     "output_type": "error",
     "traceback": [
      "\u001b[1;31m---------------------------------------------------------------------------\u001b[0m",
      "\u001b[1;31mStopIteration\u001b[0m                             Traceback (most recent call last)",
      "\u001b[1;32m<ipython-input-34-f8a340ef3282>\u001b[0m in \u001b[0;36m<module>\u001b[1;34m\u001b[0m\n\u001b[1;32m----> 1\u001b[1;33m \u001b[0mnext\u001b[0m\u001b[1;33m(\u001b[0m\u001b[0mgen_iter\u001b[0m\u001b[1;33m)\u001b[0m\u001b[1;33m\u001b[0m\u001b[1;33m\u001b[0m\u001b[0m\n\u001b[0m",
      "\u001b[1;31mStopIteration\u001b[0m: "
     ]
    }
   ],
   "source": [
    "next(gen_iter)"
   ]
  },
  {
   "cell_type": "code",
   "execution_count": 60,
   "id": "dcefa808",
   "metadata": {},
   "outputs": [],
   "source": [
    "def fibonacci_gen():\n",
    "    last = 0 \n",
    "    curr = 1\n",
    "    while True:\n",
    "        yield curr\n",
    "        number = last\n",
    "        last = curr        \n",
    "        curr = number + curr  "
   ]
  },
  {
   "cell_type": "code",
   "execution_count": 61,
   "id": "04708069",
   "metadata": {},
   "outputs": [
    {
     "name": "stdout",
     "output_type": "stream",
     "text": [
      "1, 1, 2, 3, 5, 8, 13, 21, 34, 55, 89, 144, 233, 377, 610, 987, 1597, 2584, 4181, 6765, 10946, 17711, 28657, 46368, 75025, 121393, 196418, 317811, 514229, 832040, "
     ]
    }
   ],
   "source": [
    "fib_seq = fibonacci_gen()\n",
    "\n",
    "for _ in range(30):\n",
    "    print(next(fib_seq), end=', ')"
   ]
  },
  {
   "cell_type": "code",
   "execution_count": 62,
   "id": "b89812e9",
   "metadata": {},
   "outputs": [],
   "source": [
    "def fibonacci_gen_limit(limit):\n",
    "    last = 0 \n",
    "    curr = 1\n",
    "    while curr < limit:\n",
    "        yield curr\n",
    "        number = last\n",
    "        last = curr        \n",
    "        curr = number + curr  "
   ]
  },
  {
   "cell_type": "code",
   "execution_count": 63,
   "id": "6b7801f8",
   "metadata": {},
   "outputs": [
    {
     "name": "stdout",
     "output_type": "stream",
     "text": [
      "1, 3, 8, 21, 55, 144, 377, 987, 2584, 6765, 17711, 46368, 121393, 317811, 832040, 2178309, 5702887, "
     ]
    },
    {
     "ename": "StopIteration",
     "evalue": "",
     "output_type": "error",
     "traceback": [
      "\u001b[1;31m---------------------------------------------------------------------------\u001b[0m",
      "\u001b[1;31mStopIteration\u001b[0m                             Traceback (most recent call last)",
      "\u001b[1;32m<ipython-input-63-cd168166937a>\u001b[0m in \u001b[0;36m<module>\u001b[1;34m\u001b[0m\n\u001b[0;32m      2\u001b[0m \u001b[1;33m\u001b[0m\u001b[0m\n\u001b[0;32m      3\u001b[0m \u001b[1;32mfor\u001b[0m \u001b[0mnum\u001b[0m \u001b[1;32min\u001b[0m \u001b[0mfib_seq\u001b[0m\u001b[1;33m:\u001b[0m\u001b[1;33m\u001b[0m\u001b[1;33m\u001b[0m\u001b[0m\n\u001b[1;32m----> 4\u001b[1;33m     \u001b[0mprint\u001b[0m\u001b[1;33m(\u001b[0m\u001b[0mnext\u001b[0m\u001b[1;33m(\u001b[0m\u001b[0mfib_seq\u001b[0m\u001b[1;33m)\u001b[0m\u001b[1;33m,\u001b[0m \u001b[0mend\u001b[0m\u001b[1;33m=\u001b[0m\u001b[1;34m', '\u001b[0m\u001b[1;33m)\u001b[0m\u001b[1;33m\u001b[0m\u001b[1;33m\u001b[0m\u001b[0m\n\u001b[0m",
      "\u001b[1;31mStopIteration\u001b[0m: "
     ]
    }
   ],
   "source": [
    "fib_seq = fibonacci_gen_limit(10000000)\n",
    "\n",
    "for num in fib_seq:\n",
    "    print(next(fib_seq), end=', ')"
   ]
  },
  {
   "cell_type": "markdown",
   "id": "b9bb09b7",
   "metadata": {},
   "source": [
    "Generator Expression\n",
    "\n",
    "Simple generators can be easily created on the fly using generator expressions. It makes building generators easy.\n",
    "\n",
    "Similar to the lambda functions which create anonymous functions, generator expressions create anonymous generator functions.\n",
    "\n",
    "The syntax for generator expression is similar to that of a list comprehension in Python. But the square brackets are replaced with round parentheses.\n",
    "\n",
    "The major difference between a list comprehension and a generator expression is that a list comprehension produces the entire list while the generator expression produces one item at a time."
   ]
  },
  {
   "cell_type": "code",
   "execution_count": 43,
   "id": "8258dde4",
   "metadata": {},
   "outputs": [
    {
     "name": "stdout",
     "output_type": "stream",
     "text": [
      "<class 'generator'>\n",
      "0, 4, 16, 36, 64, 100, 144, 196, 256, 324, 400, "
     ]
    }
   ],
   "source": [
    "square_gen = (x ** 2 for x in range(21) if x % 2 == 0)\n",
    "print(type(square_gen))\n",
    "for i in square_gen:\n",
    "    print(i, end=', ')"
   ]
  },
  {
   "cell_type": "code",
   "execution_count": 47,
   "id": "f8a710d6",
   "metadata": {},
   "outputs": [
    {
     "data": {
      "text/plain": [
       "1543497795000700000"
      ]
     },
     "execution_count": 47,
     "metadata": {},
     "output_type": "execute_result"
    }
   ],
   "source": [
    "square_list = [x ** 2 for x in range(2100000) if x % 2 == 0]\n",
    "# print(square_list)\n",
    "sum(square_list)"
   ]
  },
  {
   "cell_type": "code",
   "execution_count": 48,
   "id": "8ea3ffcf",
   "metadata": {},
   "outputs": [
    {
     "data": {
      "text/plain": [
       "1543497795000700000"
      ]
     },
     "execution_count": 48,
     "metadata": {},
     "output_type": "execute_result"
    }
   ],
   "source": [
    "square_gen = (x ** 2 for x in range(2100000) if x % 2 == 0)\n",
    "\n",
    "sum(square_gen)"
   ]
  },
  {
   "cell_type": "code",
   "execution_count": 49,
   "id": "77570eea",
   "metadata": {},
   "outputs": [
    {
     "name": "stdout",
     "output_type": "stream",
     "text": [
      "size of list : 8448728\n",
      "size of generator : 112\n"
     ]
    }
   ],
   "source": [
    "import sys\n",
    "print('size of list :',sys.getsizeof(square_list))\n",
    "print('size of generator :',sys.getsizeof(square_gen))"
   ]
  },
  {
   "cell_type": "markdown",
   "id": "062a81c4",
   "metadata": {},
   "source": [
    "Different ways to find max from a list"
   ]
  },
  {
   "cell_type": "code",
   "execution_count": 50,
   "id": "888eaed0",
   "metadata": {},
   "outputs": [
    {
     "data": {
      "text/plain": [
       "56"
      ]
     },
     "execution_count": 50,
     "metadata": {},
     "output_type": "execute_result"
    }
   ],
   "source": [
    "my_list = [3, 6, 5, 23, 56, 23, 12, 9, 0, -1]\n",
    "max(my_list)"
   ]
  },
  {
   "cell_type": "code",
   "execution_count": 54,
   "id": "5a887190",
   "metadata": {},
   "outputs": [
    {
     "data": {
      "text/plain": [
       "[56, 23, 23, 12, 9, 6, 5, 3, 0, -1]"
      ]
     },
     "execution_count": 54,
     "metadata": {},
     "output_type": "execute_result"
    }
   ],
   "source": [
    "sorted(my_list, reverse=True)"
   ]
  },
  {
   "cell_type": "code",
   "execution_count": 55,
   "id": "0d0920a9",
   "metadata": {},
   "outputs": [
    {
     "name": "stdout",
     "output_type": "stream",
     "text": [
      "56\n"
     ]
    }
   ],
   "source": [
    "max_num = -123456\n",
    "for num in my_list:\n",
    "    if num > max_num:\n",
    "        max_num = num\n",
    "print(max_num)"
   ]
  }
 ],
 "metadata": {
  "kernelspec": {
   "display_name": "Python 3.9.5 64-bit",
   "language": "python",
   "name": "python395jvsc74a57bd0b8dfcc4a6243885f100527393eda4351d2397a0a9d4c07ea3031d7aee9b8c635"
  },
  "language_info": {
   "codemirror_mode": {
    "name": "ipython",
    "version": 3
   },
   "file_extension": ".py",
   "mimetype": "text/x-python",
   "name": "python",
   "nbconvert_exporter": "python",
   "pygments_lexer": "ipython3",
   "version": "3.9.5"
  }
 },
 "nbformat": 4,
 "nbformat_minor": 5
}
