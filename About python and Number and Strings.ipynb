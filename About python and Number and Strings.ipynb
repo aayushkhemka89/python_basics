{
 "cells": [
  {
   "cell_type": "markdown",
   "id": "b3844a2e",
   "metadata": {},
   "source": [
    "\n",
    "## A brief history of Python \n",
    "\n",
    "Python is a general-purpose interpreted, interactive, object-oriented, and high-level programming language. It was created by Guido van Rossum during 1985- 1990. Like Perl, Python source code is also available under the GNU General Public License (GPL). This tutorial gives enough understanding on Python programming language.\n",
    "\n",
    "## Why Python?\n",
    "\n",
    "Python is a high-level, interpreted, interactive and object-oriented scripting language. Python is designed to be highly readable. It uses English keywords frequently where as other languages use punctuation, and it has fewer syntactical constructions than other languages.\n",
    "\n",
    "Python is a MUST for students and working professionals to become a great Software Engineer specially when they are working in Web Development Domain. I will list down some of the key advantages of learning Python:\n",
    "\n",
    "* **Python is Interpreted**: Python is processed at runtime by the interpreter. You do not need to compile your program before executing it. This is similar to PERL and PHP.\n",
    "\n",
    "* **Python is Interactive**: You can actually sit at a Python prompt and interact with the interpreter directly to write your programs.\n",
    "\n",
    "* **Python is Object-Oriented**: Python supports Object-Oriented style or technique of programming that encapsulates code within objects.\n",
    "\n",
    "* **Python is a Beginner's Language**: Python is a great language for the beginner-level programmers and supports the development of a wide range of applications from simple text processing to WWW browsers to games.\n",
    "\n",
    "Few of the words stated above might seem Greek, but worry not, we will discuss all this in great detail. \n",
    "\n",
    "## What makes Python so likeable?\n",
    "\n",
    "Over the years, Python has taken over other languages like C, Java, Javascript, C++ and has been rated as number one language to learn owing to a variety of reasons:\n",
    "\n",
    "1. **Easy-to-learn**: Python has few keywords, simple structure, and a clearly defined syntax. This allows the student to pick up the language quickly.\n",
    "\n",
    "2. **Easy-to-read**: Python code is more clearly defined and visible to the eyes.\n",
    "\n",
    "3. **Easy-to-maintain**: Python's source code is fairly easy-to-maintain.\n",
    "\n",
    "4. **A broad standard library**: Python's bulk of the library is very portable and cross-platform compatible on UNIX, Windows, and Macintosh.\n",
    "\n",
    "5. **Interactive Mode**: Python has support for an interactive mode which allows interactive testing and debugging of snippets of code.\n",
    "\n",
    "6. **Portable**: Python can run on a wide variety of hardware platforms and has the same interface on all platforms.\n",
    "\n",
    "7. **Extendable**: You can add low-level modules to the Python interpreter. These modules enable programmers to add to or customize their tools to be more efficient.\n",
    "\n",
    "8. **Databases**: Python provides interfaces to all major commercial databases.\n",
    "\n",
    "9. **GUI Programming**: Python supports GUI applications that can be created and ported to many system calls, libraries and windows systems, such as Windows MFC, Macintosh, and the X Window system of Unix.\n",
    "\n",
    "10. **Scalable**: Python provides a better structure and support for large programs than shell scripting.\n",
    "\n",
    "## IDE\n",
    "\n",
    "So to write python and execute codes, you need an environment, also known as IDE (Integrated development environment). There are a lot of IDEs that you can use for writing Python. PyCharm, VS Code, Command prompt, online editors etc. The most used is the jupyter notebook which is very easy to use and versatile. We will recommend to use Jupyter notebook. \n",
    "\n",
    "## Lines and Indentation\n",
    "\n",
    "Python provides no braces to indicate blocks of code for class and function definitions or flow control. Blocks of code are denoted by line indentation, which is rigidly enforced.\n",
    "\n",
    "The number of spaces in the indentation is variable, but all statements within the block must be indented the same amount. For example −"
   ]
  },
  {
   "cell_type": "code",
   "execution_count": 3,
   "id": "cfd5b1bf",
   "metadata": {},
   "outputs": [
    {
     "name": "stdout",
     "output_type": "stream",
     "text": [
      "bye\n"
     ]
    }
   ],
   "source": [
    "# declaring x with a value of 8\n",
    "x=8\n",
    "if x==0:\n",
    "    print(\"Hi\")\n",
    "else:\n",
    "    print(\"bye\")\n"
   ]
  },
  {
   "cell_type": "code",
   "execution_count": 8,
   "id": "4a08f3b3",
   "metadata": {},
   "outputs": [
    {
     "name": "stdout",
     "output_type": "stream",
     "text": [
      "False\n"
     ]
    }
   ],
   "source": [
    "print(x!=8)"
   ]
  },
  {
   "cell_type": "markdown",
   "id": "d6c90ed7",
   "metadata": {},
   "source": [
    "So you can see after we have written `if x==0`, there is some indentation before the next line of code starts. That is how python works. \n",
    "\n",
    "## Comments in Python\n",
    "\n",
    "A hash sign (#) that is not inside a string literal begins a comment. All characters after the # and up to the end of the physical line are part of the comment and the Python interpreter ignores them.\n",
    "\n",
    "Jupyter notebook gives an option for you to write in markdown cells which is an interesting feature according to me. \n",
    "\n",
    "## Variables in Python\n",
    "\n",
    "Variables are nothing but reserved memory locations to store values. This means that when you create a variable you reserve some space in memory.\n",
    "\n",
    "Based on the data type of a variable, the interpreter allocates memory and decides what can be stored in the reserved memory. Therefore, by assigning different data types to variables, you can store integers, decimals or characters in these variables.\n",
    "\n",
    "## Assigning Values to Variables\n",
    "\n",
    "Python variables do not need explicit declaration to reserve memory space. The declaration happens automatically when you assign a value to a variable. The equal sign (=) is used to assign values to variables.\n",
    "\n",
    "The operand to the left of the = operator is the name of the variable and the operand to the right of the = operator is the value stored in the variable. \n",
    "\n",
    "\n"
   ]
  },
  {
   "cell_type": "code",
   "execution_count": 2,
   "id": "6e18bc95",
   "metadata": {},
   "outputs": [],
   "source": [
    "x=40 #integer\n",
    "x=40.0 #float\n",
    "x=\"hi\" #string"
   ]
  },
  {
   "cell_type": "markdown",
   "id": "0d9fa6e2",
   "metadata": {},
   "source": [
    "# Standard Data Types\n",
    "\n",
    "Python has six standard data types −\n",
    "\n",
    "* Numbers\n",
    "* String\n",
    "* List\n",
    "* Tuple\n",
    "* Set\n",
    "* Dictionary\n"
   ]
  },
  {
   "cell_type": "markdown",
   "id": "20310f70",
   "metadata": {},
   "source": [
    "## Numbers\n",
    "\n",
    "Number data types store numeric values. They are immutable data types, means that changing the value of a number data type results in a newly allocated object.\n",
    "\n",
    "Number objects are created when you assign a value to them. For example −"
   ]
  },
  {
   "cell_type": "code",
   "execution_count": 9,
   "id": "09389b38",
   "metadata": {},
   "outputs": [
    {
     "name": "stdout",
     "output_type": "stream",
     "text": [
      "1\n"
     ]
    }
   ],
   "source": [
    "x = 1\n",
    "print(x)"
   ]
  },
  {
   "cell_type": "code",
   "execution_count": 10,
   "id": "69471c45",
   "metadata": {},
   "outputs": [
    {
     "name": "stdout",
     "output_type": "stream",
     "text": [
      "10\n"
     ]
    }
   ],
   "source": [
    "y = 10\n",
    "print(y)"
   ]
  },
  {
   "cell_type": "code",
   "execution_count": 11,
   "id": "39b5ab86",
   "metadata": {},
   "outputs": [
    {
     "data": {
      "text/plain": [
       "True"
      ]
     },
     "execution_count": 11,
     "metadata": {},
     "output_type": "execute_result"
    }
   ],
   "source": [
    "x == 1"
   ]
  },
  {
   "cell_type": "code",
   "execution_count": 12,
   "id": "19fe6451",
   "metadata": {},
   "outputs": [
    {
     "data": {
      "text/plain": [
       "2054685223216"
      ]
     },
     "execution_count": 12,
     "metadata": {},
     "output_type": "execute_result"
    }
   ],
   "source": [
    "id(x)"
   ]
  },
  {
   "cell_type": "code",
   "execution_count": 13,
   "id": "2a26f154",
   "metadata": {},
   "outputs": [],
   "source": [
    "x = 20"
   ]
  },
  {
   "cell_type": "code",
   "execution_count": 14,
   "id": "43632960",
   "metadata": {},
   "outputs": [
    {
     "data": {
      "text/plain": [
       "2054685223824"
      ]
     },
     "execution_count": 14,
     "metadata": {},
     "output_type": "execute_result"
    }
   ],
   "source": [
    "id(x)"
   ]
  },
  {
   "cell_type": "code",
   "execution_count": 15,
   "id": "642e6abc",
   "metadata": {},
   "outputs": [
    {
     "name": "stdout",
     "output_type": "stream",
     "text": [
      "20\n"
     ]
    }
   ],
   "source": [
    "print(x)"
   ]
  },
  {
   "cell_type": "code",
   "execution_count": 16,
   "id": "e8e5302e",
   "metadata": {},
   "outputs": [],
   "source": [
    "del x\n",
    "del y"
   ]
  },
  {
   "cell_type": "code",
   "execution_count": 20,
   "id": "d09b4e18",
   "metadata": {},
   "outputs": [],
   "source": [
    "del y"
   ]
  },
  {
   "cell_type": "code",
   "execution_count": 17,
   "id": "c285055c",
   "metadata": {},
   "outputs": [
    {
     "ename": "NameError",
     "evalue": "name 'x' is not defined",
     "output_type": "error",
     "traceback": [
      "\u001b[1;31m---------------------------------------------------------------------------\u001b[0m",
      "\u001b[1;31mNameError\u001b[0m                                 Traceback (most recent call last)",
      "\u001b[1;32m<ipython-input-17-6fcf9dfbd479>\u001b[0m in \u001b[0;36m<module>\u001b[1;34m\u001b[0m\n\u001b[1;32m----> 1\u001b[1;33m \u001b[0mx\u001b[0m\u001b[1;33m\u001b[0m\u001b[1;33m\u001b[0m\u001b[0m\n\u001b[0m",
      "\u001b[1;31mNameError\u001b[0m: name 'x' is not defined"
     ]
    }
   ],
   "source": [
    "x"
   ]
  },
  {
   "cell_type": "code",
   "execution_count": 18,
   "id": "13e2a7fd",
   "metadata": {},
   "outputs": [
    {
     "ename": "NameError",
     "evalue": "name 'x' is not defined",
     "output_type": "error",
     "traceback": [
      "\u001b[1;31m---------------------------------------------------------------------------\u001b[0m",
      "\u001b[1;31mNameError\u001b[0m                                 Traceback (most recent call last)",
      "\u001b[1;32m<ipython-input-18-be9517a77be2>\u001b[0m in \u001b[0;36m<module>\u001b[1;34m\u001b[0m\n\u001b[1;32m----> 1\u001b[1;33m \u001b[0mx\u001b[0m \u001b[1;33m==\u001b[0m \u001b[1;36m1\u001b[0m\u001b[1;33m\u001b[0m\u001b[1;33m\u001b[0m\u001b[0m\n\u001b[0m",
      "\u001b[1;31mNameError\u001b[0m: name 'x' is not defined"
     ]
    }
   ],
   "source": [
    "x == 1"
   ]
  },
  {
   "cell_type": "markdown",
   "id": "62b7cb3d",
   "metadata": {},
   "source": [
    "Numeric value can be integer, floating number or even complex numbers. These values are defined as int, float and complex class in Python. \n",
    " \n",
    "\n",
    "* **Integers** – This value is represented by int class. It contains positive or negative whole numbers (without fraction or decimal). In Python there is no limit to how long an integer value can be.\n",
    "* **Float** – This value is represented by float class. It is a real number with floating point representation. It is specified by a decimal point. Optionally, the character e or E followed by a positive or negative integer may be appended to specify scientific notation. \n",
    "* **Complex Numbers** – Complex number is represented by complex class. It is specified as (real part) + (imaginary part)j. For example – 2+3j \n",
    " \n",
    "Note – type() function is used to determine the type of data type.\n"
   ]
  },
  {
   "cell_type": "code",
   "execution_count": 21,
   "id": "aac5a8fa",
   "metadata": {},
   "outputs": [
    {
     "name": "stdout",
     "output_type": "stream",
     "text": [
      "Type of x:  <class 'int'>\n",
      "Type of y:  <class 'float'>\n",
      "Type of z:  <class 'complex'>\n"
     ]
    }
   ],
   "source": [
    "x = 1\n",
    "print(\"Type of x: \", type(x))\n",
    " \n",
    "y = 20.0\n",
    "print(\"Type of y: \", type(y))\n",
    " \n",
    "z = 5 + 6j\n",
    "print(\"Type of z: \", type(z))"
   ]
  },
  {
   "cell_type": "code",
   "execution_count": 22,
   "id": "a3352d7a",
   "metadata": {},
   "outputs": [
    {
     "name": "stdout",
     "output_type": "stream",
     "text": [
      "True\n"
     ]
    }
   ],
   "source": [
    "print(isinstance(z, complex))"
   ]
  },
  {
   "cell_type": "markdown",
   "id": "e6345a82",
   "metadata": {},
   "source": [
    "### Number Type Conversion\n",
    "\n",
    "We can convert one type of number into another. This is also known as coercion.Operations like addition, subtraction coerce integer to float implicitly (automatically), if one of the operands is float.\n",
    "\n",
    "We can also use built-in functions to convert between types explicitly:\n",
    "\n",
    "* Type `int(x)` to convert x to an integer.\n",
    "\n",
    "* Type `float(x)` to convert x to a floating-point number.\n",
    "\n",
    "* Type `complex(x)` to convert x to a complex number with real part x and imaginary part zero.\n",
    "\n",
    "* Type `complex(x, y)` to convert x and y to a complex number with real part x and imaginary part y. x and y are numeric expressions"
   ]
  },
  {
   "cell_type": "code",
   "execution_count": 23,
   "id": "a67f915a",
   "metadata": {},
   "outputs": [
    {
     "data": {
      "text/plain": [
       "5.0"
      ]
     },
     "execution_count": 23,
     "metadata": {},
     "output_type": "execute_result"
    }
   ],
   "source": [
    "# implicit conversion\n",
    "2 + 3.0"
   ]
  },
  {
   "cell_type": "code",
   "execution_count": 24,
   "id": "2dbc1220",
   "metadata": {},
   "outputs": [
    {
     "data": {
      "text/plain": [
       "5"
      ]
     },
     "execution_count": 24,
     "metadata": {},
     "output_type": "execute_result"
    }
   ],
   "source": [
    "# explicit conversion\n",
    "int(2 + 3.0)"
   ]
  },
  {
   "cell_type": "code",
   "execution_count": 25,
   "id": "2eb1577c",
   "metadata": {},
   "outputs": [
    {
     "data": {
      "text/plain": [
       "8.0"
      ]
     },
     "execution_count": 25,
     "metadata": {},
     "output_type": "execute_result"
    }
   ],
   "source": [
    "float(3 + 5)"
   ]
  },
  {
   "cell_type": "markdown",
   "id": "7d7efde3",
   "metadata": {},
   "source": [
    "We can convert strings to numbers as well"
   ]
  },
  {
   "cell_type": "code",
   "execution_count": 26,
   "id": "5d22e3f7",
   "metadata": {},
   "outputs": [
    {
     "data": {
      "text/plain": [
       "3.0"
      ]
     },
     "execution_count": 26,
     "metadata": {},
     "output_type": "execute_result"
    }
   ],
   "source": [
    "float('3')"
   ]
  },
  {
   "cell_type": "code",
   "execution_count": 27,
   "id": "954f60a2",
   "metadata": {},
   "outputs": [
    {
     "data": {
      "text/plain": [
       "(2+3j)"
      ]
     },
     "execution_count": 27,
     "metadata": {},
     "output_type": "execute_result"
    }
   ],
   "source": [
    "complex('2+3j')"
   ]
  },
  {
   "cell_type": "markdown",
   "id": "2d7ebf95",
   "metadata": {},
   "source": [
    "### Mathematical Functions\n",
    "Python includes following functions that perform mathematical calculations."
   ]
  },
  {
   "cell_type": "code",
   "execution_count": 30,
   "id": "faedce63",
   "metadata": {},
   "outputs": [
    {
     "data": {
      "text/plain": [
       "2"
      ]
     },
     "execution_count": 30,
     "metadata": {},
     "output_type": "execute_result"
    }
   ],
   "source": [
    "abs(-2)"
   ]
  },
  {
   "cell_type": "code",
   "execution_count": 31,
   "id": "ee25c798",
   "metadata": {},
   "outputs": [],
   "source": [
    "import math"
   ]
  },
  {
   "cell_type": "code",
   "execution_count": 33,
   "id": "2dbad69f",
   "metadata": {},
   "outputs": [
    {
     "data": {
      "text/plain": [
       "2.8284271247461903"
      ]
     },
     "execution_count": 33,
     "metadata": {},
     "output_type": "execute_result"
    }
   ],
   "source": [
    "math.sqrt(8)"
   ]
  },
  {
   "cell_type": "code",
   "execution_count": 34,
   "id": "195907ef",
   "metadata": {},
   "outputs": [
    {
     "data": {
      "text/plain": [
       "3"
      ]
     },
     "execution_count": 34,
     "metadata": {},
     "output_type": "execute_result"
    }
   ],
   "source": [
    "math.ceil(2.3)"
   ]
  },
  {
   "cell_type": "code",
   "execution_count": 35,
   "id": "21312ff7",
   "metadata": {},
   "outputs": [
    {
     "data": {
      "text/plain": [
       "3"
      ]
     },
     "execution_count": 35,
     "metadata": {},
     "output_type": "execute_result"
    }
   ],
   "source": [
    "math.floor(3.9)"
   ]
  },
  {
   "cell_type": "code",
   "execution_count": 36,
   "id": "1e92e207",
   "metadata": {},
   "outputs": [
    {
     "data": {
      "text/plain": [
       "-3"
      ]
     },
     "execution_count": 36,
     "metadata": {},
     "output_type": "execute_result"
    }
   ],
   "source": [
    "math.ceil(-3.4)"
   ]
  },
  {
   "cell_type": "code",
   "execution_count": 37,
   "id": "fb8fc9a6",
   "metadata": {},
   "outputs": [
    {
     "data": {
      "text/plain": [
       "-4"
      ]
     },
     "execution_count": 37,
     "metadata": {},
     "output_type": "execute_result"
    }
   ],
   "source": [
    "math.floor(-3.4)"
   ]
  },
  {
   "cell_type": "code",
   "execution_count": 38,
   "id": "21edf29c",
   "metadata": {},
   "outputs": [
    {
     "data": {
      "text/plain": [
       "4.5"
      ]
     },
     "execution_count": 38,
     "metadata": {},
     "output_type": "execute_result"
    }
   ],
   "source": [
    "math.fabs(-4.5)"
   ]
  },
  {
   "cell_type": "code",
   "execution_count": 39,
   "id": "0d2ddcc1",
   "metadata": {},
   "outputs": [
    {
     "data": {
      "text/plain": [
       "27.0"
      ]
     },
     "execution_count": 39,
     "metadata": {},
     "output_type": "execute_result"
    }
   ],
   "source": [
    "math.pow(3,3)"
   ]
  },
  {
   "cell_type": "code",
   "execution_count": 40,
   "id": "42ddb24c",
   "metadata": {},
   "outputs": [
    {
     "data": {
      "text/plain": [
       "4.605170185988092"
      ]
     },
     "execution_count": 40,
     "metadata": {},
     "output_type": "execute_result"
    }
   ],
   "source": [
    "math.log(100)"
   ]
  },
  {
   "cell_type": "code",
   "execution_count": 45,
   "id": "06822b09",
   "metadata": {},
   "outputs": [
    {
     "data": {
      "text/plain": [
       "2.041392685158225"
      ]
     },
     "execution_count": 45,
     "metadata": {},
     "output_type": "execute_result"
    }
   ],
   "source": [
    "math.log10(110)"
   ]
  },
  {
   "cell_type": "code",
   "execution_count": 46,
   "id": "f09f143d",
   "metadata": {},
   "outputs": [
    {
     "data": {
      "text/plain": [
       "2"
      ]
     },
     "execution_count": 46,
     "metadata": {},
     "output_type": "execute_result"
    }
   ],
   "source": [
    "int(math.log10(110))"
   ]
  },
  {
   "cell_type": "code",
   "execution_count": 44,
   "id": "97cc9f87",
   "metadata": {},
   "outputs": [
    {
     "data": {
      "text/plain": [
       "20.085536923187668"
      ]
     },
     "execution_count": 44,
     "metadata": {},
     "output_type": "execute_result"
    }
   ],
   "source": [
    "math.exp(3)"
   ]
  },
  {
   "cell_type": "markdown",
   "id": "b291d6ff",
   "metadata": {},
   "source": [
    "## Strings\n",
    "\n",
    "A string is a sequence of characters. \n",
    "\n",
    "Strings are amongst the most popular types in Python. Strings can be created by enclosing characters inside a single quote or double-quotes. Even triple quotes can be used in Python but generally used to represent multiline strings and docstrings."
   ]
  },
  {
   "cell_type": "code",
   "execution_count": 47,
   "id": "8d89f821",
   "metadata": {},
   "outputs": [
    {
     "name": "stdout",
     "output_type": "stream",
     "text": [
      "Hello\n"
     ]
    }
   ],
   "source": [
    "my_str = 'Hello'\n",
    "print(my_str)"
   ]
  },
  {
   "cell_type": "code",
   "execution_count": 48,
   "id": "fc7e45bb",
   "metadata": {},
   "outputs": [
    {
     "name": "stdout",
     "output_type": "stream",
     "text": [
      "Hello\n"
     ]
    }
   ],
   "source": [
    "my_str = \"Hello\"\n",
    "print(my_str)"
   ]
  },
  {
   "cell_type": "code",
   "execution_count": 49,
   "id": "5d313d3c",
   "metadata": {},
   "outputs": [
    {
     "name": "stdout",
     "output_type": "stream",
     "text": [
      "Hello\n"
     ]
    }
   ],
   "source": [
    "my_str = '''Hello'''\n",
    "print(my_str)"
   ]
  },
  {
   "cell_type": "code",
   "execution_count": 52,
   "id": "641c5a6b",
   "metadata": {},
   "outputs": [
    {
     "name": "stdout",
     "output_type": "stream",
     "text": [
      "Hello, \n",
      "\n",
      "Welcome to the Python session by Data Vader\n"
     ]
    }
   ],
   "source": [
    "# triple quotes str can extend multiple lines\n",
    "my_str = \"\"\"Hello, \n",
    "\n",
    "Welcome to the Python session by Data Vader\"\"\"\n",
    "\n",
    "print(my_str)"
   ]
  },
  {
   "cell_type": "code",
   "execution_count": 53,
   "id": "0246c17c",
   "metadata": {},
   "outputs": [
    {
     "data": {
      "text/plain": [
       "str"
      ]
     },
     "execution_count": 53,
     "metadata": {},
     "output_type": "execute_result"
    }
   ],
   "source": [
    "type(my_str)"
   ]
  },
  {
   "cell_type": "code",
   "execution_count": 54,
   "id": "1574b936",
   "metadata": {},
   "outputs": [
    {
     "data": {
      "text/plain": [
       "'2'"
      ]
     },
     "execution_count": 54,
     "metadata": {},
     "output_type": "execute_result"
    }
   ],
   "source": [
    "str(2)"
   ]
  },
  {
   "cell_type": "markdown",
   "id": "af4f8e2e",
   "metadata": {},
   "source": [
    "We can access individual characters using **indexing** and a range of characters using **slicing**. \n",
    "We can access a range of characters in a string by using the slicing operator `:`(colon)\n",
    "\n",
    "Index starts from 0. \n",
    "\n",
    "Trying to access a character out of index range will raise an `IndexError`. The index must be an integer. We can't use floats or other types, this will result into `TypeError`"
   ]
  },
  {
   "cell_type": "code",
   "execution_count": 55,
   "id": "6a57fc5e",
   "metadata": {},
   "outputs": [
    {
     "name": "stdout",
     "output_type": "stream",
     "text": [
      "Data Vader\n"
     ]
    }
   ],
   "source": [
    "my_str = 'Data Vader'\n",
    "print(my_str)"
   ]
  },
  {
   "cell_type": "code",
   "execution_count": 61,
   "id": "2bff2ff3",
   "metadata": {},
   "outputs": [
    {
     "name": "stdout",
     "output_type": "stream",
     "text": [
      "my_str[0] =  t\n"
     ]
    }
   ],
   "source": [
    "# first character\n",
    "print('my_str[0] = ', my_str[2])"
   ]
  },
  {
   "cell_type": "code",
   "execution_count": 58,
   "id": "ecc29dd2",
   "metadata": {},
   "outputs": [
    {
     "name": "stdout",
     "output_type": "stream",
     "text": [
      "my_str[2:5] =  ta V\n"
     ]
    }
   ],
   "source": [
    "#slicing 3nd to 6th character\n",
    "print('my_str[2:5] = ', my_str[2:6])"
   ]
  },
  {
   "cell_type": "markdown",
   "id": "8d2bb6ae",
   "metadata": {},
   "source": [
    "Python allows negative indexing for its sequences.\n",
    "\n",
    "The index of -1 refers to the last item, -2 to the second last item and so on. "
   ]
  },
  {
   "cell_type": "code",
   "execution_count": 62,
   "id": "3932cc53",
   "metadata": {},
   "outputs": [
    {
     "name": "stdout",
     "output_type": "stream",
     "text": [
      "my_str[-1] =  r\n"
     ]
    }
   ],
   "source": [
    "# last character\n",
    "print('my_str[-1] = ', my_str[-1])"
   ]
  },
  {
   "cell_type": "code",
   "execution_count": 63,
   "id": "1036e175",
   "metadata": {},
   "outputs": [
    {
     "data": {
      "text/plain": [
       "'Data Vader'"
      ]
     },
     "execution_count": 63,
     "metadata": {},
     "output_type": "execute_result"
    }
   ],
   "source": [
    "my_str"
   ]
  },
  {
   "cell_type": "code",
   "execution_count": 64,
   "id": "ee07c9c5",
   "metadata": {},
   "outputs": [
    {
     "name": "stdout",
     "output_type": "stream",
     "text": [
      "my_str[5:-2] =  Vad\n"
     ]
    }
   ],
   "source": [
    "#slicing 6th to 2nd last character\n",
    "print('my_str[5:-2] = ', my_str[5:-2])"
   ]
  },
  {
   "cell_type": "markdown",
   "id": "6455f1ea",
   "metadata": {},
   "source": [
    "Strings are immutable. This means that elements of a string cannot be changed once they have been assigned. We can simply reassign different strings to the same name"
   ]
  },
  {
   "cell_type": "code",
   "execution_count": 65,
   "id": "9d5f9a87",
   "metadata": {},
   "outputs": [
    {
     "ename": "TypeError",
     "evalue": "'str' object does not support item assignment",
     "output_type": "error",
     "traceback": [
      "\u001b[1;31m---------------------------------------------------------------------------\u001b[0m",
      "\u001b[1;31mTypeError\u001b[0m                                 Traceback (most recent call last)",
      "\u001b[1;32m<ipython-input-65-cf84152c398d>\u001b[0m in \u001b[0;36m<module>\u001b[1;34m\u001b[0m\n\u001b[1;32m----> 1\u001b[1;33m \u001b[0mmy_str\u001b[0m\u001b[1;33m[\u001b[0m\u001b[1;36m0\u001b[0m\u001b[1;33m]\u001b[0m \u001b[1;33m=\u001b[0m \u001b[1;34m'd'\u001b[0m\u001b[1;33m\u001b[0m\u001b[1;33m\u001b[0m\u001b[0m\n\u001b[0m",
      "\u001b[1;31mTypeError\u001b[0m: 'str' object does not support item assignment"
     ]
    }
   ],
   "source": [
    "my_str[0] = 'd'"
   ]
  },
  {
   "cell_type": "markdown",
   "id": "882a0053",
   "metadata": {},
   "source": [
    "We cannot delete or remove characters from a string. But deleting the string entirely is possible using the del keyword."
   ]
  },
  {
   "cell_type": "code",
   "execution_count": 66,
   "id": "bfcc944a",
   "metadata": {},
   "outputs": [
    {
     "ename": "TypeError",
     "evalue": "'str' object doesn't support item deletion",
     "output_type": "error",
     "traceback": [
      "\u001b[1;31m---------------------------------------------------------------------------\u001b[0m",
      "\u001b[1;31mTypeError\u001b[0m                                 Traceback (most recent call last)",
      "\u001b[1;32m<ipython-input-66-17b3cd52c076>\u001b[0m in \u001b[0;36m<module>\u001b[1;34m\u001b[0m\n\u001b[1;32m----> 1\u001b[1;33m \u001b[1;32mdel\u001b[0m \u001b[0mmy_str\u001b[0m\u001b[1;33m[\u001b[0m\u001b[1;36m0\u001b[0m\u001b[1;33m]\u001b[0m\u001b[1;33m\u001b[0m\u001b[1;33m\u001b[0m\u001b[0m\n\u001b[0m",
      "\u001b[1;31mTypeError\u001b[0m: 'str' object doesn't support item deletion"
     ]
    }
   ],
   "source": [
    "del my_str[0]"
   ]
  },
  {
   "cell_type": "code",
   "execution_count": 67,
   "id": "0e1d4e79",
   "metadata": {},
   "outputs": [],
   "source": [
    "del my_str"
   ]
  },
  {
   "cell_type": "code",
   "execution_count": 68,
   "id": "6dc5815f",
   "metadata": {},
   "outputs": [
    {
     "ename": "NameError",
     "evalue": "name 'my_str' is not defined",
     "output_type": "error",
     "traceback": [
      "\u001b[1;31m---------------------------------------------------------------------------\u001b[0m",
      "\u001b[1;31mNameError\u001b[0m                                 Traceback (most recent call last)",
      "\u001b[1;32m<ipython-input-68-4db06b0fe911>\u001b[0m in \u001b[0;36m<module>\u001b[1;34m\u001b[0m\n\u001b[1;32m----> 1\u001b[1;33m \u001b[0mmy_str\u001b[0m\u001b[1;33m\u001b[0m\u001b[1;33m\u001b[0m\u001b[0m\n\u001b[0m",
      "\u001b[1;31mNameError\u001b[0m: name 'my_str' is not defined"
     ]
    }
   ],
   "source": [
    "my_str"
   ]
  },
  {
   "cell_type": "markdown",
   "id": "fca4cd18",
   "metadata": {},
   "source": [
    "### Escape characters\n",
    "\n",
    "An escape character gets interpreted. It is not printed as is, and it starts with a `\\`(backslash character)"
   ]
  },
  {
   "cell_type": "code",
   "execution_count": 69,
   "id": "19d95aaf",
   "metadata": {},
   "outputs": [
    {
     "name": "stdout",
     "output_type": "stream",
     "text": [
      "Data\n",
      "Vader\n"
     ]
    }
   ],
   "source": [
    "# \\n works as newline cahracter\n",
    "my_str = 'Data\\nVader'\n",
    "print(my_str)"
   ]
  },
  {
   "cell_type": "code",
   "execution_count": 70,
   "id": "e0c0ab67",
   "metadata": {},
   "outputs": [
    {
     "name": "stdout",
     "output_type": "stream",
     "text": [
      "Data\tVader\n"
     ]
    }
   ],
   "source": [
    "# \\t works as tab cahracter\n",
    "my_str = 'Data\\tVader'\n",
    "print(my_str)"
   ]
  },
  {
   "cell_type": "markdown",
   "id": "0665f1f9",
   "metadata": {},
   "source": [
    "Raw String - Suppresses actual meaning of Escape characters. Use r/R just before the start of the string to mark it as raw string"
   ]
  },
  {
   "cell_type": "code",
   "execution_count": 76,
   "id": "fddd3577",
   "metadata": {},
   "outputs": [
    {
     "name": "stdout",
     "output_type": "stream",
     "text": [
      "Data\\nVader\n"
     ]
    }
   ],
   "source": [
    "my_str = r'Data\\nVader'\n",
    "print(my_str)"
   ]
  },
  {
   "cell_type": "code",
   "execution_count": 75,
   "id": "80e112b8",
   "metadata": {},
   "outputs": [
    {
     "name": "stdout",
     "output_type": "stream",
     "text": [
      "\n",
      "\n"
     ]
    }
   ],
   "source": [
    "my_str = '\\n'\n",
    "print(my_str)"
   ]
  },
  {
   "cell_type": "markdown",
   "id": "365abb3b",
   "metadata": {},
   "source": [
    "### String Operations\n",
    "\n",
    "There are many operations that can be performed with strings which makes it one of the most used data types in Python."
   ]
  },
  {
   "cell_type": "code",
   "execution_count": 78,
   "id": "1db20e08",
   "metadata": {},
   "outputs": [
    {
     "name": "stdout",
     "output_type": "stream",
     "text": [
      "Data Vader\n"
     ]
    }
   ],
   "source": [
    "# + operator concatenates two or more strings into one\n",
    "my_str_1 = \"Data\"\n",
    "my_str_2 = \"Vader\"\n",
    "\n",
    "print(my_str_1 + \" \" + my_str_2)"
   ]
  },
  {
   "cell_type": "code",
   "execution_count": 79,
   "id": "750c27f1",
   "metadata": {},
   "outputs": [
    {
     "name": "stdout",
     "output_type": "stream",
     "text": [
      "DataDataDataData\n"
     ]
    }
   ],
   "source": [
    "# * operator repeats a string given number of times\n",
    "print(my_str_1*4)"
   ]
  },
  {
   "cell_type": "markdown",
   "id": "c75f49d6",
   "metadata": {},
   "source": [
    "Check if a character or subtring is present in a string using `in` keyword"
   ]
  },
  {
   "cell_type": "code",
   "execution_count": 80,
   "id": "0a58289e",
   "metadata": {},
   "outputs": [
    {
     "data": {
      "text/plain": [
       "True"
      ]
     },
     "execution_count": 80,
     "metadata": {},
     "output_type": "execute_result"
    }
   ],
   "source": [
    "'a' in 'Data'"
   ]
  },
  {
   "cell_type": "code",
   "execution_count": 81,
   "id": "a7fa69f8",
   "metadata": {},
   "outputs": [
    {
     "data": {
      "text/plain": [
       "False"
      ]
     },
     "execution_count": 81,
     "metadata": {},
     "output_type": "execute_result"
    }
   ],
   "source": [
    "'d' in 'Data'"
   ]
  },
  {
   "cell_type": "code",
   "execution_count": 84,
   "id": "daa11071",
   "metadata": {},
   "outputs": [
    {
     "data": {
      "text/plain": [
       "True"
      ]
     },
     "execution_count": 84,
     "metadata": {},
     "output_type": "execute_result"
    }
   ],
   "source": [
    "'at' in 'Data'"
   ]
  },
  {
   "cell_type": "markdown",
   "id": "0eb098a2",
   "metadata": {},
   "source": [
    "use `not` along with `in` to check if it is not present"
   ]
  },
  {
   "cell_type": "code",
   "execution_count": 85,
   "id": "16a60d7b",
   "metadata": {},
   "outputs": [
    {
     "data": {
      "text/plain": [
       "True"
      ]
     },
     "execution_count": 85,
     "metadata": {},
     "output_type": "execute_result"
    }
   ],
   "source": [
    "'v' not in 'Data'"
   ]
  },
  {
   "cell_type": "code",
   "execution_count": 86,
   "id": "d8a0a05c",
   "metadata": {},
   "outputs": [
    {
     "data": {
      "text/plain": [
       "True"
      ]
     },
     "execution_count": 86,
     "metadata": {},
     "output_type": "execute_result"
    }
   ],
   "source": [
    "'vader' not in 'Data Vader'"
   ]
  },
  {
   "cell_type": "markdown",
   "id": "1ec417ad",
   "metadata": {},
   "source": [
    "The `format()` method that is available with the string object is very versatile and powerful in formatting strings. Format strings contain curly braces `{}` as placeholders or replacement fields which get replaced.\n",
    "\n",
    "We can use positional arguments or keyword arguments to specify the order."
   ]
  },
  {
   "cell_type": "code",
   "execution_count": 88,
   "id": "3b82fafb",
   "metadata": {},
   "outputs": [
    {
     "name": "stdout",
     "output_type": "stream",
     "text": [
      "Data-Vader\n"
     ]
    }
   ],
   "source": [
    "# default(implicit) order\n",
    "my_str = \"{}-{}\".format('Data','Vader')\n",
    "print(my_str)"
   ]
  },
  {
   "cell_type": "code",
   "execution_count": 89,
   "id": "1ac03968",
   "metadata": {},
   "outputs": [
    {
     "name": "stdout",
     "output_type": "stream",
     "text": [
      "Vader Data\n"
     ]
    }
   ],
   "source": [
    "# order using positional argument\n",
    "my_str = \"{1} {0}\".format('Data','Vader')\n",
    "print(my_str)"
   ]
  },
  {
   "cell_type": "code",
   "execution_count": 94,
   "id": "dc034b7d",
   "metadata": {},
   "outputs": [
    {
     "name": "stdout",
     "output_type": "stream",
     "text": [
      "Hello Welcome to vader.\n"
     ]
    }
   ],
   "source": [
    "# order using keyword argument\n",
    "s = 'Welcome to'\n",
    "my_str = \"Hello {a} {b}.\".format(a=s,b='vader')\n",
    "print(my_str)"
   ]
  },
  {
   "cell_type": "code",
   "execution_count": 96,
   "id": "6f63e329",
   "metadata": {},
   "outputs": [
    {
     "name": "stdout",
     "output_type": "stream",
     "text": [
      "Hello Data, welcome to data vader\n"
     ]
    }
   ],
   "source": [
    "roll = 123\n",
    "name = 'Data'\n",
    "my_str = 'Hello {}, welcome to data vader'.format(name)\n",
    "print(my_str)"
   ]
  },
  {
   "cell_type": "markdown",
   "id": "0701c981",
   "metadata": {},
   "source": [
    "### String Methods\n",
    "There are methods available with the string object. Some of the commonly used methods are `len()`, `lower()`, `upper()`, `split()`, `find()`, `replace()` etc."
   ]
  },
  {
   "cell_type": "code",
   "execution_count": 97,
   "id": "900e6889",
   "metadata": {},
   "outputs": [
    {
     "name": "stdout",
     "output_type": "stream",
     "text": [
      "10\n"
     ]
    }
   ],
   "source": [
    "my_str = 'Data Vader'\n",
    "print(len(my_str))"
   ]
  },
  {
   "cell_type": "code",
   "execution_count": 98,
   "id": "15fdf334",
   "metadata": {},
   "outputs": [
    {
     "name": "stdout",
     "output_type": "stream",
     "text": [
      "data vader\n"
     ]
    }
   ],
   "source": [
    "my_str = 'DaTa VaDeR'\n",
    "print(my_str.lower())"
   ]
  },
  {
   "cell_type": "code",
   "execution_count": 99,
   "id": "dd191d4e",
   "metadata": {},
   "outputs": [
    {
     "name": "stdout",
     "output_type": "stream",
     "text": [
      "DATA VADER\n"
     ]
    }
   ],
   "source": [
    "my_str = 'data vader'\n",
    "print(my_str.upper())"
   ]
  },
  {
   "cell_type": "code",
   "execution_count": 101,
   "id": "1d67dee8",
   "metadata": {},
   "outputs": [
    {
     "name": "stdout",
     "output_type": "stream",
     "text": [
      "['This is the', ' first python', ' session with Data Vader.']\n"
     ]
    }
   ],
   "source": [
    "my_str = 'This is the, first python, session with Data Vader.'\n",
    "print(my_str.split(','))"
   ]
  },
  {
   "cell_type": "code",
   "execution_count": 103,
   "id": "a517ea6b",
   "metadata": {},
   "outputs": [
    {
     "name": "stdout",
     "output_type": "stream",
     "text": [
      "2\n"
     ]
    }
   ],
   "source": [
    "my_str = 'This is the first python session with Data Vader.'\n",
    "print(my_str.find('i'))"
   ]
  },
  {
   "cell_type": "code",
   "execution_count": 104,
   "id": "3695630f",
   "metadata": {},
   "outputs": [
    {
     "name": "stdout",
     "output_type": "stream",
     "text": [
      "This is the second python session with Data Vader.\n"
     ]
    }
   ],
   "source": [
    "my_str = 'This is the first python session with Data Vader.'\n",
    "print(my_str.replace('first', 'second'))"
   ]
  },
  {
   "cell_type": "code",
   "execution_count": 105,
   "id": "8e88b6df",
   "metadata": {},
   "outputs": [
    {
     "name": "stdout",
     "output_type": "stream",
     "text": [
      "3\n"
     ]
    }
   ],
   "source": [
    "my_str = 'This is the first python session with Data Vader.'\n",
    "print(my_str.count('a'))"
   ]
  },
  {
   "cell_type": "code",
   "execution_count": 106,
   "id": "e72cfd9c",
   "metadata": {},
   "outputs": [
    {
     "name": "stdout",
     "output_type": "stream",
     "text": [
      "['Welcome to session 1', ' We hope you learned something today', '']\n"
     ]
    }
   ],
   "source": [
    "my_str = 'Welcome to session 1. We hope you learned something today.'\n",
    "print(my_str.split('.'))"
   ]
  },
  {
   "cell_type": "code",
   "execution_count": 107,
   "id": "4d6cf67c",
   "metadata": {},
   "outputs": [
    {
     "name": "stdout",
     "output_type": "stream",
     "text": [
      "Welcome to session 1. we hope you learned something today.\n"
     ]
    }
   ],
   "source": [
    "my_str = 'welcome to session 1. we hope you learned something today.'\n",
    "print(my_str.capitalize())"
   ]
  }
 ],
 "metadata": {
  "kernelspec": {
   "display_name": "Python 3",
   "language": "python",
   "name": "python3"
  },
  "language_info": {
   "codemirror_mode": {
    "name": "ipython",
    "version": 3
   },
   "file_extension": ".py",
   "mimetype": "text/x-python",
   "name": "python",
   "nbconvert_exporter": "python",
   "pygments_lexer": "ipython3",
   "version": "3.9.5"
  }
 },
 "nbformat": 4,
 "nbformat_minor": 5
}
