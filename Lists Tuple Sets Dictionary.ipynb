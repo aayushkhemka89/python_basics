{
 "cells": [
  {
   "cell_type": "markdown",
   "id": "6b59d660",
   "metadata": {},
   "source": [
    "## Lists\n",
    "\n",
    "List is one of the most frequently used and very versatile data types used in Python. It can be written as a list of comma-separated values (items) between square brackets. It can have different types of data format in it like integer, float, string etc."
   ]
  },
  {
   "cell_type": "code",
   "execution_count": 63,
   "id": "443f74e5",
   "metadata": {},
   "outputs": [
    {
     "name": "stdout",
     "output_type": "stream",
     "text": [
      "[]\n"
     ]
    }
   ],
   "source": [
    "my_list = []\n",
    "print(my_list)"
   ]
  },
  {
   "cell_type": "code",
   "execution_count": 64,
   "id": "bb939a43",
   "metadata": {},
   "outputs": [
    {
     "name": "stdout",
     "output_type": "stream",
     "text": [
      "[1, 2, 3]\n"
     ]
    }
   ],
   "source": [
    "my_list = [1, 2, 3]\n",
    "print(my_list)"
   ]
  },
  {
   "cell_type": "code",
   "execution_count": 65,
   "id": "566c7880",
   "metadata": {},
   "outputs": [
    {
     "name": "stdout",
     "output_type": "stream",
     "text": [
      "['Data', 21, 2.12]\n"
     ]
    }
   ],
   "source": [
    "my_list = [\"Data\", 21, 2.12]\n",
    "print(my_list)"
   ]
  },
  {
   "cell_type": "markdown",
   "id": "3f2c5ca7",
   "metadata": {},
   "source": [
    "A List can also have another list in it"
   ]
  },
  {
   "cell_type": "code",
   "execution_count": 66,
   "id": "d1cc15f3",
   "metadata": {},
   "outputs": [
    {
     "name": "stdout",
     "output_type": "stream",
     "text": [
      "[1, 2, ['data', 'vader'], 3]\n"
     ]
    }
   ],
   "source": [
    "my_list = [1, 2, [\"data\", \"vader\"], 3]\n",
    "print(my_list)"
   ]
  },
  {
   "cell_type": "markdown",
   "id": "3cb65754",
   "metadata": {},
   "source": [
    "List indices start at 0, and lists can be sliced and concatenated "
   ]
  },
  {
   "cell_type": "code",
   "execution_count": 67,
   "id": "caea4c7b",
   "metadata": {},
   "outputs": [
    {
     "name": "stdout",
     "output_type": "stream",
     "text": [
      "1\n"
     ]
    }
   ],
   "source": [
    "print(my_list[0])"
   ]
  },
  {
   "cell_type": "code",
   "execution_count": 68,
   "id": "226ce186",
   "metadata": {},
   "outputs": [
    {
     "name": "stdout",
     "output_type": "stream",
     "text": [
      "3\n"
     ]
    }
   ],
   "source": [
    "print(my_list[-1])"
   ]
  },
  {
   "cell_type": "code",
   "execution_count": 69,
   "id": "2a5660a6",
   "metadata": {},
   "outputs": [
    {
     "name": "stdout",
     "output_type": "stream",
     "text": [
      "['data', 'vader']\n"
     ]
    }
   ],
   "source": [
    "print(my_list[2])"
   ]
  },
  {
   "cell_type": "code",
   "execution_count": 70,
   "id": "6389a5bd",
   "metadata": {},
   "outputs": [
    {
     "name": "stdout",
     "output_type": "stream",
     "text": [
      "vader\n"
     ]
    }
   ],
   "source": [
    "print(my_list[2][1])"
   ]
  },
  {
   "cell_type": "code",
   "execution_count": 71,
   "id": "1e7b58ef",
   "metadata": {},
   "outputs": [
    {
     "name": "stdout",
     "output_type": "stream",
     "text": [
      "['d', 'a', 't', 'a', ' ', 'v', 'a', 'd', 'e', 'r']\n"
     ]
    }
   ],
   "source": [
    "my_list = list(\"data vader\")\n",
    "print(my_list)"
   ]
  },
  {
   "cell_type": "code",
   "execution_count": 72,
   "id": "4d7b3f26",
   "metadata": {},
   "outputs": [
    {
     "name": "stdout",
     "output_type": "stream",
     "text": [
      "['d', 'a', 't', 'a', ' ', 'v', 'a', 'd', 'e', 'r']\n"
     ]
    }
   ],
   "source": [
    "print(my_list[:])"
   ]
  },
  {
   "cell_type": "code",
   "execution_count": 73,
   "id": "9f07416e",
   "metadata": {},
   "outputs": [
    {
     "name": "stdout",
     "output_type": "stream",
     "text": [
      "['d', 'a', 't']\n"
     ]
    }
   ],
   "source": [
    "print(my_list[:3])"
   ]
  },
  {
   "cell_type": "code",
   "execution_count": 74,
   "id": "ca532669",
   "metadata": {},
   "outputs": [
    {
     "name": "stdout",
     "output_type": "stream",
     "text": [
      "['t', 'a', ' ']\n"
     ]
    }
   ],
   "source": [
    "print(my_list[2:5])"
   ]
  },
  {
   "cell_type": "code",
   "execution_count": 75,
   "id": "6b12797d",
   "metadata": {},
   "outputs": [
    {
     "name": "stdout",
     "output_type": "stream",
     "text": [
      "['d', 'e', 'r']\n"
     ]
    }
   ],
   "source": [
    "print(my_list[-3:])"
   ]
  },
  {
   "cell_type": "markdown",
   "id": "91d25a4f",
   "metadata": {},
   "source": [
    "You can update single or multiple elements of lists by giving the slice on the left-hand side of the assignment operator, and you can add to elements in a list with the `append()` method. "
   ]
  },
  {
   "cell_type": "code",
   "execution_count": 76,
   "id": "2526427c",
   "metadata": {},
   "outputs": [
    {
     "name": "stdout",
     "output_type": "stream",
     "text": [
      "['Z', 'a', 't', 'a', ' ', 'v', 'a', 'd', 'e', 'r']\n"
     ]
    }
   ],
   "source": [
    "my_list[0] = 'Z'\n",
    "print(my_list)"
   ]
  },
  {
   "cell_type": "code",
   "execution_count": 77,
   "id": "8e421d20",
   "metadata": {},
   "outputs": [
    {
     "name": "stdout",
     "output_type": "stream",
     "text": [
      "['p', 'i', 'e', 'a', ' ', 'v', 'a', 'd', 'e', 'r']\n"
     ]
    }
   ],
   "source": [
    "my_list[:3] = ['p', 'i', 'e']\n",
    "print(my_list)"
   ]
  },
  {
   "cell_type": "code",
   "execution_count": 78,
   "id": "879e56c3",
   "metadata": {},
   "outputs": [
    {
     "name": "stdout",
     "output_type": "stream",
     "text": [
      "['p', 'i', 'e', 'a', ' ', 'v', 'a', 'd', 'e', 'r', '2']\n"
     ]
    }
   ],
   "source": [
    "my_list.append('2')\n",
    "print(my_list)"
   ]
  },
  {
   "cell_type": "code",
   "execution_count": 79,
   "id": "ce25e5a3",
   "metadata": {},
   "outputs": [
    {
     "name": "stdout",
     "output_type": "stream",
     "text": [
      "['p', 'i', 'e', 'a', ' ', 'v', 'a', 'd', 'e', 'r', '2', ['p', 'y', 't', 'h', 'o', 'n']]\n"
     ]
    }
   ],
   "source": [
    "my_list.append(list('python'))\n",
    "print(my_list)"
   ]
  },
  {
   "cell_type": "code",
   "execution_count": 80,
   "id": "7355b4c5",
   "metadata": {},
   "outputs": [
    {
     "name": "stdout",
     "output_type": "stream",
     "text": [
      "['p', 'i', 'e', 'a', ' ', 'v', 'a', 'd', 'e', 'r', '2', ['p', 'y', 't', 'h', 'o', 'n'], 'p', 'y', 't', 'h', 'o', 'n']\n"
     ]
    }
   ],
   "source": [
    "my_list.extend(list('python'))\n",
    "print(my_list)"
   ]
  },
  {
   "cell_type": "code",
   "execution_count": 81,
   "id": "f5f82815",
   "metadata": {},
   "outputs": [
    {
     "name": "stdout",
     "output_type": "stream",
     "text": [
      "[1, 2, 3, 11, 12, 13]\n"
     ]
    }
   ],
   "source": [
    "my_list_1 = [1,2,3]\n",
    "my_list_2 = [11,12,13]\n",
    "print(my_list_1 + my_list_2)"
   ]
  },
  {
   "cell_type": "code",
   "execution_count": 82,
   "id": "cd0eeedd",
   "metadata": {},
   "outputs": [
    {
     "name": "stdout",
     "output_type": "stream",
     "text": [
      "[1, 2, 3, 1, 2, 3]\n"
     ]
    }
   ],
   "source": [
    "print(my_list_1 * 2)"
   ]
  },
  {
   "cell_type": "code",
   "execution_count": 83,
   "id": "20c357a6",
   "metadata": {},
   "outputs": [
    {
     "name": "stdout",
     "output_type": "stream",
     "text": [
      "[1, 5, 2, 3]\n"
     ]
    }
   ],
   "source": [
    "my_list_1.insert(1,5)\n",
    "print(my_list_1)"
   ]
  },
  {
   "cell_type": "markdown",
   "id": "059cc234",
   "metadata": {},
   "source": [
    "To remove a list element, you can use either the del statement if you know exactly which element(s) you are deleting or the `remove()` method if you do not know"
   ]
  },
  {
   "cell_type": "code",
   "execution_count": 84,
   "id": "c48a4f0d",
   "metadata": {},
   "outputs": [
    {
     "name": "stdout",
     "output_type": "stream",
     "text": [
      "[1, 2, 3]\n"
     ]
    }
   ],
   "source": [
    "del my_list_1[1]\n",
    "print(my_list_1)"
   ]
  },
  {
   "cell_type": "code",
   "execution_count": 85,
   "id": "3951da27",
   "metadata": {},
   "outputs": [
    {
     "name": "stdout",
     "output_type": "stream",
     "text": [
      "[1, 3]\n"
     ]
    }
   ],
   "source": [
    "my_list_1.remove(2)\n",
    "print(my_list_1)"
   ]
  },
  {
   "cell_type": "code",
   "execution_count": 86,
   "id": "a71c4d84",
   "metadata": {},
   "outputs": [
    {
     "name": "stdout",
     "output_type": "stream",
     "text": [
      "[1, 3, 2, 2, 2]\n"
     ]
    }
   ],
   "source": [
    "my_list_1.extend([2]*3)\n",
    "print(my_list_1)"
   ]
  },
  {
   "cell_type": "code",
   "execution_count": 87,
   "id": "77d0d328",
   "metadata": {},
   "outputs": [
    {
     "name": "stdout",
     "output_type": "stream",
     "text": [
      "[1, 3, 2, 2]\n"
     ]
    }
   ],
   "source": [
    "my_list_1.remove(2)\n",
    "print(my_list_1)"
   ]
  },
  {
   "cell_type": "code",
   "execution_count": 88,
   "id": "a49f1494",
   "metadata": {},
   "outputs": [
    {
     "name": "stdout",
     "output_type": "stream",
     "text": [
      "[]\n"
     ]
    }
   ],
   "source": [
    "my_list_1.clear()\n",
    "print(my_list_1)"
   ]
  },
  {
   "cell_type": "code",
   "execution_count": 89,
   "id": "f99a7847",
   "metadata": {},
   "outputs": [],
   "source": [
    "my_list = [1,2,3,4,5,6,7,8,9,1,1,2,4,5,6,7]"
   ]
  },
  {
   "cell_type": "code",
   "execution_count": 90,
   "id": "670c0994",
   "metadata": {},
   "outputs": [
    {
     "name": "stdout",
     "output_type": "stream",
     "text": [
      "16\n"
     ]
    }
   ],
   "source": [
    "print(len(my_list))"
   ]
  },
  {
   "cell_type": "code",
   "execution_count": 91,
   "id": "12144477",
   "metadata": {},
   "outputs": [
    {
     "name": "stdout",
     "output_type": "stream",
     "text": [
      "[7, 6, 5, 4, 2, 1, 1, 9, 8, 7, 6, 5, 4, 3, 2, 1]\n"
     ]
    }
   ],
   "source": [
    "my_list.reverse()\n",
    "print(my_list)"
   ]
  },
  {
   "cell_type": "code",
   "execution_count": 92,
   "id": "b6e83f6b",
   "metadata": {},
   "outputs": [
    {
     "name": "stdout",
     "output_type": "stream",
     "text": [
      "3\n"
     ]
    }
   ],
   "source": [
    "print(my_list.count(1))"
   ]
  },
  {
   "cell_type": "code",
   "execution_count": 93,
   "id": "af909840",
   "metadata": {},
   "outputs": [
    {
     "name": "stdout",
     "output_type": "stream",
     "text": [
      "[1, 1, 1, 2, 2, 3, 4, 4, 5, 5, 6, 6, 7, 7, 8, 9]\n"
     ]
    }
   ],
   "source": [
    "my_list.sort()\n",
    "print(my_list)"
   ]
  },
  {
   "cell_type": "code",
   "execution_count": 94,
   "id": "dc1ec3cf",
   "metadata": {},
   "outputs": [
    {
     "name": "stdout",
     "output_type": "stream",
     "text": [
      "[1, 1, 2, 4, 5, 6, 7, 8]\n"
     ]
    }
   ],
   "source": [
    "print(my_list[::2])"
   ]
  },
  {
   "cell_type": "code",
   "execution_count": 95,
   "id": "a5ea0cfb",
   "metadata": {},
   "outputs": [
    {
     "name": "stdout",
     "output_type": "stream",
     "text": [
      "[9, 8, 7, 7, 6, 6, 5, 5, 4, 4, 3, 2, 2, 1, 1, 1]\n"
     ]
    }
   ],
   "source": [
    "print(my_list[::-1])"
   ]
  },
  {
   "cell_type": "code",
   "execution_count": 96,
   "id": "7ea57139",
   "metadata": {},
   "outputs": [
    {
     "name": "stdout",
     "output_type": "stream",
     "text": [
      "[9, 7, 6, 5, 4, 3, 2, 1]\n"
     ]
    }
   ],
   "source": [
    "print(my_list[::-2])"
   ]
  },
  {
   "cell_type": "markdown",
   "id": "3adef227",
   "metadata": {},
   "source": [
    "List comprehension is an elegant and concise way to create a new list from an existing list in Python.\n",
    "\n",
    "A list comprehension consists of an expression followed by for statement inside square brackets."
   ]
  },
  {
   "cell_type": "code",
   "execution_count": 97,
   "id": "570ba3f5",
   "metadata": {},
   "outputs": [
    {
     "name": "stdout",
     "output_type": "stream",
     "text": [
      "[0, 1, 4, 9, 16, 25, 36, 49, 64, 81]\n"
     ]
    }
   ],
   "source": [
    "sqr = [x * x for x in range(10)]\n",
    "print(sqr)"
   ]
  },
  {
   "cell_type": "markdown",
   "id": "5de6baab",
   "metadata": {},
   "source": [
    "You can add if statement after for to filter/ignore values based on condtion"
   ]
  },
  {
   "cell_type": "code",
   "execution_count": 98,
   "id": "7bfcb2f6",
   "metadata": {},
   "outputs": [
    {
     "name": "stdout",
     "output_type": "stream",
     "text": [
      "[0, 4, 16, 36, 64]\n"
     ]
    }
   ],
   "source": [
    "sqr_even = [x * x for x in range(10) if x % 2 == 0]\n",
    "print(sqr_even)"
   ]
  },
  {
   "cell_type": "code",
   "execution_count": 99,
   "id": "ff3a3d5f",
   "metadata": {},
   "outputs": [
    {
     "data": {
      "text/plain": [
       "True"
      ]
     },
     "execution_count": 99,
     "metadata": {},
     "output_type": "execute_result"
    }
   ],
   "source": [
    "4 in sqr_even"
   ]
  },
  {
   "cell_type": "code",
   "execution_count": 100,
   "id": "271b26cb",
   "metadata": {},
   "outputs": [
    {
     "data": {
      "text/plain": [
       "False"
      ]
     },
     "execution_count": 100,
     "metadata": {},
     "output_type": "execute_result"
    }
   ],
   "source": [
    "5 in sqr_even"
   ]
  },
  {
   "cell_type": "code",
   "execution_count": 101,
   "id": "fc792591",
   "metadata": {},
   "outputs": [
    {
     "data": {
      "text/plain": [
       "True"
      ]
     },
     "execution_count": 101,
     "metadata": {},
     "output_type": "execute_result"
    }
   ],
   "source": [
    "5 not in sqr_even"
   ]
  },
  {
   "cell_type": "code",
   "execution_count": 102,
   "id": "6c3f4218",
   "metadata": {},
   "outputs": [
    {
     "data": {
      "text/plain": [
       "False"
      ]
     },
     "execution_count": 102,
     "metadata": {},
     "output_type": "execute_result"
    }
   ],
   "source": [
    "[4,16] in sqr_even"
   ]
  },
  {
   "cell_type": "markdown",
   "id": "38c169ca",
   "metadata": {},
   "source": [
    "## Tuple\n",
    "\n",
    "A tuple in Python is like a list. The main difference between the two is that tuple is immutabel, i.e. we cannot change the elements of a tuple once it is assigned. Another difference is use parentheses `()`, whereas lists use square brackets `[]`.\n",
    "\n",
    "A tuple is created by placing all the items (elements) inside parentheses `()`, separated by commas. The parentheses are optional, however, it is a good practice to use them."
   ]
  },
  {
   "cell_type": "code",
   "execution_count": 103,
   "id": "8d39dc25",
   "metadata": {},
   "outputs": [
    {
     "name": "stdout",
     "output_type": "stream",
     "text": [
      "()\n"
     ]
    }
   ],
   "source": [
    "my_tuple = ()\n",
    "print(my_tuple)"
   ]
  },
  {
   "cell_type": "code",
   "execution_count": 104,
   "id": "89d139dc",
   "metadata": {},
   "outputs": [
    {
     "name": "stdout",
     "output_type": "stream",
     "text": [
      "(1, 2, 3)\n"
     ]
    }
   ],
   "source": [
    "my_tuple = (1, 2, 3)\n",
    "print(my_tuple)"
   ]
  },
  {
   "cell_type": "code",
   "execution_count": 105,
   "id": "9927d9d1",
   "metadata": {},
   "outputs": [
    {
     "name": "stdout",
     "output_type": "stream",
     "text": [
      "('Data', 21, 2.12)\n"
     ]
    }
   ],
   "source": [
    "my_tuple = (\"Data\", 21, 2.12)\n",
    "print(my_tuple)"
   ]
  },
  {
   "cell_type": "markdown",
   "id": "e4e5c665",
   "metadata": {},
   "source": [
    "A tuple can also have another tuple in it"
   ]
  },
  {
   "cell_type": "code",
   "execution_count": 106,
   "id": "56ce659e",
   "metadata": {},
   "outputs": [
    {
     "name": "stdout",
     "output_type": "stream",
     "text": [
      "(1, 2, ('data', 'vader'), 3)\n"
     ]
    }
   ],
   "source": [
    "my_tuple = (1, 2, (\"data\", \"vader\"), 3)\n",
    "print(my_tuple)"
   ]
  },
  {
   "cell_type": "code",
   "execution_count": 107,
   "id": "a9445b72",
   "metadata": {},
   "outputs": [
    {
     "name": "stdout",
     "output_type": "stream",
     "text": [
      "(1, 9.8, 'hello')\n"
     ]
    }
   ],
   "source": [
    "my_tuple = 1, 9.8, \"hello\"\n",
    "print(my_tuple)"
   ]
  },
  {
   "cell_type": "code",
   "execution_count": 108,
   "id": "0c404c61",
   "metadata": {},
   "outputs": [
    {
     "ename": "TypeError",
     "evalue": "'tuple' object does not support item assignment",
     "output_type": "error",
     "traceback": [
      "\u001b[1;31m---------------------------------------------------------------------------\u001b[0m",
      "\u001b[1;31mTypeError\u001b[0m                                 Traceback (most recent call last)",
      "\u001b[1;32m<ipython-input-108-e717c96c873b>\u001b[0m in \u001b[0;36m<module>\u001b[1;34m\u001b[0m\n\u001b[1;32m----> 1\u001b[1;33m \u001b[0mmy_tuple\u001b[0m\u001b[1;33m[\u001b[0m\u001b[1;36m1\u001b[0m\u001b[1;33m]\u001b[0m \u001b[1;33m=\u001b[0m \u001b[1;36m2.31\u001b[0m\u001b[1;33m\u001b[0m\u001b[1;33m\u001b[0m\u001b[0m\n\u001b[0m",
      "\u001b[1;31mTypeError\u001b[0m: 'tuple' object does not support item assignment"
     ]
    }
   ],
   "source": [
    "my_tuple[1] = 2.31"
   ]
  },
  {
   "cell_type": "code",
   "execution_count": 109,
   "id": "bc5ac419",
   "metadata": {},
   "outputs": [
    {
     "name": "stdout",
     "output_type": "stream",
     "text": [
      "vader\n"
     ]
    }
   ],
   "source": [
    "my_tuple = (1, 2, (\"data\", \"vader\"), 3)\n",
    "print(my_tuple[2][1])"
   ]
  },
  {
   "cell_type": "code",
   "execution_count": 110,
   "id": "e8eba73c",
   "metadata": {},
   "outputs": [
    {
     "ename": "TypeError",
     "evalue": "'tuple' object does not support item assignment",
     "output_type": "error",
     "traceback": [
      "\u001b[1;31m---------------------------------------------------------------------------\u001b[0m",
      "\u001b[1;31mTypeError\u001b[0m                                 Traceback (most recent call last)",
      "\u001b[1;32m<ipython-input-110-409f6981d44e>\u001b[0m in \u001b[0;36m<module>\u001b[1;34m\u001b[0m\n\u001b[1;32m----> 1\u001b[1;33m \u001b[0mmy_tuple\u001b[0m\u001b[1;33m[\u001b[0m\u001b[1;36m2\u001b[0m\u001b[1;33m]\u001b[0m\u001b[1;33m[\u001b[0m\u001b[1;36m1\u001b[0m\u001b[1;33m]\u001b[0m \u001b[1;33m=\u001b[0m \u001b[1;34m\"analysis\"\u001b[0m\u001b[1;33m\u001b[0m\u001b[1;33m\u001b[0m\u001b[0m\n\u001b[0m",
      "\u001b[1;31mTypeError\u001b[0m: 'tuple' object does not support item assignment"
     ]
    }
   ],
   "source": [
    "my_tuple[2][1] = \"analysis\""
   ]
  },
  {
   "cell_type": "code",
   "execution_count": 111,
   "id": "7238c7a1",
   "metadata": {},
   "outputs": [
    {
     "name": "stdout",
     "output_type": "stream",
     "text": [
      "(1, 2, ['data', 'analysis'], 3)\n"
     ]
    }
   ],
   "source": [
    "my_tuple = (1, 2, [\"data\", \"vader\"], 3)\n",
    "my_tuple[2][1] = \"analysis\"\n",
    "print(my_tuple)"
   ]
  },
  {
   "cell_type": "code",
   "execution_count": 112,
   "id": "36e9cd05",
   "metadata": {},
   "outputs": [
    {
     "ename": "TypeError",
     "evalue": "'tuple' object doesn't support item deletion",
     "output_type": "error",
     "traceback": [
      "\u001b[1;31m---------------------------------------------------------------------------\u001b[0m",
      "\u001b[1;31mTypeError\u001b[0m                                 Traceback (most recent call last)",
      "\u001b[1;32m<ipython-input-112-3cef92bcdcf5>\u001b[0m in \u001b[0;36m<module>\u001b[1;34m\u001b[0m\n\u001b[1;32m----> 1\u001b[1;33m \u001b[1;32mdel\u001b[0m \u001b[0mmy_tuple\u001b[0m\u001b[1;33m[\u001b[0m\u001b[1;36m2\u001b[0m\u001b[1;33m]\u001b[0m\u001b[1;33m\u001b[0m\u001b[1;33m\u001b[0m\u001b[0m\n\u001b[0m",
      "\u001b[1;31mTypeError\u001b[0m: 'tuple' object doesn't support item deletion"
     ]
    }
   ],
   "source": [
    "del my_tuple[2]"
   ]
  },
  {
   "cell_type": "code",
   "execution_count": 113,
   "id": "44040d3e",
   "metadata": {},
   "outputs": [],
   "source": [
    "del my_tuple[2][1]"
   ]
  },
  {
   "cell_type": "code",
   "execution_count": 114,
   "id": "5ff2a628",
   "metadata": {},
   "outputs": [
    {
     "name": "stdout",
     "output_type": "stream",
     "text": [
      "(1, 2, ['data'], 3)\n"
     ]
    }
   ],
   "source": [
    "print(my_tuple)"
   ]
  },
  {
   "cell_type": "code",
   "execution_count": 115,
   "id": "c1538017",
   "metadata": {},
   "outputs": [],
   "source": [
    "del my_tuple"
   ]
  },
  {
   "cell_type": "code",
   "execution_count": 116,
   "id": "65685756",
   "metadata": {},
   "outputs": [
    {
     "ename": "NameError",
     "evalue": "name 'my_tuple' is not defined",
     "output_type": "error",
     "traceback": [
      "\u001b[1;31m---------------------------------------------------------------------------\u001b[0m",
      "\u001b[1;31mNameError\u001b[0m                                 Traceback (most recent call last)",
      "\u001b[1;32m<ipython-input-116-a32cbb859ab4>\u001b[0m in \u001b[0;36m<module>\u001b[1;34m\u001b[0m\n\u001b[1;32m----> 1\u001b[1;33m \u001b[0mprint\u001b[0m\u001b[1;33m(\u001b[0m\u001b[0mmy_tuple\u001b[0m\u001b[1;33m)\u001b[0m\u001b[1;33m\u001b[0m\u001b[1;33m\u001b[0m\u001b[0m\n\u001b[0m",
      "\u001b[1;31mNameError\u001b[0m: name 'my_tuple' is not defined"
     ]
    }
   ],
   "source": [
    "print(my_tuple)"
   ]
  },
  {
   "cell_type": "markdown",
   "id": "246d22a8",
   "metadata": {},
   "source": [
    "## Set\n",
    "\n",
    "A set is an unordered collection of items. Every set element is unique (no duplicates) and must be immutable (cannot be changed). However, a set itself is mutable. We can add or remove items from it.\n",
    "\n",
    "Sets can also be used to perform mathematical set operations like union, intersection, difference, etc.\n",
    "\n",
    "A set is created by placing all the elements (items) inside curly braces `{}`, separated by comma, or by using the built-in `set()` function."
   ]
  },
  {
   "cell_type": "code",
   "execution_count": 117,
   "id": "70818795",
   "metadata": {},
   "outputs": [
    {
     "name": "stdout",
     "output_type": "stream",
     "text": [
      "{1, 2, 3}\n"
     ]
    }
   ],
   "source": [
    "my_set = {2, 1, 3}\n",
    "print(my_set)"
   ]
  },
  {
   "cell_type": "code",
   "execution_count": 118,
   "id": "7146df02",
   "metadata": {},
   "outputs": [
    {
     "name": "stdout",
     "output_type": "stream",
     "text": [
      "{1.0, (9, 10, 11), 'Data'}\n"
     ]
    }
   ],
   "source": [
    "my_set = {1.0, \"Data\", (9,10,11)}\n",
    "print(my_set)"
   ]
  },
  {
   "cell_type": "code",
   "execution_count": 119,
   "id": "c53358e0",
   "metadata": {},
   "outputs": [
    {
     "name": "stdout",
     "output_type": "stream",
     "text": [
      "{1, 2, 3}\n"
     ]
    }
   ],
   "source": [
    "my_set = {1, 2, 3, 1, 1, 2}\n",
    "print(my_set)"
   ]
  },
  {
   "cell_type": "code",
   "execution_count": 120,
   "id": "33c1bec9",
   "metadata": {},
   "outputs": [
    {
     "name": "stdout",
     "output_type": "stream",
     "text": [
      "{1, 2, 3}\n"
     ]
    }
   ],
   "source": [
    "my_set = set([1, 2, 3, 1])\n",
    "print(my_set)"
   ]
  },
  {
   "cell_type": "code",
   "execution_count": 121,
   "id": "b16caf6a",
   "metadata": {},
   "outputs": [
    {
     "ename": "TypeError",
     "evalue": "unhashable type: 'list'",
     "output_type": "error",
     "traceback": [
      "\u001b[1;31m---------------------------------------------------------------------------\u001b[0m",
      "\u001b[1;31mTypeError\u001b[0m                                 Traceback (most recent call last)",
      "\u001b[1;32m<ipython-input-121-8377226e0e99>\u001b[0m in \u001b[0;36m<module>\u001b[1;34m\u001b[0m\n\u001b[1;32m----> 1\u001b[1;33m \u001b[0mmy_set\u001b[0m \u001b[1;33m=\u001b[0m \u001b[1;33m{\u001b[0m\u001b[1;36m1\u001b[0m\u001b[1;33m,\u001b[0m \u001b[1;36m2\u001b[0m\u001b[1;33m,\u001b[0m \u001b[1;33m[\u001b[0m\u001b[1;36m3\u001b[0m\u001b[1;33m,\u001b[0m \u001b[1;36m4\u001b[0m\u001b[1;33m]\u001b[0m\u001b[1;33m}\u001b[0m\u001b[1;33m\u001b[0m\u001b[1;33m\u001b[0m\u001b[0m\n\u001b[0m",
      "\u001b[1;31mTypeError\u001b[0m: unhashable type: 'list'"
     ]
    }
   ],
   "source": [
    "my_set = {1, 2, [3, 4]}"
   ]
  },
  {
   "cell_type": "code",
   "execution_count": 122,
   "id": "d423c79b",
   "metadata": {},
   "outputs": [
    {
     "ename": "TypeError",
     "evalue": "'set' object is not subscriptable",
     "output_type": "error",
     "traceback": [
      "\u001b[1;31m---------------------------------------------------------------------------\u001b[0m",
      "\u001b[1;31mTypeError\u001b[0m                                 Traceback (most recent call last)",
      "\u001b[1;32m<ipython-input-122-158c424478a1>\u001b[0m in \u001b[0;36m<module>\u001b[1;34m\u001b[0m\n\u001b[1;32m----> 1\u001b[1;33m \u001b[0mmy_set\u001b[0m\u001b[1;33m[\u001b[0m\u001b[1;36m0\u001b[0m\u001b[1;33m]\u001b[0m\u001b[1;33m\u001b[0m\u001b[1;33m\u001b[0m\u001b[0m\n\u001b[0m",
      "\u001b[1;31mTypeError\u001b[0m: 'set' object is not subscriptable"
     ]
    }
   ],
   "source": [
    "my_set[0]"
   ]
  },
  {
   "cell_type": "markdown",
   "id": "337c920a",
   "metadata": {},
   "source": [
    "You can add a single element using the `add()` method, and multiple elements using the `update()` method."
   ]
  },
  {
   "cell_type": "code",
   "execution_count": 123,
   "id": "06f0b11f",
   "metadata": {},
   "outputs": [
    {
     "name": "stdout",
     "output_type": "stream",
     "text": [
      "{1, 2, 3, 9}\n"
     ]
    }
   ],
   "source": [
    "my_set.add(9)\n",
    "print(my_set)"
   ]
  },
  {
   "cell_type": "code",
   "execution_count": 124,
   "id": "f23e2c25",
   "metadata": {},
   "outputs": [
    {
     "name": "stdout",
     "output_type": "stream",
     "text": [
      "{1, 2, 3, 9, 15, 21}\n"
     ]
    }
   ],
   "source": [
    "my_set.update([9, 15, 21])\n",
    "print(my_set)"
   ]
  },
  {
   "cell_type": "code",
   "execution_count": 125,
   "id": "0407f367",
   "metadata": {},
   "outputs": [
    {
     "name": "stdout",
     "output_type": "stream",
     "text": [
      "{1, 2, 3, 9, 15, 20, 21, 29}\n"
     ]
    }
   ],
   "source": [
    "my_set.update((21, 29, 20))\n",
    "print(my_set)"
   ]
  },
  {
   "cell_type": "markdown",
   "id": "b3f58880",
   "metadata": {},
   "source": [
    "A particular item can be removed from a set using the methods `discard()` and `remove()`. The only difference between the two is that the `discard()` function leaves a set unchanged if the element is not present in the set. On the other hand, the `remove()` function will raise an error in such a condition."
   ]
  },
  {
   "cell_type": "code",
   "execution_count": 126,
   "id": "438a3e43",
   "metadata": {},
   "outputs": [
    {
     "name": "stdout",
     "output_type": "stream",
     "text": [
      "{1, 3, 9, 15, 20, 21, 29}\n"
     ]
    }
   ],
   "source": [
    "my_set.discard(2)\n",
    "print(my_set)"
   ]
  },
  {
   "cell_type": "code",
   "execution_count": 127,
   "id": "4cc8738d",
   "metadata": {},
   "outputs": [
    {
     "name": "stdout",
     "output_type": "stream",
     "text": [
      "{1, 3, 9, 15, 20, 21, 29}\n"
     ]
    }
   ],
   "source": [
    "my_set.discard(2)\n",
    "print(my_set)"
   ]
  },
  {
   "cell_type": "code",
   "execution_count": 128,
   "id": "1661bc7c",
   "metadata": {},
   "outputs": [
    {
     "ename": "KeyError",
     "evalue": "2",
     "output_type": "error",
     "traceback": [
      "\u001b[1;31m---------------------------------------------------------------------------\u001b[0m",
      "\u001b[1;31mKeyError\u001b[0m                                  Traceback (most recent call last)",
      "\u001b[1;32m<ipython-input-128-5e5c13640ed4>\u001b[0m in \u001b[0;36m<module>\u001b[1;34m\u001b[0m\n\u001b[1;32m----> 1\u001b[1;33m \u001b[0mmy_set\u001b[0m\u001b[1;33m.\u001b[0m\u001b[0mremove\u001b[0m\u001b[1;33m(\u001b[0m\u001b[1;36m2\u001b[0m\u001b[1;33m)\u001b[0m\u001b[1;33m\u001b[0m\u001b[1;33m\u001b[0m\u001b[0m\n\u001b[0m\u001b[0;32m      2\u001b[0m \u001b[0mprint\u001b[0m\u001b[1;33m(\u001b[0m\u001b[0mmy_set\u001b[0m\u001b[1;33m)\u001b[0m\u001b[1;33m\u001b[0m\u001b[1;33m\u001b[0m\u001b[0m\n",
      "\u001b[1;31mKeyError\u001b[0m: 2"
     ]
    }
   ],
   "source": [
    "my_set.remove(2)\n",
    "print(my_set)"
   ]
  },
  {
   "cell_type": "code",
   "execution_count": 129,
   "id": "695bc8d5",
   "metadata": {},
   "outputs": [
    {
     "name": "stdout",
     "output_type": "stream",
     "text": [
      "{1, 3, 15, 20, 21, 29}\n"
     ]
    }
   ],
   "source": [
    "my_set.remove(9)\n",
    "print(my_set)"
   ]
  },
  {
   "cell_type": "code",
   "execution_count": 130,
   "id": "a1964a31",
   "metadata": {},
   "outputs": [
    {
     "name": "stdout",
     "output_type": "stream",
     "text": [
      "{1, 15, 20, 21, 29}\n"
     ]
    }
   ],
   "source": [
    "my_set.remove(3)\n",
    "print(my_set)"
   ]
  },
  {
   "cell_type": "markdown",
   "id": "84bcab1d",
   "metadata": {},
   "source": [
    "Sets can be used to carry out mathematical set operations like union, intersection, difference and difference. We can do this with operators or methods."
   ]
  },
  {
   "cell_type": "code",
   "execution_count": 131,
   "id": "be9ab4f0",
   "metadata": {},
   "outputs": [],
   "source": [
    "my_set_1 = {1,2,3,5,7,8,9,10,11}\n",
    "my_set_2 = {2,3,4,5,6,7,8,12,13}"
   ]
  },
  {
   "cell_type": "code",
   "execution_count": 132,
   "id": "ce528ae9",
   "metadata": {},
   "outputs": [
    {
     "name": "stdout",
     "output_type": "stream",
     "text": [
      "{1, 2, 3, 4, 5, 6, 7, 8, 9, 10, 11, 12, 13}\n"
     ]
    }
   ],
   "source": [
    "print(my_set_1.union(my_set_2))"
   ]
  },
  {
   "cell_type": "code",
   "execution_count": 133,
   "id": "0d791504",
   "metadata": {},
   "outputs": [
    {
     "name": "stdout",
     "output_type": "stream",
     "text": [
      "{1, 2, 3, 4, 5, 6, 7, 8, 9, 10, 11, 12, 13}\n"
     ]
    }
   ],
   "source": [
    "print(my_set_1 | my_set_2)"
   ]
  },
  {
   "cell_type": "code",
   "execution_count": 134,
   "id": "49329503",
   "metadata": {},
   "outputs": [
    {
     "name": "stdout",
     "output_type": "stream",
     "text": [
      "{2, 3, 5, 7, 8}\n"
     ]
    }
   ],
   "source": [
    "print(my_set_1.intersection(my_set_2))"
   ]
  },
  {
   "cell_type": "code",
   "execution_count": 135,
   "id": "4b5efdb7",
   "metadata": {},
   "outputs": [
    {
     "name": "stdout",
     "output_type": "stream",
     "text": [
      "{2, 3, 5, 7, 8}\n"
     ]
    }
   ],
   "source": [
    "print(my_set_1 & my_set_2)"
   ]
  },
  {
   "cell_type": "code",
   "execution_count": 136,
   "id": "c634ee1a",
   "metadata": {},
   "outputs": [
    {
     "name": "stdout",
     "output_type": "stream",
     "text": [
      "{1, 10, 11, 9}\n"
     ]
    }
   ],
   "source": [
    "print(my_set_1.difference(my_set_2))"
   ]
  },
  {
   "cell_type": "code",
   "execution_count": 137,
   "id": "99fc404f",
   "metadata": {},
   "outputs": [
    {
     "name": "stdout",
     "output_type": "stream",
     "text": [
      "{13, 4, 12, 6}\n"
     ]
    }
   ],
   "source": [
    "print(my_set_2.difference(my_set_1))"
   ]
  },
  {
   "cell_type": "code",
   "execution_count": 138,
   "id": "30674e77",
   "metadata": {},
   "outputs": [
    {
     "name": "stdout",
     "output_type": "stream",
     "text": [
      "{1, 10, 11, 9}\n"
     ]
    }
   ],
   "source": [
    "print(my_set_1 - my_set_2)"
   ]
  },
  {
   "cell_type": "code",
   "execution_count": 139,
   "id": "730cd4fd",
   "metadata": {},
   "outputs": [
    {
     "name": "stdout",
     "output_type": "stream",
     "text": [
      "{1, 4, 6, 9, 10, 11, 12, 13}\n"
     ]
    }
   ],
   "source": [
    "print(my_set_1.symmetric_difference(my_set_2))"
   ]
  },
  {
   "cell_type": "code",
   "execution_count": 140,
   "id": "c7919305",
   "metadata": {},
   "outputs": [
    {
     "name": "stdout",
     "output_type": "stream",
     "text": [
      "{1, 4, 6, 9, 10, 11, 12, 13}\n"
     ]
    }
   ],
   "source": [
    "print(my_set_1 ^ my_set_2)"
   ]
  },
  {
   "cell_type": "markdown",
   "id": "1d7e8e5a",
   "metadata": {},
   "source": [
    "## Dictionary\n",
    "\n",
    "Python dictionary is an unordered collection of a key/value pair. A dictionary is created by placing items inside curly braces `{}` separated by commas. An item has a key and a corresponding value that is expressed as a `key:value` pair.\n"
   ]
  },
  {
   "cell_type": "code",
   "execution_count": 9,
   "id": "2752e603",
   "metadata": {},
   "outputs": [
    {
     "name": "stdout",
     "output_type": "stream",
     "text": [
      "{'a': 'apple', 'b': 'ball'}\n"
     ]
    }
   ],
   "source": [
    "my_dict = {'a': 'apple', 'b': 'ball'}\n",
    "print(my_dict)"
   ]
  },
  {
   "cell_type": "code",
   "execution_count": 10,
   "id": "d32584cb",
   "metadata": {},
   "outputs": [
    {
     "name": "stdout",
     "output_type": "stream",
     "text": [
      "{'name': 'python', 1: [1, 2, 3]}\n"
     ]
    }
   ],
   "source": [
    "my_dict = {'name': 'python', 1: [1,2,3]}\n",
    "print(my_dict)"
   ]
  },
  {
   "cell_type": "code",
   "execution_count": 11,
   "id": "5dfd0004",
   "metadata": {},
   "outputs": [
    {
     "name": "stdout",
     "output_type": "stream",
     "text": [
      "{'a': 'apple', 'b': 'ball'}\n"
     ]
    }
   ],
   "source": [
    "my_dict = dict([('a','apple'), ('b','ball')])\n",
    "print(my_dict)"
   ]
  },
  {
   "cell_type": "markdown",
   "id": "51048379",
   "metadata": {},
   "source": [
    "`Key` is used to access values in a dictionary. Keys can be used either inside square brackets `[]` or with the `get()` method. The difference between `[]` and `get()` is that if key is not present `[]` will throw a KeyError whereas `get()` will return None."
   ]
  },
  {
   "cell_type": "code",
   "execution_count": 12,
   "id": "e5c6e323",
   "metadata": {},
   "outputs": [
    {
     "name": "stdout",
     "output_type": "stream",
     "text": [
      "python\n"
     ]
    }
   ],
   "source": [
    "my_dict = {'name': 'python', 1: [1,2,3]}\n",
    "print(my_dict['name'])"
   ]
  },
  {
   "cell_type": "code",
   "execution_count": 14,
   "id": "1a5561f0",
   "metadata": {},
   "outputs": [
    {
     "name": "stdout",
     "output_type": "stream",
     "text": [
      "[1, 2, 3]\n"
     ]
    }
   ],
   "source": [
    "print(my_dict.get(1))"
   ]
  },
  {
   "cell_type": "code",
   "execution_count": 15,
   "id": "61e5edb2",
   "metadata": {},
   "outputs": [
    {
     "ename": "KeyError",
     "evalue": "'a'",
     "output_type": "error",
     "traceback": [
      "\u001b[1;31m---------------------------------------------------------------------------\u001b[0m",
      "\u001b[1;31mKeyError\u001b[0m                                  Traceback (most recent call last)",
      "\u001b[1;32m<ipython-input-15-b063fc0c6ef9>\u001b[0m in \u001b[0;36m<module>\u001b[1;34m\u001b[0m\n\u001b[1;32m----> 1\u001b[1;33m \u001b[0mprint\u001b[0m\u001b[1;33m(\u001b[0m\u001b[0mmy_dict\u001b[0m\u001b[1;33m[\u001b[0m\u001b[1;34m'a'\u001b[0m\u001b[1;33m]\u001b[0m\u001b[1;33m)\u001b[0m\u001b[1;33m\u001b[0m\u001b[1;33m\u001b[0m\u001b[0m\n\u001b[0m",
      "\u001b[1;31mKeyError\u001b[0m: 'a'"
     ]
    }
   ],
   "source": [
    "print(my_dict['a'])"
   ]
  },
  {
   "cell_type": "code",
   "execution_count": 17,
   "id": "f2964b50",
   "metadata": {},
   "outputs": [
    {
     "name": "stdout",
     "output_type": "stream",
     "text": [
      "[1, 2, 3]\n"
     ]
    }
   ],
   "source": [
    "print(my_dict.get(1))"
   ]
  },
  {
   "cell_type": "code",
   "execution_count": 20,
   "id": "43bd82e1",
   "metadata": {},
   "outputs": [
    {
     "name": "stdout",
     "output_type": "stream",
     "text": [
      "Key not present\n"
     ]
    }
   ],
   "source": [
    "print(my_dict.get('a', 'Key not present'))"
   ]
  },
  {
   "cell_type": "markdown",
   "id": "1427e9e4",
   "metadata": {},
   "source": [
    "Dictionaries are mutable i.e. we can add new items or change the value of existing items using an assignment operator (=). If the key is already present, then the existing value gets updated. In case the key is not present, a new (key: value) pair is added to the dictionary."
   ]
  },
  {
   "cell_type": "code",
   "execution_count": 21,
   "id": "dcb507d0",
   "metadata": {},
   "outputs": [
    {
     "name": "stdout",
     "output_type": "stream",
     "text": [
      "{'name': 'python', 1: [1, 2, 3]}\n"
     ]
    }
   ],
   "source": [
    "print(my_dict)"
   ]
  },
  {
   "cell_type": "code",
   "execution_count": 22,
   "id": "229e439c",
   "metadata": {},
   "outputs": [
    {
     "name": "stdout",
     "output_type": "stream",
     "text": [
      "{'name': 'python', 1: [1, 2, 3], 'type': 'Programming language'}\n"
     ]
    }
   ],
   "source": [
    "my_dict['type'] = \"Programming language\"\n",
    "print(my_dict)"
   ]
  },
  {
   "cell_type": "code",
   "execution_count": 23,
   "id": "92095686",
   "metadata": {},
   "outputs": [
    {
     "name": "stdout",
     "output_type": "stream",
     "text": [
      "{'name': 'java', 1: [1, 2, 3], 'type': 'Programming language'}\n"
     ]
    }
   ],
   "source": [
    "my_dict['name'] = 'java'\n",
    "print(my_dict)"
   ]
  },
  {
   "cell_type": "code",
   "execution_count": 24,
   "id": "113c0289",
   "metadata": {},
   "outputs": [
    {
     "name": "stdout",
     "output_type": "stream",
     "text": [
      "{'name': 'java', 1: [1, 2, 3]}\n"
     ]
    }
   ],
   "source": [
    "del my_dict['type']\n",
    "print(my_dict)"
   ]
  },
  {
   "cell_type": "code",
   "execution_count": 26,
   "id": "47043a3e",
   "metadata": {},
   "outputs": [
    {
     "data": {
      "text/plain": [
       "dict_values(['java', [1, 2, 3]])"
      ]
     },
     "execution_count": 26,
     "metadata": {},
     "output_type": "execute_result"
    }
   ],
   "source": [
    "my_dict.values()"
   ]
  },
  {
   "cell_type": "code",
   "execution_count": 27,
   "id": "c17431ff",
   "metadata": {},
   "outputs": [
    {
     "data": {
      "text/plain": [
       "dict_keys(['name', 1])"
      ]
     },
     "execution_count": 27,
     "metadata": {},
     "output_type": "execute_result"
    }
   ],
   "source": [
    "my_dict.keys()"
   ]
  },
  {
   "cell_type": "code",
   "execution_count": 28,
   "id": "8c03c198",
   "metadata": {},
   "outputs": [],
   "source": [
    "temp_dict = dict([('id',1), ('name', 'Aayush')])"
   ]
  },
  {
   "cell_type": "code",
   "execution_count": 29,
   "id": "0976bc15",
   "metadata": {},
   "outputs": [
    {
     "name": "stdout",
     "output_type": "stream",
     "text": [
      "{'id': 1, 'name': 'Aayush'}\n"
     ]
    }
   ],
   "source": [
    "print(temp_dict)"
   ]
  },
  {
   "cell_type": "code",
   "execution_count": 33,
   "id": "6cff2ab4",
   "metadata": {},
   "outputs": [],
   "source": [
    "temp_dict = dict({'1': 'id', 'name': 'Aayush'})"
   ]
  },
  {
   "cell_type": "code",
   "execution_count": 34,
   "id": "d025ec68",
   "metadata": {},
   "outputs": [
    {
     "name": "stdout",
     "output_type": "stream",
     "text": [
      "{'1': 'id', 'name': 'Aayush'}\n"
     ]
    }
   ],
   "source": [
    "print(temp_dict)"
   ]
  },
  {
   "cell_type": "markdown",
   "id": "7fc82aed",
   "metadata": {},
   "source": [
    "Dictionary comprehension is an elegant and concise way to create a new dictionary from an iterable in Python. Dictionary comprehension consists of an expression pair (key: value) followed by a for statement inside curly braces `{}`."
   ]
  },
  {
   "cell_type": "code",
   "execution_count": 35,
   "id": "7eed3ef1",
   "metadata": {},
   "outputs": [
    {
     "name": "stdout",
     "output_type": "stream",
     "text": [
      "{0: 0, 1: 1, 2: 4, 3: 9, 4: 16, 5: 25, 6: 36, 7: 49, 8: 64, 9: 81}\n"
     ]
    }
   ],
   "source": [
    "sqr = {x: x*x for x in range(10)}\n",
    "print(sqr)"
   ]
  },
  {
   "cell_type": "code",
   "execution_count": 36,
   "id": "42084ee0",
   "metadata": {},
   "outputs": [
    {
     "name": "stdout",
     "output_type": "stream",
     "text": [
      "{0: 0, 2: 4, 4: 16, 6: 36, 8: 64}\n"
     ]
    }
   ],
   "source": [
    "even_sqr = {x: x*x for x in range(10) if x % 2 == 0}\n",
    "print(even_sqr)"
   ]
  },
  {
   "cell_type": "code",
   "execution_count": 37,
   "id": "6dae0181",
   "metadata": {},
   "outputs": [
    {
     "data": {
      "text/plain": [
       "True"
      ]
     },
     "execution_count": 37,
     "metadata": {},
     "output_type": "execute_result"
    }
   ],
   "source": [
    "0 in even_sqr"
   ]
  },
  {
   "cell_type": "code",
   "execution_count": 38,
   "id": "93487b28",
   "metadata": {},
   "outputs": [
    {
     "data": {
      "text/plain": [
       "False"
      ]
     },
     "execution_count": 38,
     "metadata": {},
     "output_type": "execute_result"
    }
   ],
   "source": [
    "'0' in even_sqr"
   ]
  },
  {
   "cell_type": "code",
   "execution_count": 40,
   "id": "357aff87",
   "metadata": {},
   "outputs": [
    {
     "data": {
      "text/plain": [
       "True"
      ]
     },
     "execution_count": 40,
     "metadata": {},
     "output_type": "execute_result"
    }
   ],
   "source": [
    "4 in even_sqr"
   ]
  },
  {
   "cell_type": "code",
   "execution_count": 41,
   "id": "a61e60b6",
   "metadata": {},
   "outputs": [
    {
     "data": {
      "text/plain": [
       "True"
      ]
     },
     "execution_count": 41,
     "metadata": {},
     "output_type": "execute_result"
    }
   ],
   "source": [
    "3 not in even_sqr"
   ]
  },
  {
   "cell_type": "code",
   "execution_count": 45,
   "id": "36a7802b",
   "metadata": {},
   "outputs": [
    {
     "data": {
      "text/plain": [
       "dict_keys([0, 2, 4, 6, 8])"
      ]
     },
     "execution_count": 45,
     "metadata": {},
     "output_type": "execute_result"
    }
   ],
   "source": [
    "even_sqr.keys()"
   ]
  },
  {
   "cell_type": "code",
   "execution_count": 46,
   "id": "c5af0254",
   "metadata": {},
   "outputs": [
    {
     "name": "stdout",
     "output_type": "stream",
     "text": [
      "{'id': 1, 'marks': 1}\n"
     ]
    }
   ],
   "source": [
    "temp_dict = {'id':1, 'marks':1}\n",
    "print(temp_dict)"
   ]
  },
  {
   "cell_type": "code",
   "execution_count": null,
   "id": "ccd885e9",
   "metadata": {},
   "outputs": [],
   "source": [
    "[{'id':1, 'contact':123, }, {'id':2, 'contact':345}, .....]"
   ]
  }
 ],
 "metadata": {
  "kernelspec": {
   "display_name": "Python 3.9.5 64-bit",
   "language": "python",
   "name": "python395jvsc74a57bd0b8dfcc4a6243885f100527393eda4351d2397a0a9d4c07ea3031d7aee9b8c635"
  },
  "language_info": {
   "codemirror_mode": {
    "name": "ipython",
    "version": 3
   },
   "file_extension": ".py",
   "mimetype": "text/x-python",
   "name": "python",
   "nbconvert_exporter": "python",
   "pygments_lexer": "ipython3",
   "version": "3.9.5"
  }
 },
 "nbformat": 4,
 "nbformat_minor": 5
}
