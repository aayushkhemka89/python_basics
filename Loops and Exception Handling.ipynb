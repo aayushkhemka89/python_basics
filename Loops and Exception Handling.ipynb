{
 "cells": [
  {
   "cell_type": "markdown",
   "id": "a1728892",
   "metadata": {},
   "source": [
    "# Python loops\n",
    "\n",
    "Generally we the statements in python are executed sequentially and once, but sometimes we might need to execute a set of statements multiple times, that's when we use loops. There are two types of loop in python:\n",
    "\n",
    "* for loop\n",
    "* while loop"
   ]
  },
  {
   "cell_type": "markdown",
   "id": "55217ef3",
   "metadata": {},
   "source": [
    "## for loop\n",
    "\n",
    "We use for loop to iterate over a sequence like list, string, tuple etc. or and iterable object.\n",
    "\n",
    "Syntax of for loop:\n",
    "```\n",
    "for value in sequence:\n",
    "    statement(s)\n",
    "```"
   ]
  },
  {
   "cell_type": "code",
   "execution_count": 1,
   "id": "26560273",
   "metadata": {},
   "outputs": [
    {
     "name": "stdout",
     "output_type": "stream",
     "text": [
      "The sum is 99\n"
     ]
    }
   ],
   "source": [
    "num_list = [21, 5, 9, 11, 3, 35, 15]\n",
    "\n",
    "num_sum = 0\n",
    "\n",
    "for value in num_list:\n",
    "    num_sum = num_sum + value\n",
    "print(\"The sum is\", num_sum)"
   ]
  },
  {
   "cell_type": "code",
   "execution_count": 5,
   "id": "c154b817",
   "metadata": {},
   "outputs": [
    {
     "name": "stdout",
     "output_type": "stream",
     "text": [
      "21\n",
      "5\n",
      "9\n",
      "11\n",
      "3\n",
      "35\n",
      "15\n",
      "The sum is 99\n"
     ]
    }
   ],
   "source": [
    "num_list = [21, 5, 9, 11, 3, 35, 15]\n",
    "\n",
    "num_sum = 0\n",
    "\n",
    "for value in num_list:\n",
    "    print(value)\n",
    "    num_sum = num_sum + value\n",
    "print(\"The sum is\", num_sum)"
   ]
  },
  {
   "cell_type": "markdown",
   "id": "f73d1830",
   "metadata": {},
   "source": [
    "## range function\n",
    "\n",
    "We can generate a sequence of numbers using `range()` function. \n",
    "`range(10)` will generate numbers from 0 to 9 (10 numbers).\n",
    "\n",
    "We can also define the start, stop and step size as `range(start, stop,step_size)`. \n",
    "step_size defaults to 1 if not provided."
   ]
  },
  {
   "cell_type": "code",
   "execution_count": 6,
   "id": "3f7a7593",
   "metadata": {},
   "outputs": [
    {
     "name": "stdout",
     "output_type": "stream",
     "text": [
      "0\n",
      "1\n",
      "2\n",
      "3\n",
      "4\n",
      "5\n",
      "6\n",
      "7\n",
      "8\n",
      "9\n"
     ]
    }
   ],
   "source": [
    "for i in range(10):\n",
    "    print(i)"
   ]
  },
  {
   "cell_type": "code",
   "execution_count": 7,
   "id": "1e7304aa",
   "metadata": {},
   "outputs": [
    {
     "name": "stdout",
     "output_type": "stream",
     "text": [
      "I like to play cricket\n",
      "I like to play football\n",
      "I like to play badminton\n"
     ]
    }
   ],
   "source": [
    "str_list = ['cricket', 'football', 'badminton']\n",
    "for s in str_list:\n",
    "    print(\"I like to play\", s)"
   ]
  },
  {
   "cell_type": "code",
   "execution_count": 8,
   "id": "5bc8c101",
   "metadata": {},
   "outputs": [
    {
     "name": "stdout",
     "output_type": "stream",
     "text": [
      "I like to play cricket\n",
      "I like to play football\n",
      "I like to play badminton\n"
     ]
    }
   ],
   "source": [
    "for i in range(len(str_list)):\n",
    "    print(\"I like to play\", str_list[i])"
   ]
  },
  {
   "cell_type": "code",
   "execution_count": null,
   "id": "8ae824fc",
   "metadata": {},
   "outputs": [],
   "source": [
    "# [(0,\"cricket\"), (1,\"footbal\"),]"
   ]
  },
  {
   "cell_type": "code",
   "execution_count": 9,
   "id": "2b41c309",
   "metadata": {},
   "outputs": [
    {
     "name": "stdout",
     "output_type": "stream",
     "text": [
      "cricket  is at postion  0\n",
      "football  is at postion  1\n",
      "badminton  is at postion  2\n"
     ]
    }
   ],
   "source": [
    "for i, s in enumerate(str_list):\n",
    "    print(s, \" is at postion \", i)"
   ]
  },
  {
   "cell_type": "code",
   "execution_count": 14,
   "id": "01cbd699",
   "metadata": {},
   "outputs": [
    {
     "name": "stdout",
     "output_type": "stream",
     "text": [
      "(0, 'cricket')\n",
      "(1, 'football')\n",
      "(2, 'badminton')\n"
     ]
    }
   ],
   "source": [
    "for s in enumerate(str_list):\n",
    "    print(s)"
   ]
  },
  {
   "cell_type": "code",
   "execution_count": 17,
   "id": "7287506b",
   "metadata": {},
   "outputs": [
    {
     "name": "stdout",
     "output_type": "stream",
     "text": [
      "cricket  is at postion  101\n",
      "football  is at postion  102\n",
      "badminton  is at postion  103\n"
     ]
    }
   ],
   "source": [
    "for i, s in enumerate(str_list, start = 101):\n",
    "    print(s, \" is at postion \", i)"
   ]
  },
  {
   "cell_type": "code",
   "execution_count": 15,
   "id": "54ad4e8f",
   "metadata": {},
   "outputs": [
    {
     "name": "stdout",
     "output_type": "stream",
     "text": [
      "p\n",
      "y\n",
      "t\n",
      "h\n",
      "o\n",
      "n\n"
     ]
    }
   ],
   "source": [
    "my_str = 'python'\n",
    "for s in my_str:\n",
    "    print(s)"
   ]
  },
  {
   "cell_type": "code",
   "execution_count": 18,
   "id": "889c2463",
   "metadata": {},
   "outputs": [
    {
     "name": "stdout",
     "output_type": "stream",
     "text": [
      "id  -->  1\n",
      "name  -->  Aayush\n",
      "email  -->  aayush@datavader.io\n",
      "contact  -->  1112223334\n"
     ]
    }
   ],
   "source": [
    "my_dict = {'id':1, 'name':'Aayush', 'email':'aayush@datavader.io', 'contact':'1112223334'}\n",
    "for key, value in my_dict.items():\n",
    "    print(key, \" --> \", value)"
   ]
  },
  {
   "cell_type": "code",
   "execution_count": 19,
   "id": "56831fa7",
   "metadata": {},
   "outputs": [
    {
     "name": "stdout",
     "output_type": "stream",
     "text": [
      "id  --> \n",
      "name  --> \n",
      "email  --> \n",
      "contact  --> \n"
     ]
    }
   ],
   "source": [
    "my_dict = {'id':1, 'name':'Aayush', 'email':'aayush@datavader.io', 'contact':'1112223334'}\n",
    "for key in my_dict:\n",
    "    print(key, \" --> \")"
   ]
  },
  {
   "cell_type": "markdown",
   "id": "656e5eff",
   "metadata": {},
   "source": [
    "## else in for loop\n",
    "\n",
    "A for loop can have an optional else block as well. The else part is executed if the items in the sequence used in for loop exhausts.\n",
    "\n",
    "The break keyword can be used to stop a for loop. In such cases, the else part is ignored."
   ]
  },
  {
   "cell_type": "code",
   "execution_count": 20,
   "id": "81b968e7",
   "metadata": {},
   "outputs": [
    {
     "name": "stdout",
     "output_type": "stream",
     "text": [
      "id  -->  1\n",
      "name  -->  Aayush\n",
      "email  -->  aayush@datavader.io\n",
      "contact  -->  1112223334\n",
      "we have reached the end of dictionary\n"
     ]
    }
   ],
   "source": [
    "for key, value in my_dict.items():\n",
    "    print(key, \" --> \", value)\n",
    "else:\n",
    "    print(\"we have reached the end of dictionary\")"
   ]
  },
  {
   "cell_type": "markdown",
   "id": "5426dd71",
   "metadata": {},
   "source": [
    "## while loop\n",
    "\n",
    "The while loop in Python is used to iterate over a block of code as long as the test expression (condition) is true.\n",
    "\n",
    "We generally use this loop when we don't know the number of times to iterate beforehand.\n",
    "\n",
    "syntax of while loop:\n",
    "```\n",
    "while expression:\n",
    "    statement(s)\n",
    "```"
   ]
  },
  {
   "cell_type": "code",
   "execution_count": 21,
   "id": "a8eddb83",
   "metadata": {},
   "outputs": [
    {
     "name": "stdout",
     "output_type": "stream",
     "text": [
      "7 x 1 = 7\n",
      "7 x 2 = 14\n",
      "7 x 3 = 21\n",
      "7 x 4 = 28\n",
      "7 x 5 = 35\n",
      "7 x 6 = 42\n",
      "7 x 7 = 49\n",
      "7 x 8 = 56\n",
      "7 x 9 = 63\n",
      "7 x 10 = 70\n"
     ]
    }
   ],
   "source": [
    "n = 10\n",
    "num = 7\n",
    "i = 1\n",
    "while i <= n:\n",
    "    print(num , 'x', i , '=', num*i)\n",
    "    i += 1"
   ]
  },
  {
   "cell_type": "code",
   "execution_count": 22,
   "id": "0ce51dd3",
   "metadata": {},
   "outputs": [
    {
     "name": "stdout",
     "output_type": "stream",
     "text": [
      "7 x 1 = 7\n",
      "7 x 2 = 14\n",
      "7 x 3 = 21\n",
      "7 x 4 = 28\n",
      "7 x 5 = 35\n",
      "7 x 6 = 42\n",
      "7 x 7 = 49\n",
      "7 x 8 = 56\n",
      "7 x 9 = 63\n",
      "7 x 10 = 70\n",
      "\n",
      "we have reached the end of the table\n"
     ]
    }
   ],
   "source": [
    "n = 10\n",
    "num = 7\n",
    "i = 1\n",
    "while i <= n:\n",
    "    print(num , 'x', i , '=', num*i)\n",
    "    i += 1\n",
    "else:\n",
    "    print(\"\\nwe have reached the end of the table\")"
   ]
  },
  {
   "cell_type": "markdown",
   "id": "806a60d8",
   "metadata": {},
   "source": [
    "## Nested loops\n",
    "\n",
    "A nested loop is a loop inside a loop.\n",
    "\n",
    "The \"inner loop\" will be executed one time for each iteration of the \"outer loop\""
   ]
  },
  {
   "cell_type": "code",
   "execution_count": 31,
   "id": "c9a30a62",
   "metadata": {},
   "outputs": [
    {
     "name": "stdout",
     "output_type": "stream",
     "text": [
      "7\n",
      "7 x 1 = 7\n",
      "7 x 2 = 14\n",
      "7 x 3 = 21\n",
      "7 x 4 = 28\n",
      "7 x 5 = 35\n",
      "7 x 6 = 42\n",
      "7 x 7 = 49\n",
      "7 x 8 = 56\n",
      "7 x 9 = 63\n",
      "7 x 10 = 70\n",
      "-------------------------------\n",
      "8\n",
      "8 x 1 = 8\n",
      "8 x 2 = 16\n",
      "8 x 3 = 24\n",
      "8 x 4 = 32\n",
      "8 x 5 = 40\n",
      "8 x 6 = 48\n",
      "8 x 7 = 56\n",
      "8 x 8 = 64\n",
      "8 x 9 = 72\n",
      "8 x 10 = 80\n",
      "-------------------------------\n",
      "9\n",
      "9 x 1 = 9\n",
      "9 x 2 = 18\n",
      "9 x 3 = 27\n",
      "9 x 4 = 36\n",
      "9 x 5 = 45\n",
      "9 x 6 = 54\n",
      "9 x 7 = 63\n",
      "9 x 8 = 72\n",
      "9 x 9 = 81\n",
      "9 x 10 = 90\n",
      "-------------------------------\n"
     ]
    }
   ],
   "source": [
    "for i in range(7,10):\n",
    "    print(i)\n",
    "    for j in range(1,11):\n",
    "        print(i , 'x', j , '=', i*j)\n",
    "    print('-------------------------------')    "
   ]
  },
  {
   "cell_type": "code",
   "execution_count": 30,
   "id": "3ae6c03a",
   "metadata": {},
   "outputs": [
    {
     "name": "stdout",
     "output_type": "stream",
     "text": [
      "9\n"
     ]
    }
   ],
   "source": [
    "print(i)"
   ]
  },
  {
   "cell_type": "code",
   "execution_count": 26,
   "id": "9a406945",
   "metadata": {},
   "outputs": [
    {
     "name": "stdout",
     "output_type": "stream",
     "text": [
      "2 is prime\n",
      "3 is prime\n",
      "5 is prime\n",
      "7 is prime\n",
      "11 is prime\n",
      "13 is prime\n",
      "17 is prime\n",
      "19 is prime\n"
     ]
    }
   ],
   "source": [
    "i = 2\n",
    "while(i < 20):\n",
    "    j = 2\n",
    "    while(j <= i):\n",
    "        if i%j == 0: \n",
    "            break\n",
    "        j += 1\n",
    "    if (j == i): \n",
    "        print(i, \"is prime\")\n",
    "    i = i + 1"
   ]
  },
  {
   "cell_type": "code",
   "execution_count": 28,
   "id": "34afeb67",
   "metadata": {},
   "outputs": [
    {
     "name": "stdout",
     "output_type": "stream",
     "text": [
      "Value if i -->  2\n",
      "Value if j -->  2\n",
      "2 is prime\n",
      "-----------------------------\n",
      "Value if i -->  3\n",
      "Value if j -->  2\n",
      "Value if j -->  3\n",
      "3 is prime\n",
      "-----------------------------\n",
      "Value if i -->  4\n",
      "Value if j -->  2\n",
      "-----------------------------\n",
      "Value if i -->  5\n",
      "Value if j -->  2\n",
      "Value if j -->  3\n",
      "Value if j -->  4\n",
      "Value if j -->  5\n",
      "5 is prime\n",
      "-----------------------------\n"
     ]
    }
   ],
   "source": [
    "i = 2\n",
    "while(i < 6):\n",
    "    print('Value if i --> ',i)\n",
    "    j = 2\n",
    "    while(j <= i):\n",
    "        print('Value if j --> ',j)        \n",
    "        if i%j == 0: \n",
    "            break\n",
    "        j += 1\n",
    "    if (j == i): \n",
    "        print(i, \"is prime\")\n",
    "    i = i + 1\n",
    "    print('-----------------------------')"
   ]
  },
  {
   "cell_type": "markdown",
   "id": "f8ca88ad",
   "metadata": {},
   "source": [
    "## break and continue\n",
    "\n",
    "`break` and `continue` keywords are used to alter the flow of the normal execution of the loop."
   ]
  },
  {
   "cell_type": "markdown",
   "id": "e3caf858",
   "metadata": {},
   "source": [
    "### break\n",
    "The break statement terminates the loop containing it. Control of the program flows to the statement immediately after the body of the loop.\n",
    "\n",
    "If the break statement is inside a nested loop (loop inside another loop), the break statement will terminate the innermost loop."
   ]
  },
  {
   "cell_type": "code",
   "execution_count": 32,
   "id": "4290989b",
   "metadata": {},
   "outputs": [
    {
     "name": "stdout",
     "output_type": "stream",
     "text": [
      "Looking for Tom in the names list\n",
      "\n",
      "Chris\n",
      "Don\n",
      "Robert\n",
      "Found Him\n",
      "\n",
      "End of loop\n"
     ]
    }
   ],
   "source": [
    "names = ['Chris', 'Don', 'Robert', 'Tom', 'Josh', 'Mark']\n",
    "print(\"Looking for Tom in the names list\\n\")\n",
    "for name in names:\n",
    "    if name == 'Tom':\n",
    "        print(\"Found Him\")\n",
    "        break\n",
    "        print(\"After break\")\n",
    "    else:\n",
    "        print(name)\n",
    "print(\"\\nEnd of loop\")"
   ]
  },
  {
   "cell_type": "code",
   "execution_count": 34,
   "id": "9627da3c",
   "metadata": {},
   "outputs": [
    {
     "name": "stdout",
     "output_type": "stream",
     "text": [
      "Looking for James in the names list\n",
      "\n",
      "Chris\n",
      "Don\n",
      "Robert\n",
      "Found Him\n",
      "\n",
      "End of loop\n"
     ]
    }
   ],
   "source": [
    "names = ['Chris', 'Don', 'Robert', 'Tom', 'Josh', 'Mark']\n",
    "print(\"Looking for James in the names list\\n\")\n",
    "for name in names:\n",
    "    if name == 'Tom':\n",
    "        print(\"Found Him\")\n",
    "        break\n",
    "        print(\"After break\")\n",
    "    else:\n",
    "        print(name)\n",
    "else:\n",
    "    print(\"\\nJames not found in the list\")\n",
    "print(\"\\nEnd of loop\")"
   ]
  },
  {
   "cell_type": "code",
   "execution_count": 35,
   "id": "9de66c80",
   "metadata": {},
   "outputs": [
    {
     "name": "stdout",
     "output_type": "stream",
     "text": [
      "Looking for James in the names list\n",
      "\n",
      "Chris\n",
      "Don\n",
      "Robert\n",
      "Tom\n",
      "Josh\n",
      "Mark\n",
      "\n",
      "James not found in the list\n",
      "\n",
      "End of loop\n"
     ]
    }
   ],
   "source": [
    "names = ['Chris', 'Don', 'Robert', 'Tom', 'Josh', 'Mark']\n",
    "print(\"Looking for James in the names list\\n\")\n",
    "for name in names:\n",
    "    if name == 'James':\n",
    "        print(\"Found Him\")\n",
    "        break\n",
    "        print(\"After break\")\n",
    "    else:\n",
    "        print(name)\n",
    "else:\n",
    "    print(\"\\nJames not found in the list\")\n",
    "print(\"\\nEnd of loop\")"
   ]
  },
  {
   "cell_type": "code",
   "execution_count": 37,
   "id": "125754ff",
   "metadata": {},
   "outputs": [
    {
     "name": "stdout",
     "output_type": "stream",
     "text": [
      "0 0\n",
      "0 1\n",
      "0 2\n",
      "0 3\n",
      "0 4\n",
      "1 0\n",
      "1 1\n",
      "1 2\n",
      "1 3\n",
      "1 4\n"
     ]
    }
   ],
   "source": [
    "for i in range(2):\n",
    "    for j in range(10):\n",
    "        if j == 5:\n",
    "            break\n",
    "        print(i, j)"
   ]
  },
  {
   "cell_type": "markdown",
   "id": "e53fccdd",
   "metadata": {},
   "source": [
    "### continue\n",
    "The continue statement is used to skip the rest of the code inside a loop for the current iteration only. Loop does not terminate but continues on with the next iteration."
   ]
  },
  {
   "cell_type": "code",
   "execution_count": 38,
   "id": "2a6ef7dd",
   "metadata": {},
   "outputs": [
    {
     "name": "stdout",
     "output_type": "stream",
     "text": [
      "1 is not a multiple of 3\n",
      "2 is not a multiple of 3\n",
      "4 is not a multiple of 3\n",
      "5 is not a multiple of 3\n",
      "7 is not a multiple of 3\n",
      "8 is not a multiple of 3\n"
     ]
    }
   ],
   "source": [
    "for i in range(10):    \n",
    "    if i % 3 == 0:\n",
    "        continue  \n",
    "    print(i, \"is not a multiple of 3\" )"
   ]
  },
  {
   "cell_type": "markdown",
   "id": "42c8a8e6",
   "metadata": {},
   "source": [
    "## Exception handling in python\n",
    "\n",
    "Errors that occur at runtime (after passing the syntax test) are called exceptions or logical errors.\n",
    "\n",
    "For instance, they occur when we try to divide a number by zero (ZeroDivisionError), or try to read a value from an index which doesn't exist(IndexError)\n",
    "\n",
    "Whenever these types of runtime errors occur, Python creates an exception object. If not handled properly, it prints a traceback to that error along with some details about why that error occurred."
   ]
  },
  {
   "cell_type": "markdown",
   "id": "0e698f35",
   "metadata": {},
   "source": [
    "There are plenty of built-in exceptions in Python that are raised when corresponding errors occur."
   ]
  },
  {
   "cell_type": "code",
   "execution_count": 42,
   "id": "c8edd98f",
   "metadata": {},
   "outputs": [
    {
     "name": "stdout",
     "output_type": "stream",
     "text": [
      "0\n"
     ]
    },
    {
     "ename": "ZeroDivisionError",
     "evalue": "division by zero",
     "output_type": "error",
     "traceback": [
      "\u001b[1;31m---------------------------------------------------------------------------\u001b[0m",
      "\u001b[1;31mZeroDivisionError\u001b[0m                         Traceback (most recent call last)",
      "\u001b[1;32m<ipython-input-42-7711dc69e3fd>\u001b[0m in \u001b[0;36m<module>\u001b[1;34m\u001b[0m\n\u001b[0;32m      1\u001b[0m \u001b[0mprint\u001b[0m\u001b[1;33m(\u001b[0m\u001b[1;36m0\u001b[0m\u001b[1;33m)\u001b[0m\u001b[1;33m\u001b[0m\u001b[1;33m\u001b[0m\u001b[0m\n\u001b[1;32m----> 2\u001b[1;33m \u001b[1;36m1\u001b[0m\u001b[1;33m/\u001b[0m\u001b[1;36m0\u001b[0m\u001b[1;33m\u001b[0m\u001b[1;33m\u001b[0m\u001b[0m\n\u001b[0m\u001b[0;32m      3\u001b[0m \u001b[0mprint\u001b[0m\u001b[1;33m(\u001b[0m\u001b[1;36m1\u001b[0m\u001b[1;33m)\u001b[0m\u001b[1;33m\u001b[0m\u001b[1;33m\u001b[0m\u001b[0m\n\u001b[0;32m      4\u001b[0m \u001b[0mprint\u001b[0m\u001b[1;33m(\u001b[0m\u001b[1;36m2\u001b[0m\u001b[1;33m)\u001b[0m\u001b[1;33m\u001b[0m\u001b[1;33m\u001b[0m\u001b[0m\n\u001b[0;32m      5\u001b[0m \u001b[0mprint\u001b[0m\u001b[1;33m(\u001b[0m\u001b[1;36m2\u001b[0m\u001b[1;33m)\u001b[0m\u001b[1;33m\u001b[0m\u001b[1;33m\u001b[0m\u001b[0m\n",
      "\u001b[1;31mZeroDivisionError\u001b[0m: division by zero"
     ]
    }
   ],
   "source": [
    "print(0)\n",
    "1/0\n",
    "print(1)\n",
    "print(2)\n",
    "print(2)"
   ]
  },
  {
   "cell_type": "markdown",
   "id": "26740b4d",
   "metadata": {},
   "source": [
    "### Catching Exceptions in Python\n",
    "Exceptions can be handled using a `try` statement. The critical operation which can raise an exception is placed inside the `try` block. The code that handles the exceptions is written in the `except` block.\n",
    "\n",
    "We can thus choose what operations to perform once we have caught the exception"
   ]
  },
  {
   "cell_type": "code",
   "execution_count": 43,
   "id": "46254dbc",
   "metadata": {},
   "outputs": [
    {
     "name": "stdout",
     "output_type": "stream",
     "text": [
      "15.0\n",
      "6.0\n",
      "5.0\n",
      "3.75\n"
     ]
    },
    {
     "ename": "ZeroDivisionError",
     "evalue": "division by zero",
     "output_type": "error",
     "traceback": [
      "\u001b[1;31m---------------------------------------------------------------------------\u001b[0m",
      "\u001b[1;31mZeroDivisionError\u001b[0m                         Traceback (most recent call last)",
      "\u001b[1;32m<ipython-input-43-5fd57d801564>\u001b[0m in \u001b[0;36m<module>\u001b[1;34m\u001b[0m\n\u001b[0;32m      1\u001b[0m \u001b[0mmy_nums\u001b[0m \u001b[1;33m=\u001b[0m \u001b[1;33m[\u001b[0m\u001b[1;36m2\u001b[0m\u001b[1;33m,\u001b[0m \u001b[1;36m5\u001b[0m\u001b[1;33m,\u001b[0m \u001b[1;36m6\u001b[0m\u001b[1;33m,\u001b[0m \u001b[1;36m8\u001b[0m\u001b[1;33m,\u001b[0m \u001b[1;36m0\u001b[0m\u001b[1;33m,\u001b[0m \u001b[1;32mNone\u001b[0m\u001b[1;33m]\u001b[0m\u001b[1;33m\u001b[0m\u001b[1;33m\u001b[0m\u001b[0m\n\u001b[0;32m      2\u001b[0m \u001b[1;32mfor\u001b[0m \u001b[0mnum\u001b[0m \u001b[1;32min\u001b[0m \u001b[0mmy_nums\u001b[0m\u001b[1;33m:\u001b[0m\u001b[1;33m\u001b[0m\u001b[1;33m\u001b[0m\u001b[0m\n\u001b[1;32m----> 3\u001b[1;33m     \u001b[0mprint\u001b[0m\u001b[1;33m(\u001b[0m\u001b[1;36m30\u001b[0m \u001b[1;33m/\u001b[0m \u001b[0mnum\u001b[0m\u001b[1;33m)\u001b[0m\u001b[1;33m\u001b[0m\u001b[1;33m\u001b[0m\u001b[0m\n\u001b[0m",
      "\u001b[1;31mZeroDivisionError\u001b[0m: division by zero"
     ]
    }
   ],
   "source": [
    "my_nums = [2, 5, 6, 8, 0, None]\n",
    "for num in my_nums:\n",
    "    print(30 / num)"
   ]
  },
  {
   "cell_type": "code",
   "execution_count": 45,
   "id": "4f2ec8d8",
   "metadata": {},
   "outputs": [
    {
     "name": "stdout",
     "output_type": "stream",
     "text": [
      "15.0\n",
      "6.0\n",
      "5.0\n",
      "3.75\n",
      "Some error occured.\n",
      "Some error occured.\n",
      "7.5\n"
     ]
    }
   ],
   "source": [
    "my_nums = [2, 5, 6, 8, 0, None, 4]\n",
    "for num in my_nums:\n",
    "    try:\n",
    "        print(30 / num)\n",
    "    except:\n",
    "        print(\"Some error occured.\")"
   ]
  },
  {
   "cell_type": "code",
   "execution_count": 48,
   "id": "662b14df",
   "metadata": {},
   "outputs": [
    {
     "name": "stdout",
     "output_type": "stream",
     "text": [
      "15.0\n",
      "6.0\n",
      "5.0\n",
      "3.75\n",
      "division by zero\n",
      "unsupported operand type(s) for /: 'int' and 'NoneType'\n"
     ]
    }
   ],
   "source": [
    "my_nums = [2, 5, 6, 8, 0, None]\n",
    "for num in my_nums:\n",
    "    try:\n",
    "        print(30 / num)\n",
    "    except Exception as e:\n",
    "        print(e)"
   ]
  },
  {
   "cell_type": "code",
   "execution_count": 51,
   "id": "c0ea5f39",
   "metadata": {},
   "outputs": [
    {
     "name": "stdout",
     "output_type": "stream",
     "text": [
      "key not present\n",
      "end of try\n"
     ]
    }
   ],
   "source": [
    "try:\n",
    "    my_dict['asd']\n",
    "except:\n",
    "    print('key not present')\n",
    "print('end of try')"
   ]
  },
  {
   "cell_type": "code",
   "execution_count": 52,
   "id": "2c14011c",
   "metadata": {},
   "outputs": [
    {
     "name": "stdout",
     "output_type": "stream",
     "text": [
      "15.0\n",
      "6.0\n",
      "5.0\n",
      "3.75\n",
      "<class 'ZeroDivisionError'>\n",
      "<class 'TypeError'>\n"
     ]
    }
   ],
   "source": [
    "my_nums = [2, 5, 6, 8, 0, None]\n",
    "for num in my_nums:\n",
    "    try:\n",
    "        print(30 / num)\n",
    "    except Exception as e:\n",
    "        print(e.__class__)"
   ]
  },
  {
   "cell_type": "markdown",
   "id": "1cd28b66",
   "metadata": {},
   "source": [
    "### Catching Specific Exceptions in Python\n",
    "\n",
    "We can specify which exceptions an except clause should catch. A try clause can have any number of except clauses to handle different exceptions, however, only one will be executed in case an exception occurs."
   ]
  },
  {
   "cell_type": "code",
   "execution_count": 54,
   "id": "f59058e0",
   "metadata": {},
   "outputs": [
    {
     "name": "stdout",
     "output_type": "stream",
     "text": [
      "15.0\n",
      "6.0\n",
      "5.0\n",
      "3.75\n",
      "\n",
      " division by zero\n",
      "You were trying to divide a number by zero which is not possible\n",
      "\n",
      " unsupported operand type(s) for /: 'int' and 'NoneType'\n",
      "You were trying to divide a number by a none type object.\n"
     ]
    }
   ],
   "source": [
    "my_nums = [2, 5, 6, 8, 0, None]\n",
    "for num in my_nums:\n",
    "    try:\n",
    "        print(30 / num)\n",
    "    except ZeroDivisionError as zde:\n",
    "        print('\\n',zde)\n",
    "        print(\"You were trying to divide a number by zero which is not possible\")\n",
    "    except TypeError as te:\n",
    "        print('\\n',te)\n",
    "        print(\"You were trying to divide a number by a none type object.\")"
   ]
  },
  {
   "cell_type": "code",
   "execution_count": 56,
   "id": "f34e9046",
   "metadata": {},
   "outputs": [
    {
     "name": "stdout",
     "output_type": "stream",
     "text": [
      "15.0\n",
      "6.0\n",
      "5.0\n",
      "3.75\n",
      "\n",
      " division by zero\n",
      "You were trying to fivide a number by zero which is not possible\n",
      "\n",
      " int() argument must be a string, a bytes-like object or a number, not 'NoneType'\n",
      "You were trying to divide a number by a none type object.\n"
     ]
    },
    {
     "ename": "ValueError",
     "evalue": "invalid literal for int() with base 10: 'a'",
     "output_type": "error",
     "traceback": [
      "\u001b[1;31m---------------------------------------------------------------------------\u001b[0m",
      "\u001b[1;31mValueError\u001b[0m                                Traceback (most recent call last)",
      "\u001b[1;32m<ipython-input-56-647af664aaad>\u001b[0m in \u001b[0;36m<module>\u001b[1;34m\u001b[0m\n\u001b[0;32m      2\u001b[0m \u001b[1;32mfor\u001b[0m \u001b[0mnum\u001b[0m \u001b[1;32min\u001b[0m \u001b[0mmy_nums\u001b[0m\u001b[1;33m:\u001b[0m\u001b[1;33m\u001b[0m\u001b[1;33m\u001b[0m\u001b[0m\n\u001b[0;32m      3\u001b[0m     \u001b[1;32mtry\u001b[0m\u001b[1;33m:\u001b[0m\u001b[1;33m\u001b[0m\u001b[1;33m\u001b[0m\u001b[0m\n\u001b[1;32m----> 4\u001b[1;33m         \u001b[0mprint\u001b[0m\u001b[1;33m(\u001b[0m\u001b[1;36m30\u001b[0m \u001b[1;33m/\u001b[0m \u001b[0mint\u001b[0m\u001b[1;33m(\u001b[0m\u001b[0mnum\u001b[0m\u001b[1;33m)\u001b[0m\u001b[1;33m)\u001b[0m \u001b[1;31m#changed from previous exmaple\u001b[0m\u001b[1;33m\u001b[0m\u001b[1;33m\u001b[0m\u001b[0m\n\u001b[0m\u001b[0;32m      5\u001b[0m     \u001b[1;32mexcept\u001b[0m \u001b[0mZeroDivisionError\u001b[0m \u001b[1;32mas\u001b[0m \u001b[0mzde\u001b[0m\u001b[1;33m:\u001b[0m\u001b[1;33m\u001b[0m\u001b[1;33m\u001b[0m\u001b[0m\n\u001b[0;32m      6\u001b[0m         \u001b[0mprint\u001b[0m\u001b[1;33m(\u001b[0m\u001b[1;34m'\\n'\u001b[0m\u001b[1;33m,\u001b[0m\u001b[0mzde\u001b[0m\u001b[1;33m)\u001b[0m\u001b[1;33m\u001b[0m\u001b[1;33m\u001b[0m\u001b[0m\n",
      "\u001b[1;31mValueError\u001b[0m: invalid literal for int() with base 10: 'a'"
     ]
    }
   ],
   "source": [
    "my_nums = [2, 5, 6, 8, 0, None, 'a', 4]\n",
    "for num in my_nums:\n",
    "    try:\n",
    "        print(30 / int(num)) #changed from previous exmaple\n",
    "    except ZeroDivisionError as zde:\n",
    "        print('\\n',zde)\n",
    "        print(\"You were trying to fivide a number by zero which is not possible\")\n",
    "    except TypeError as te:\n",
    "        print('\\n',te)\n",
    "        print(\"You were trying to divide a number by a none type object.\")"
   ]
  },
  {
   "cell_type": "code",
   "execution_count": 60,
   "id": "dd5ed882",
   "metadata": {},
   "outputs": [
    {
     "name": "stdout",
     "output_type": "stream",
     "text": [
      "15.0\n",
      "6.0\n",
      "5.0\n",
      "3.75\n",
      "\n",
      " division by zero\n",
      "You were trying to fivide a number by zero which is not possible\n",
      "\n",
      " int() argument must be a string, a bytes-like object or a number, not 'NoneType'\n",
      "You were trying to divide a number by a none type object.\n",
      "\n",
      " <class 'ValueError'>\n",
      "invalid literal for int() with base 10: 'a'\n",
      "7.5\n"
     ]
    }
   ],
   "source": [
    "my_nums = [2, 5, 6, 8, 0, None, 'a', 4]\n",
    "for num in my_nums:\n",
    "    try:\n",
    "        print(30 / int(num)) #changed from previous exmaple\n",
    "    except ZeroDivisionError as zde:\n",
    "        print('\\n',zde)\n",
    "        print(\"You were trying to fivide a number by zero which is not possible\")\n",
    "    except TypeError as te:\n",
    "        print('\\n',te)\n",
    "        print(\"You were trying to divide a number by a none type object.\")\n",
    "    except Exception as e:\n",
    "        print('\\n',e.__class__)\n",
    "        print(e)"
   ]
  },
  {
   "cell_type": "code",
   "execution_count": 61,
   "id": "4e24247e",
   "metadata": {},
   "outputs": [
    {
     "name": "stdout",
     "output_type": "stream",
     "text": [
      "15.0\n",
      "6.0\n",
      "5.0\n",
      "3.75\n",
      "\n",
      " <class 'ZeroDivisionError'>\n",
      "division by zero\n",
      "\n",
      " <class 'TypeError'>\n",
      "int() argument must be a string, a bytes-like object or a number, not 'NoneType'\n",
      "\n",
      " <class 'ValueError'>\n",
      "invalid literal for int() with base 10: 'a'\n",
      "7.5\n"
     ]
    }
   ],
   "source": [
    "my_nums = [2, 5, 6, 8, 0, None, 'a', 4]\n",
    "for num in my_nums:\n",
    "    try:\n",
    "        print(30 / int(num)) #changed from previous exmaple\n",
    "    except Exception as e:\n",
    "        print('\\n',e.__class__)\n",
    "        print(e)\n",
    "    except ZeroDivisionError as zde:\n",
    "        print('\\n',zde)\n",
    "        print(\"You were trying to fivide a number by zero which is not possible\")\n",
    "    except TypeError as te:\n",
    "        print('\\n',te)\n",
    "        print(\"You were trying to divide a number by a none type object.\")\n",
    "    "
   ]
  },
  {
   "cell_type": "markdown",
   "id": "7defacc9",
   "metadata": {},
   "source": [
    "### Raising Exceptions in Python\n",
    "Exceptions are raised when errors occur at runtime. We can also manually raise exceptions using the raise keyword. We can optionally pass values to the exception to clarify why that exception was raised."
   ]
  },
  {
   "cell_type": "code",
   "execution_count": 68,
   "id": "24802c43",
   "metadata": {},
   "outputs": [
    {
     "name": "stdout",
     "output_type": "stream",
     "text": [
      "15.0\n",
      "6.0\n",
      "5.0\n",
      "3.75\n",
      "<class 'ValueError'>\n",
      "That is not a positive number!\n"
     ]
    }
   ],
   "source": [
    "my_nums = [2, 5, 6, 8, -4]\n",
    "for num in my_nums:\n",
    "    try:\n",
    "        if num <= 0:\n",
    "            raise ValueError(\"That is not a positive number!\")\n",
    "        print(30 / num)\n",
    "    except ValueError as ve:\n",
    "        print(ve.__class__)\n",
    "        print(ve)"
   ]
  },
  {
   "cell_type": "code",
   "execution_count": 73,
   "id": "b8140c70",
   "metadata": {},
   "outputs": [
    {
     "name": "stdout",
     "output_type": "stream",
     "text": [
      "15.0\n",
      "6.0\n",
      "5.0\n",
      "3.75\n",
      "<class 'Exception'>\n",
      "That is not a positive number!\n"
     ]
    }
   ],
   "source": [
    "my_nums = [2, 5, 6, 8, -4]\n",
    "for num in my_nums:\n",
    "    try:\n",
    "        if num <= 0:\n",
    "            raise Exception(\"That is not a positive number!\")\n",
    "        print(30 / num)\n",
    "    except Exception as ve:\n",
    "        print(ve.__class__)\n",
    "        print(ve)"
   ]
  },
  {
   "cell_type": "markdown",
   "id": "b5dcf886",
   "metadata": {},
   "source": [
    "### Python try with else clause\n",
    "In some situations, you might want to run a certain block of code if the code block inside try ran without any errors. For these cases, you can use the optional else keyword with the try statement."
   ]
  },
  {
   "cell_type": "code",
   "execution_count": 69,
   "id": "e8cc6d00",
   "metadata": {},
   "outputs": [
    {
     "name": "stdout",
     "output_type": "stream",
     "text": [
      "15.0\n",
      "6.0\n",
      "5.0\n",
      "3.75\n",
      "<class 'ZeroDivisionError'> division by zero\n",
      "<class 'TypeError'> unsupported operand type(s) for /: 'int' and 'NoneType'\n",
      "<class 'TypeError'> unsupported operand type(s) for /: 'int' and 'str'\n"
     ]
    }
   ],
   "source": [
    "my_nums = [2, 5, 6, 8, 0, None, 'a']\n",
    "for num in my_nums:\n",
    "    try:\n",
    "        z = 30 / num\n",
    "    except Exception as e:\n",
    "        print(e.__class__,e)\n",
    "    else:\n",
    "        print(z)"
   ]
  },
  {
   "cell_type": "markdown",
   "id": "791a3b6a",
   "metadata": {},
   "source": [
    "### Python try with finally\n",
    "The try statement in Python can have an optional finally clause. This clause is executed no matter what, and is generally used to release external resources."
   ]
  },
  {
   "cell_type": "code",
   "execution_count": 70,
   "id": "d6ddd264",
   "metadata": {},
   "outputs": [
    {
     "name": "stdout",
     "output_type": "stream",
     "text": [
      "15.0\n",
      "Executed no matter what\n",
      "\n",
      "6.0\n",
      "Executed no matter what\n",
      "\n",
      "5.0\n",
      "Executed no matter what\n",
      "\n",
      "3.75\n",
      "Executed no matter what\n",
      "\n",
      "<class 'ZeroDivisionError'> division by zero\n",
      "Executed no matter what\n",
      "\n",
      "<class 'TypeError'> unsupported operand type(s) for /: 'int' and 'NoneType'\n",
      "Executed no matter what\n",
      "\n",
      "<class 'TypeError'> unsupported operand type(s) for /: 'int' and 'str'\n",
      "Executed no matter what\n",
      "\n"
     ]
    }
   ],
   "source": [
    "my_nums = [2, 5, 6, 8, 0, None, 'a']\n",
    "for num in my_nums:\n",
    "    try:\n",
    "        z = 30 / num\n",
    "    except Exception as e:\n",
    "        print(e.__class__,e)\n",
    "    else:\n",
    "        print(z)\n",
    "    finally:\n",
    "        print(\"Executed no matter what\\n\")"
   ]
  },
  {
   "cell_type": "code",
   "execution_count": null,
   "id": "ca073db2",
   "metadata": {},
   "outputs": [],
   "source": []
  }
 ],
 "metadata": {
  "kernelspec": {
   "display_name": "Python 3.9.5 64-bit",
   "language": "python",
   "name": "python395jvsc74a57bd0b8dfcc4a6243885f100527393eda4351d2397a0a9d4c07ea3031d7aee9b8c635"
  },
  "language_info": {
   "codemirror_mode": {
    "name": "ipython",
    "version": 3
   },
   "file_extension": ".py",
   "mimetype": "text/x-python",
   "name": "python",
   "nbconvert_exporter": "python",
   "pygments_lexer": "ipython3",
   "version": "3.9.5"
  }
 },
 "nbformat": 4,
 "nbformat_minor": 5
}
