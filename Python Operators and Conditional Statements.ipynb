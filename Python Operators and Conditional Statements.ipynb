{
 "cells": [
  {
   "cell_type": "markdown",
   "id": "30957d45",
   "metadata": {},
   "source": [
    "# Python Operators\n",
    "\n",
    "Operators are special symbols in Python that carry out arithmetic or logical computation. \n",
    "\n",
    "The value that the operator operates on is called the operand.\n",
    "\n",
    "Different types of operators are:\n",
    "* Arithmetic Operator\n",
    "* Comprison Operator\n",
    "* Logical Operator\n",
    "* Bitwise Operator\n",
    "* Assignment Operator\n",
    "* Special Operator"
   ]
  },
  {
   "cell_type": "markdown",
   "id": "ef892b6a",
   "metadata": {},
   "source": [
    "## Arithmetic Operator\n",
    "\n",
    "These are used to perform mathematical operations \n",
    "\n",
    "* `+` : Adds the values on either sides of the operator.\n",
    "* `-` : Subtracts right hand operand from left hand operand.\n",
    "* `*` : Multiplies values on either side of the operator.\n",
    "* `/` : Divides left hand operand by right hand operand.\n",
    "* `%` : Divides left hand operand by right hand operand and returns remainder.\n",
    "* `//` : Divides left hand operand by right hand operand and gives the floor / integer value.\n",
    "* `**` : Performs power calculation, where left operand is raised to power of right operand."
   ]
  },
  {
   "cell_type": "code",
   "execution_count": 1,
   "id": "939c3f86",
   "metadata": {},
   "outputs": [
    {
     "name": "stdout",
     "output_type": "stream",
     "text": [
      "5\n"
     ]
    }
   ],
   "source": [
    "print(2 + 3)"
   ]
  },
  {
   "cell_type": "code",
   "execution_count": 2,
   "id": "093417e9",
   "metadata": {},
   "outputs": [
    {
     "name": "stdout",
     "output_type": "stream",
     "text": [
      "6\n"
     ]
    }
   ],
   "source": [
    "print(15 - 9)"
   ]
  },
  {
   "cell_type": "code",
   "execution_count": 4,
   "id": "c8b70111",
   "metadata": {},
   "outputs": [
    {
     "name": "stdout",
     "output_type": "stream",
     "text": [
      "12.0\n"
     ]
    }
   ],
   "source": [
    "print(3 * 4.0)"
   ]
  },
  {
   "cell_type": "code",
   "execution_count": 7,
   "id": "074dfb50",
   "metadata": {},
   "outputs": [
    {
     "name": "stdout",
     "output_type": "stream",
     "text": [
      "3.6666666666666665\n"
     ]
    }
   ],
   "source": [
    "print(11 / 3)"
   ]
  },
  {
   "cell_type": "code",
   "execution_count": 8,
   "id": "71cf9bde",
   "metadata": {},
   "outputs": [
    {
     "name": "stdout",
     "output_type": "stream",
     "text": [
      "2\n"
     ]
    }
   ],
   "source": [
    "print(37 % 5)"
   ]
  },
  {
   "cell_type": "code",
   "execution_count": 9,
   "id": "fb8e4702",
   "metadata": {},
   "outputs": [
    {
     "name": "stdout",
     "output_type": "stream",
     "text": [
      "3\n"
     ]
    }
   ],
   "source": [
    "print(11 // 3)"
   ]
  },
  {
   "cell_type": "code",
   "execution_count": 10,
   "id": "58fe41bc",
   "metadata": {},
   "outputs": [
    {
     "name": "stdout",
     "output_type": "stream",
     "text": [
      "27\n"
     ]
    }
   ],
   "source": [
    "print(3 ** 3)"
   ]
  },
  {
   "cell_type": "code",
   "execution_count": 12,
   "id": "dec7f846",
   "metadata": {},
   "outputs": [
    {
     "name": "stdout",
     "output_type": "stream",
     "text": [
      "-31\n"
     ]
    }
   ],
   "source": [
    "x = -31\n",
    "print(x)"
   ]
  },
  {
   "cell_type": "markdown",
   "id": "bea315e2",
   "metadata": {},
   "source": [
    "## Comparison Operator\n",
    "\n",
    "These operators compare the values on either sides of them and decide the relation among them. They are also called Relational operators.\n",
    "\n",
    "* `==` : If the values of two operands are equal, then the condition becomes true.\n",
    "* `!=` : If values of two operands are not equal, then condition becomes true.\n",
    "* `<>` : If values of two operands are not equal, then condition becomes true. This is similar to != operator.\n",
    "* `>`  : If the value of left operand is greater than the value of right operand, then condition becomes true.\n",
    "* `<`  : If the value of left operand is less than the value of right operand, then condition becomes true.\t(a < b) is true.\n",
    "* `>=` : If the value of left operand is greater than or equal to the value of right operand, then condition becomes true.\n",
    "* `<=` : If the value of left operand is less than or equal to the value of right operand, then condition becomes true."
   ]
  },
  {
   "cell_type": "code",
   "execution_count": 20,
   "id": "c43cdbc3",
   "metadata": {},
   "outputs": [],
   "source": [
    "x = 20\n",
    "y = 20"
   ]
  },
  {
   "cell_type": "code",
   "execution_count": 21,
   "id": "c8b27bc3",
   "metadata": {},
   "outputs": [
    {
     "name": "stdout",
     "output_type": "stream",
     "text": [
      "False\n"
     ]
    }
   ],
   "source": [
    "print(x > y)"
   ]
  },
  {
   "cell_type": "code",
   "execution_count": 15,
   "id": "6883e5d9",
   "metadata": {},
   "outputs": [
    {
     "name": "stdout",
     "output_type": "stream",
     "text": [
      "True\n"
     ]
    }
   ],
   "source": [
    "print(x < y)"
   ]
  },
  {
   "cell_type": "code",
   "execution_count": 16,
   "id": "f603fd05",
   "metadata": {},
   "outputs": [
    {
     "name": "stdout",
     "output_type": "stream",
     "text": [
      "False\n"
     ]
    }
   ],
   "source": [
    "print(x == y)"
   ]
  },
  {
   "cell_type": "code",
   "execution_count": 24,
   "id": "bca32ebb",
   "metadata": {},
   "outputs": [
    {
     "name": "stdout",
     "output_type": "stream",
     "text": [
      "False\n"
     ]
    }
   ],
   "source": [
    "print(x != y)"
   ]
  },
  {
   "cell_type": "code",
   "execution_count": 22,
   "id": "0e03e87a",
   "metadata": {},
   "outputs": [
    {
     "name": "stdout",
     "output_type": "stream",
     "text": [
      "True\n"
     ]
    }
   ],
   "source": [
    "print(x >= y)"
   ]
  },
  {
   "cell_type": "code",
   "execution_count": 23,
   "id": "01661bd4",
   "metadata": {},
   "outputs": [
    {
     "name": "stdout",
     "output_type": "stream",
     "text": [
      "True\n"
     ]
    }
   ],
   "source": [
    "print(x <= y)"
   ]
  },
  {
   "cell_type": "markdown",
   "id": "9e92c0cd",
   "metadata": {},
   "source": [
    "## Logical Operator\n",
    "\n",
    "Logical operators are as follows:\n",
    "\n",
    "* `and` : returns true if expressions on both side is true\n",
    "* `or` : returns true if either of the expressions on both side is true\n",
    "* `not` : reverses the logical state of the expression"
   ]
  },
  {
   "cell_type": "code",
   "execution_count": 25,
   "id": "a78f648d",
   "metadata": {},
   "outputs": [],
   "source": [
    "x = 20\n",
    "y = -5"
   ]
  },
  {
   "cell_type": "code",
   "execution_count": 27,
   "id": "0e9f9735",
   "metadata": {},
   "outputs": [
    {
     "name": "stdout",
     "output_type": "stream",
     "text": [
      "True\n"
     ]
    }
   ],
   "source": [
    "print(x > 0 and y < 0)"
   ]
  },
  {
   "cell_type": "code",
   "execution_count": 28,
   "id": "5fe7d7d7",
   "metadata": {},
   "outputs": [
    {
     "name": "stdout",
     "output_type": "stream",
     "text": [
      "True\n"
     ]
    }
   ],
   "source": [
    "print(x > 0 or y > 0)"
   ]
  },
  {
   "cell_type": "code",
   "execution_count": 30,
   "id": "6f61fb59",
   "metadata": {},
   "outputs": [
    {
     "name": "stdout",
     "output_type": "stream",
     "text": [
      "None\n"
     ]
    }
   ],
   "source": [
    "print(x > 0 and None)"
   ]
  },
  {
   "cell_type": "code",
   "execution_count": 29,
   "id": "336e0c72",
   "metadata": {},
   "outputs": [
    {
     "name": "stdout",
     "output_type": "stream",
     "text": [
      "-5\n",
      "None\n"
     ]
    }
   ],
   "source": [
    "print(x > 0 and print(y))"
   ]
  },
  {
   "cell_type": "code",
   "execution_count": 32,
   "id": "17473392",
   "metadata": {},
   "outputs": [
    {
     "name": "stdout",
     "output_type": "stream",
     "text": [
      "-5\n",
      "True\n"
     ]
    }
   ],
   "source": [
    "print(print(y) or x > 0)"
   ]
  },
  {
   "cell_type": "code",
   "execution_count": 39,
   "id": "76603b7a",
   "metadata": {},
   "outputs": [
    {
     "name": "stdout",
     "output_type": "stream",
     "text": [
      "True\n",
      "False\n"
     ]
    }
   ],
   "source": [
    "x = -223\n",
    "print(bool(x))\n",
    "print(not x)"
   ]
  },
  {
   "cell_type": "markdown",
   "id": "2f85c0dd",
   "metadata": {},
   "source": [
    "## Bitwise Operator\n",
    "\n",
    "Bitwise operator works on numbers as if they are in binary i.e. they operate on bits and performs bit by bit operation. \n",
    "\n",
    "* `&` : Bitwise AND\t\n",
    "* `|` :\tBitwise OR\t\n",
    "* `~` :\tBitwise NOT\t\n",
    "* `^` :\tBitwise XOR\t\n",
    "* `>>` : Bitwise right shift\t\n",
    "* `<<` : Bitwise left shift\t\n",
    "\n",
    "\n",
    "Binary representation of `2` is `10` and `3` is `11`.\n",
    "\n",
    "If we do `2 & 3`, we are performing `10 & 11` it will be compared bit by bit and the output will be `2`."
   ]
  },
  {
   "cell_type": "code",
   "execution_count": 68,
   "id": "6bf5e2b1",
   "metadata": {},
   "outputs": [
    {
     "data": {
      "text/plain": [
       "36"
      ]
     },
     "execution_count": 68,
     "metadata": {},
     "output_type": "execute_result"
    }
   ],
   "source": [
    "(1 * 2 ** 5) + (0 * 2 ** 4) + (0 * 2 ** 3) + (1 * 2 ** 2) + (0 * 2 ** 1) + (0 * 2 ** 0)"
   ]
  },
  {
   "cell_type": "code",
   "execution_count": 42,
   "id": "a32663fe",
   "metadata": {},
   "outputs": [
    {
     "name": "stdout",
     "output_type": "stream",
     "text": [
      "2\n"
     ]
    }
   ],
   "source": [
    "# 10\n",
    "# 11\n",
    "print(2 & 3)"
   ]
  },
  {
   "cell_type": "code",
   "execution_count": 56,
   "id": "9ebe728d",
   "metadata": {},
   "outputs": [
    {
     "name": "stdout",
     "output_type": "stream",
     "text": [
      "9\n"
     ]
    }
   ],
   "source": [
    "x = 11 # 1011\n",
    "y = 9  # 1001\n",
    "print(x & y)"
   ]
  },
  {
   "cell_type": "code",
   "execution_count": 57,
   "id": "a63558cb",
   "metadata": {},
   "outputs": [
    {
     "name": "stdout",
     "output_type": "stream",
     "text": [
      "11\n"
     ]
    }
   ],
   "source": [
    "print(x | y)"
   ]
  },
  {
   "cell_type": "code",
   "execution_count": 50,
   "id": "69062c2f",
   "metadata": {},
   "outputs": [
    {
     "data": {
      "text/plain": [
       "'0b1110000'"
      ]
     },
     "execution_count": 50,
     "metadata": {},
     "output_type": "execute_result"
    }
   ],
   "source": [
    "bin(112)"
   ]
  },
  {
   "cell_type": "code",
   "execution_count": 54,
   "id": "e2b5e772",
   "metadata": {},
   "outputs": [
    {
     "name": "stdout",
     "output_type": "stream",
     "text": [
      "-124\n"
     ]
    }
   ],
   "source": [
    "x = 123\n",
    "# -x - 1\n",
    "print(~x)"
   ]
  },
  {
   "cell_type": "code",
   "execution_count": 58,
   "id": "a23bdb0d",
   "metadata": {},
   "outputs": [
    {
     "name": "stdout",
     "output_type": "stream",
     "text": [
      "2\n"
     ]
    }
   ],
   "source": [
    "print(x ^ y)"
   ]
  },
  {
   "cell_type": "code",
   "execution_count": 61,
   "id": "314ce6df",
   "metadata": {},
   "outputs": [
    {
     "data": {
      "text/plain": [
       "'0b1011'"
      ]
     },
     "execution_count": 61,
     "metadata": {},
     "output_type": "execute_result"
    }
   ],
   "source": [
    "bin(x)"
   ]
  },
  {
   "cell_type": "code",
   "execution_count": null,
   "id": "21394528",
   "metadata": {},
   "outputs": [],
   "source": [
    "#1011\n",
    "#0101\n",
    "#0010\n",
    "\n",
    "#101100"
   ]
  },
  {
   "cell_type": "code",
   "execution_count": null,
   "id": "eb0eb611",
   "metadata": {},
   "outputs": [],
   "source": [
    "# 00001011\n",
    "# 00101100\n",
    "# 00000010\n",
    "# 00000101"
   ]
  },
  {
   "cell_type": "code",
   "execution_count": 62,
   "id": "98e8d49e",
   "metadata": {},
   "outputs": [
    {
     "name": "stdout",
     "output_type": "stream",
     "text": [
      "2\n"
     ]
    }
   ],
   "source": [
    "print(x >> 2)"
   ]
  },
  {
   "cell_type": "code",
   "execution_count": 66,
   "id": "351523a8",
   "metadata": {},
   "outputs": [
    {
     "name": "stdout",
     "output_type": "stream",
     "text": [
      "11\n"
     ]
    }
   ],
   "source": [
    "print(x)"
   ]
  },
  {
   "cell_type": "code",
   "execution_count": 67,
   "id": "874d41e1",
   "metadata": {},
   "outputs": [
    {
     "name": "stdout",
     "output_type": "stream",
     "text": [
      "44\n"
     ]
    }
   ],
   "source": [
    "print(x << 2)"
   ]
  },
  {
   "cell_type": "code",
   "execution_count": 64,
   "id": "69807e0c",
   "metadata": {},
   "outputs": [
    {
     "data": {
      "text/plain": [
       "'0b101100'"
      ]
     },
     "execution_count": 64,
     "metadata": {},
     "output_type": "execute_result"
    }
   ],
   "source": [
    "bin(x << 2)"
   ]
  },
  {
   "cell_type": "markdown",
   "id": "e65b94eb",
   "metadata": {},
   "source": [
    "## Assignment Operator\n",
    "\n",
    "Assignment operators are used in Python to assign values to variables.\n",
    "\n",
    "`=` equals to is the most basic assignment operator, and in a statement like `x = 2`, assignment operator assigns the value of `2` to `x`.\n",
    "\n",
    "There are shorthand operators as well, like `x += 2` which is equivalent to `x = x + 2`."
   ]
  },
  {
   "cell_type": "code",
   "execution_count": 69,
   "id": "afdc394f",
   "metadata": {},
   "outputs": [],
   "source": [
    "x = 50"
   ]
  },
  {
   "cell_type": "code",
   "execution_count": 70,
   "id": "045371d7",
   "metadata": {},
   "outputs": [
    {
     "name": "stdout",
     "output_type": "stream",
     "text": [
      "55\n"
     ]
    }
   ],
   "source": [
    "x += 5\n",
    "print(x)"
   ]
  },
  {
   "cell_type": "code",
   "execution_count": 71,
   "id": "314c0e70",
   "metadata": {},
   "outputs": [
    {
     "name": "stdout",
     "output_type": "stream",
     "text": [
      "45\n"
     ]
    }
   ],
   "source": [
    "x -= 10\n",
    "# x = x-10\n",
    "print(x)"
   ]
  },
  {
   "cell_type": "code",
   "execution_count": 72,
   "id": "aa63cb8f",
   "metadata": {},
   "outputs": [
    {
     "name": "stdout",
     "output_type": "stream",
     "text": [
      "90\n"
     ]
    }
   ],
   "source": [
    "x *= 2\n",
    "print(x)"
   ]
  },
  {
   "cell_type": "code",
   "execution_count": 73,
   "id": "84090e15",
   "metadata": {},
   "outputs": [
    {
     "name": "stdout",
     "output_type": "stream",
     "text": [
      "45.0\n"
     ]
    }
   ],
   "source": [
    "x /= 2\n",
    "print(x)"
   ]
  },
  {
   "cell_type": "code",
   "execution_count": 75,
   "id": "2ba4e157",
   "metadata": {},
   "outputs": [
    {
     "name": "stdout",
     "output_type": "stream",
     "text": [
      "3\n"
     ]
    }
   ],
   "source": [
    "x = 45\n",
    "x %= 6\n",
    "print(x)"
   ]
  },
  {
   "cell_type": "code",
   "execution_count": 76,
   "id": "0d74b2a1",
   "metadata": {},
   "outputs": [
    {
     "name": "stdout",
     "output_type": "stream",
     "text": [
      "10\n"
     ]
    }
   ],
   "source": [
    "x = 52\n",
    "x //= 5\n",
    "print(x)"
   ]
  },
  {
   "cell_type": "code",
   "execution_count": 77,
   "id": "59fb9472",
   "metadata": {},
   "outputs": [
    {
     "name": "stdout",
     "output_type": "stream",
     "text": [
      "100\n"
     ]
    }
   ],
   "source": [
    "x **= 2\n",
    "print(x)"
   ]
  },
  {
   "cell_type": "code",
   "execution_count": 78,
   "id": "a15a5de0",
   "metadata": {},
   "outputs": [
    {
     "name": "stdout",
     "output_type": "stream",
     "text": [
      "1\n"
     ]
    }
   ],
   "source": [
    "x = 5 # 101\n",
    "x &= 3 # 011\n",
    "print(x)"
   ]
  },
  {
   "cell_type": "code",
   "execution_count": 79,
   "id": "0375568b",
   "metadata": {},
   "outputs": [
    {
     "name": "stdout",
     "output_type": "stream",
     "text": [
      "5\n"
     ]
    }
   ],
   "source": [
    "x |= 5\n",
    "print(x)"
   ]
  },
  {
   "cell_type": "code",
   "execution_count": 80,
   "id": "c4c0bb32",
   "metadata": {},
   "outputs": [
    {
     "name": "stdout",
     "output_type": "stream",
     "text": [
      "6\n"
     ]
    }
   ],
   "source": [
    "x = 5  # 101\n",
    "x ^= 3 # 011\n",
    "print(x)"
   ]
  },
  {
   "cell_type": "code",
   "execution_count": 81,
   "id": "28dcf9de",
   "metadata": {},
   "outputs": [
    {
     "name": "stdout",
     "output_type": "stream",
     "text": [
      "1\n"
     ]
    }
   ],
   "source": [
    "x >>= 2\n",
    "print(x)"
   ]
  },
  {
   "cell_type": "code",
   "execution_count": 82,
   "id": "1bcd1c42",
   "metadata": {},
   "outputs": [
    {
     "data": {
      "text/plain": [
       "'0b1'"
      ]
     },
     "execution_count": 82,
     "metadata": {},
     "output_type": "execute_result"
    }
   ],
   "source": [
    "bin(x)"
   ]
  },
  {
   "cell_type": "code",
   "execution_count": null,
   "id": "37057280",
   "metadata": {},
   "outputs": [],
   "source": [
    "# 100"
   ]
  },
  {
   "cell_type": "code",
   "execution_count": 83,
   "id": "1b2673bd",
   "metadata": {},
   "outputs": [
    {
     "name": "stdout",
     "output_type": "stream",
     "text": [
      "4\n"
     ]
    }
   ],
   "source": [
    "x <<= 2\n",
    "print(x)"
   ]
  },
  {
   "cell_type": "markdown",
   "id": "fd8a2a1b",
   "metadata": {},
   "source": [
    "## Special Operators\n",
    "\n",
    "We have two types of special operators, the identity operator and the membership operator.\n",
    "\n",
    "`is` and `is not` are Identity operators. They are used to check if two values (or variables) are located on the same part of the memory. Two variables that are equal does not imply that they are identical."
   ]
  },
  {
   "cell_type": "code",
   "execution_count": 84,
   "id": "609361c2",
   "metadata": {},
   "outputs": [],
   "source": [
    "x = 2\n",
    "y = 2"
   ]
  },
  {
   "cell_type": "code",
   "execution_count": 90,
   "id": "6bf78103",
   "metadata": {},
   "outputs": [],
   "source": [
    "x = 2\n",
    "y = 3"
   ]
  },
  {
   "cell_type": "code",
   "execution_count": 92,
   "id": "c3f2a5f0",
   "metadata": {},
   "outputs": [
    {
     "name": "stdout",
     "output_type": "stream",
     "text": [
      "2164107798864\n",
      "2164107798864\n",
      "2164107798896\n"
     ]
    }
   ],
   "source": [
    "print(id(2))\n",
    "print(id(x))\n",
    "print(id(y))"
   ]
  },
  {
   "cell_type": "code",
   "execution_count": 93,
   "id": "c9f12918",
   "metadata": {},
   "outputs": [
    {
     "name": "stdout",
     "output_type": "stream",
     "text": [
      "2164107799760\n"
     ]
    }
   ],
   "source": [
    "print(id(30))"
   ]
  },
  {
   "cell_type": "code",
   "execution_count": 94,
   "id": "0a86c3ac",
   "metadata": {},
   "outputs": [
    {
     "name": "stdout",
     "output_type": "stream",
     "text": [
      "2164107799760\n"
     ]
    }
   ],
   "source": [
    "x = 30\n",
    "print(id(x))"
   ]
  },
  {
   "cell_type": "code",
   "execution_count": 95,
   "id": "5293ac54",
   "metadata": {},
   "outputs": [
    {
     "name": "stdout",
     "output_type": "stream",
     "text": [
      "2164107799760\n"
     ]
    }
   ],
   "source": [
    "y = 30 \n",
    "print(id(y))"
   ]
  },
  {
   "cell_type": "code",
   "execution_count": 91,
   "id": "a64e0967",
   "metadata": {},
   "outputs": [
    {
     "data": {
      "text/plain": [
       "False"
      ]
     },
     "execution_count": 91,
     "metadata": {},
     "output_type": "execute_result"
    }
   ],
   "source": [
    "x is y"
   ]
  },
  {
   "cell_type": "code",
   "execution_count": 102,
   "id": "97d9ce58",
   "metadata": {},
   "outputs": [],
   "source": [
    "x = [1,2,3]\n",
    "y = [1,2,3]"
   ]
  },
  {
   "cell_type": "code",
   "execution_count": 99,
   "id": "fa1532b1",
   "metadata": {},
   "outputs": [
    {
     "data": {
      "text/plain": [
       "True"
      ]
     },
     "execution_count": 99,
     "metadata": {},
     "output_type": "execute_result"
    }
   ],
   "source": [
    "x is not y"
   ]
  },
  {
   "cell_type": "code",
   "execution_count": 100,
   "id": "fb9552e9",
   "metadata": {},
   "outputs": [
    {
     "name": "stdout",
     "output_type": "stream",
     "text": [
      "2164181570112\n"
     ]
    }
   ],
   "source": [
    "print(id([1,2]))"
   ]
  },
  {
   "cell_type": "code",
   "execution_count": 103,
   "id": "16ec6296",
   "metadata": {},
   "outputs": [
    {
     "name": "stdout",
     "output_type": "stream",
     "text": [
      "2164181697024\n",
      "2164181717376\n"
     ]
    }
   ],
   "source": [
    "print(id(x))\n",
    "print(id(y))"
   ]
  },
  {
   "cell_type": "markdown",
   "id": "23e4d96f",
   "metadata": {},
   "source": [
    "`in` and `not in` are the membership operators in Python. They are used to test whether a value or variable is found in a sequence (string, list, tuple, set and dictionary).\n",
    "\n",
    "Note : In a dictionary we can only test for presence of key, not the value."
   ]
  },
  {
   "cell_type": "code",
   "execution_count": 104,
   "id": "1e64d7aa",
   "metadata": {},
   "outputs": [
    {
     "data": {
      "text/plain": [
       "True"
      ]
     },
     "execution_count": 104,
     "metadata": {},
     "output_type": "execute_result"
    }
   ],
   "source": [
    "x = [2,5,7]\n",
    "5 in x"
   ]
  },
  {
   "cell_type": "code",
   "execution_count": 105,
   "id": "17a3cac6",
   "metadata": {},
   "outputs": [
    {
     "data": {
      "text/plain": [
       "False"
      ]
     },
     "execution_count": 105,
     "metadata": {},
     "output_type": "execute_result"
    }
   ],
   "source": [
    "10 in x"
   ]
  },
  {
   "cell_type": "code",
   "execution_count": 106,
   "id": "588436c0",
   "metadata": {},
   "outputs": [
    {
     "data": {
      "text/plain": [
       "True"
      ]
     },
     "execution_count": 106,
     "metadata": {},
     "output_type": "execute_result"
    }
   ],
   "source": [
    "10 not in x"
   ]
  },
  {
   "cell_type": "markdown",
   "id": "fb96ef1f",
   "metadata": {},
   "source": [
    "# Contional Statements in python\n",
    "\n",
    "Sometimes we want to excute certain steps only if some conditions are met, we achieve this using conditional statements. \n",
    "\n",
    "The `if elif else` statement is used in Python for decision making."
   ]
  },
  {
   "cell_type": "code",
   "execution_count": 107,
   "id": "e1997bb0",
   "metadata": {},
   "outputs": [
    {
     "name": "stdout",
     "output_type": "stream",
     "text": [
      "5 is grater than 0\n"
     ]
    }
   ],
   "source": [
    "x = 5\n",
    "if x > 0:\n",
    "    print(x, 'is grater than 0')"
   ]
  },
  {
   "cell_type": "code",
   "execution_count": 110,
   "id": "544a1b80",
   "metadata": {},
   "outputs": [
    {
     "name": "stdout",
     "output_type": "stream",
     "text": [
      "5 is grater than 0\n",
      "hello\n"
     ]
    }
   ],
   "source": [
    "x = 5\n",
    "if x > 0:\n",
    "    print(x, 'is grater than 0')\n",
    "else:\n",
    "    print(x, 'is less than 0') \n",
    "print('hello')"
   ]
  },
  {
   "cell_type": "code",
   "execution_count": 115,
   "id": "13e11f98",
   "metadata": {},
   "outputs": [
    {
     "name": "stdout",
     "output_type": "stream",
     "text": [
      "5 is grater than 0\n"
     ]
    }
   ],
   "source": [
    "x = 5\n",
    "if x > 5:\n",
    "    print(x, 'is grater than 5')\n",
    "elif x > 0:\n",
    "    print(x, 'is grater than 0')\n",
    "else:\n",
    "    print(x, 'is less than 0') "
   ]
  },
  {
   "cell_type": "code",
   "execution_count": 112,
   "id": "b6b2fca7",
   "metadata": {},
   "outputs": [
    {
     "name": "stdout",
     "output_type": "stream",
     "text": [
      "5 is grater than 0\n",
      "5 is not greater than 6\n"
     ]
    }
   ],
   "source": [
    "x = 5\n",
    "if x > 0:\n",
    "    print(x, 'is grater than 0')\n",
    "    if x > 6:\n",
    "        print(x, 'is grater than 6')\n",
    "    else:\n",
    "        print(x, 'is not greater than 6')\n",
    "else:\n",
    "    print(x, 'is less than 0')    "
   ]
  },
  {
   "cell_type": "code",
   "execution_count": 113,
   "id": "fb297c87",
   "metadata": {},
   "outputs": [
    {
     "name": "stdout",
     "output_type": "stream",
     "text": [
      "5\n"
     ]
    }
   ],
   "source": [
    "print(x) if x > 0 else print('hello')"
   ]
  },
  {
   "cell_type": "code",
   "execution_count": 114,
   "id": "cb5ca277",
   "metadata": {},
   "outputs": [
    {
     "name": "stdout",
     "output_type": "stream",
     "text": [
      "hello\n"
     ]
    }
   ],
   "source": [
    "x = -1\n",
    "print(x) if x > 0 else print('hello')"
   ]
  },
  {
   "cell_type": "code",
   "execution_count": null,
   "id": "9d8bb80f",
   "metadata": {},
   "outputs": [],
   "source": []
  }
 ],
 "metadata": {
  "kernelspec": {
   "display_name": "Python 3.9.5 64-bit",
   "language": "python",
   "name": "python395jvsc74a57bd0b8dfcc4a6243885f100527393eda4351d2397a0a9d4c07ea3031d7aee9b8c635"
  },
  "language_info": {
   "codemirror_mode": {
    "name": "ipython",
    "version": 3
   },
   "file_extension": ".py",
   "mimetype": "text/x-python",
   "name": "python",
   "nbconvert_exporter": "python",
   "pygments_lexer": "ipython3",
   "version": "3.9.5"
  }
 },
 "nbformat": 4,
 "nbformat_minor": 5
}
